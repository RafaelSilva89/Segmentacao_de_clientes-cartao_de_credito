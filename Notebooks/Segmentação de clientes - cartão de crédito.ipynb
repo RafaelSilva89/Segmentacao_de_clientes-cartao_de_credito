{
 "cells": [
  {
   "cell_type": "markdown",
   "id": "96514506",
   "metadata": {},
   "source": [
    "# <font color='red'> 1 - ENTENDIMENTO DO NEGÓCIO\n",
    "<a id='descricao'></a>"
   ]
  },
  {
   "cell_type": "markdown",
   "id": "196ec354",
   "metadata": {},
   "source": [
    "## <font color='blue'> DESCRIÇÃO DO NEGÓCIO"
   ]
  },
  {
   "cell_type": "markdown",
   "id": "503174c9",
   "metadata": {},
   "source": [
    "- Base de dados é um conjunto de dados de cartão de crédito: https://www.kaggle.com/arjunbhasin2013/ccdata"
   ]
  },
  {
   "cell_type": "markdown",
   "id": "34c55b6a",
   "metadata": {
    "ExecuteTime": {
     "end_time": "2022-09-28T13:34:56.396894Z",
     "start_time": "2022-09-28T13:34:56.375664Z"
    }
   },
   "source": [
    "<font color='green'> **Objetivo:**\n",
    "- Fazer uma segmentação de clientes para definir uma estratégia de marketing."
   ]
  },
  {
   "cell_type": "markdown",
   "id": "23e26467",
   "metadata": {},
   "source": [
    "<font color='green'> **O contexto:**\n",
    "\n",
    "- Hoje sabemos que é de fundamental importância segmentar os nossos clientes para saber qual o padrão de consumo de cada um, e saber quais clientes estão mais propensos a comprar determinados tipos e marcas de produtos.\n",
    "- Um dos pontos cruciais de marketing é conhecer os clientes e identificar suas necessidades e entendendo os consumidores podemos enviar campanhas específicas para necessidades específicas e se dados sobre os clientes estão disponíveis, podemos aplicar Ciência de Dados para segmentar o mercado.\n",
    "- O conjunto de dados de amostra resume o comportamento de uso de cerca de 9.000 portadores de cartão de crédito ativos durante os últimos 6 meses."
   ]
  },
  {
   "cell_type": "markdown",
   "id": "6cb66905",
   "metadata": {},
   "source": [
    "<font color='green'> **Causa raiz do problema:**\n",
    "- O departamento de marketing precisa enviar campanhas personalizadas dependendo do tipo de cliente."
   ]
  },
  {
   "cell_type": "markdown",
   "id": "2ffbd8d8",
   "metadata": {
    "ExecuteTime": {
     "end_time": "2022-09-28T11:20:49.827979Z",
     "start_time": "2022-09-28T11:20:49.803980Z"
    }
   },
   "source": [
    "<font color='green'> **Stakeholder:**\n",
    "- Gerente de estratégia de marketing."
   ]
  },
  {
   "cell_type": "markdown",
   "id": "c50296c2",
   "metadata": {},
   "source": [
    "<font color='green'> **O formato da solução:**\n",
    "- Granularidade\n",
    "    - A granularidade do modelo poderia ser a nível individual, ou seja, para cada usuário será criado um perfil de preferências com base nas suas características e histórico de compras.\n",
    "    \n",
    "    \n",
    "- Tipo do problema\n",
    "    - O problema é de segmentação de clientes com base em suas personalidades para direcionar melhor os esforços de marketing e aumentar a probabilidade de sucesso na comercialização de um novo produto.\n",
    "    \n",
    "    \n",
    "- Potenciais métodos\n",
    "    - Análise de cluster com K-Means, árvore de decisão, regressão logística, redes neurais.\n",
    "    \n",
    "    \n",
    "- Formato da entrega\n",
    "    - Relatório com as segmentações de clientes e recomendações de estratégias de marketing personalizadas para cada segmento.\n",
    "    \n",
    "\n",
    "**Resumo:** O departamento de marketing precisa segmentar os clientes para enviar campanhas personalizadas. A solução pode ser encontrada por meio de técnicas de Ciência de Dados, como análise de cluster, árvore de decisão, regressão logística e redes neurais. A entrega será um relatório com as segmentações de clientes e recomendações de estratégias de marketing personalizadas para cada segmento."
   ]
  },
  {
   "cell_type": "markdown",
   "id": "172f2dc8",
   "metadata": {
    "ExecuteTime": {
     "end_time": "2022-10-04T21:09:13.772046Z",
     "start_time": "2022-10-04T21:09:13.756028Z"
    }
   },
   "source": [
    "## <font color='blue'> PLANEJAMENTO DA SOLUÇÃO"
   ]
  },
  {
   "cell_type": "markdown",
   "id": "8aa2c030",
   "metadata": {},
   "source": [
    "**O pipeline ideal para ciência de dados depende do contexto específico de cada projeto e da organização em que o trabalho está sendo realizado.**\n",
    "\n",
    "<font color='red'> **O planejamento da solução para este projeto se baseia nas seguintes etapas:**"
   ]
  },
  {
   "cell_type": "markdown",
   "id": "c58a22ed",
   "metadata": {},
   "source": [
    "0. **ENTENDIMENTO DO NEGÓCIO**\n",
    "<p>Definição do problema: É importante definir claramente qual é o problema a ser resolvido ou a pergunta a ser respondida. É preciso entender o objetivo do projeto e a relevância do problema.</p>\n",
    "\n",
    "    - Descrição do negócio\n",
    "    - Planejamento da solução\n",
    "\n",
    "\n",
    "2. **COLETA DOS DADOS**\n",
    "<p>Coleta de dados: Nesta etapa, os dados são coletados a partir de diversas fontes, como bases de dados, APIs, arquivos de texto, imagens, etc.</p>\n",
    "\n",
    "    - **Passo 0.0:** Biblioteca\n",
    "    - **Passo 0.1:** Carregando dos dados\n",
    "    \n",
    "    \n",
    "3. **LIMPEZA DOS DADOS**\n",
    "<p>Limpeza dos dados: Esta etapa consiste na descrição estatística dos dados coletados, como média, mediana, desvio padrão, entre outros. É importante entender os dados coletados, avaliar a qualidade dos dados e identificar quaisquer problemas ou limitações.</p>\n",
    "\n",
    "    - **Passo 1:** Análise Descritiva dos Dados\n",
    "    - **Passo 2:** Filtragem das Variáveis\n",
    "    \n",
    "    \n",
    "4. **ANÁLISE EXPLORATÓRIA DOS DADOS**\n",
    "<p>Análise exploratória de dados: Nesta etapa, os dados são visualizados e analisados graficamente para identificar padrões e relações entre as variáveis.</p>\n",
    "\n",
    "    - **Passo 3:** Exploração de Dados\n",
    "    \n",
    "    \n",
    "5. **PREPARAÇÃO DOS DADOS**\n",
    "<p>Preparação de dados ou Pré-processamento de dados: Nesta etapa, os dados são limpos, transformados e preparados para serem utilizados no modelo de machine learning. Isto inclui tarefas como normalização, codificação, preenchimento de valores ausentes, remoção de outliers, etc.</p>\n",
    "\n",
    "    - **Passo 4:** Modelagem dos Dados\n",
    "    \n",
    "    \n",
    "6. **TREINAMENTO ALGORITMOS DE MACHINE LEARNING**\n",
    "<p>Modelagem ou Seleção do modelo: Nesta etapa, um modelo de machine learning é escolhido com base na tarefa a ser realizada e nos dados disponíveis.</p>\n",
    "\n",
    "    - **Passo 5:** Algoritmos de Machine Learning\n",
    "    \n",
    "    \n",
    "7. **AVALIAÇÃO DO ALGORITMO**\n",
    "<p>Avaliação do modelo: Nesta etapa, o desempenho do modelo é avaliado utilizando métricas adequadas para o tipo de problema e modelo utilizado.</p>\n",
    "\n",
    "    - **Passo 6:** Tradução e Interpretação do modelo\n",
    "\n",
    "\n",
    "8. **IMPLEMENTAR O MODELO PARA A PRODUÇÃO**\n",
    "<p>Implantação: Nesta etapa, o modelo é implantado em um ambiente de produção para utilização em situações reais para resolver o problema.</p>\n",
    "\n",
    "    - **Passo 7:** Modelo em Produção\n",
    "    \n",
    "    \n",
    "9.  **INSIGHTS**\n",
    "<p>Nesta etapa, são identificadas as principais descobertas e conclusões do projeto.</p>\n",
    "\n",
    "\n",
    "10. **PRÓXIMO PASSOS**\n",
    "<p>Nesta etapa, são definidos os próximos passos a serem tomados com base nos resultados obtidos e nos insights identificados. Isso pode incluir melhorias no modelo existente, coleta de mais dados, exploração de diferentes modelos, entre outros.</p>"
   ]
  },
  {
   "cell_type": "markdown",
   "id": "b15ce1ec",
   "metadata": {},
   "source": [
    "# <font color='red'> 2 - COLETA DOS DADOS\n",
    "<a id='dados'></a>"
   ]
  },
  {
   "cell_type": "markdown",
   "id": "75b4a784",
   "metadata": {
    "ExecuteTime": {
     "end_time": "2022-09-26T23:23:10.774060Z",
     "start_time": "2022-09-26T23:23:10.758054Z"
    }
   },
   "source": [
    "## <font color='blue'> PASSO 0.0 - Biblioteca"
   ]
  },
  {
   "cell_type": "code",
   "execution_count": 1,
   "id": "0e54f99a",
   "metadata": {
    "ExecuteTime": {
     "end_time": "2023-04-26T19:52:33.464790Z",
     "start_time": "2023-04-26T19:52:28.692979Z"
    }
   },
   "outputs": [],
   "source": [
    "import pandas as pd\n",
    "import numpy as np\n",
    "import seaborn as sns\n",
    "import matplotlib.pyplot as plt\n",
    "import inflection\n",
    "\n",
    "\n",
    "from sklearn.preprocessing      import StandardScaler # Para colocar os dados em uma mesma escala\n",
    "from sklearn.cluster            import KMeans # Algoritmo para fazer a segmentação de mercado ou agrupamento dos clientes\n",
    "from sklearn.decomposition      import PCA # Para redução de dimensionalidade dos dados\n",
    "from sklearn                    import metrics   as mt\n",
    "from sklearn.metrics            import silhouette_score"
   ]
  },
  {
   "cell_type": "markdown",
   "id": "70c38ffb",
   "metadata": {},
   "source": [
    "## <font color='blue'> PASSO 0.1 - Carregando dos dados"
   ]
  },
  {
   "cell_type": "code",
   "execution_count": 2,
   "id": "5667e6dc",
   "metadata": {
    "ExecuteTime": {
     "end_time": "2023-04-26T19:52:33.589362Z",
     "start_time": "2023-04-26T19:52:33.464790Z"
    }
   },
   "outputs": [],
   "source": [
    "df_clientes = pd.read_csv('Datasets/Marketing_data.csv')"
   ]
  },
  {
   "cell_type": "code",
   "execution_count": 3,
   "id": "52966776",
   "metadata": {
    "ExecuteTime": {
     "end_time": "2023-04-26T19:52:33.605306Z",
     "start_time": "2023-04-26T19:52:33.589362Z"
    }
   },
   "outputs": [],
   "source": [
    "pd.set_option('display.max_columns',None)"
   ]
  },
  {
   "cell_type": "markdown",
   "id": "7d23dff5",
   "metadata": {},
   "source": [
    "# <font color='red'> 3 - LIMPEZA DOS DADOS\n",
    "<a id='definicao'></a>"
   ]
  },
  {
   "cell_type": "markdown",
   "id": "3d85e168",
   "metadata": {},
   "source": [
    "## <font color='blue'> PASSO 1 - Análise Descritiva dos Dados\n",
    "<a id='passo1'></a>"
   ]
  },
  {
   "cell_type": "markdown",
   "id": "2c81ed18",
   "metadata": {},
   "source": [
    "### <font color='#F37126'> 1.1. Leitura dos dados"
   ]
  },
  {
   "cell_type": "markdown",
   "id": "9e91b1eb",
   "metadata": {},
   "source": [
    "**Importar e visualizar a base de dados**"
   ]
  },
  {
   "cell_type": "code",
   "execution_count": 4,
   "id": "6bac3fc0",
   "metadata": {
    "ExecuteTime": {
     "end_time": "2023-04-26T19:52:33.673474Z",
     "start_time": "2023-04-26T19:52:33.605306Z"
    }
   },
   "outputs": [
    {
     "data": {
      "text/html": [
       "<div>\n",
       "<style scoped>\n",
       "    .dataframe tbody tr th:only-of-type {\n",
       "        vertical-align: middle;\n",
       "    }\n",
       "\n",
       "    .dataframe tbody tr th {\n",
       "        vertical-align: top;\n",
       "    }\n",
       "\n",
       "    .dataframe thead th {\n",
       "        text-align: right;\n",
       "    }\n",
       "</style>\n",
       "<table border=\"1\" class=\"dataframe\">\n",
       "  <thead>\n",
       "    <tr style=\"text-align: right;\">\n",
       "      <th></th>\n",
       "      <th>CUST_ID</th>\n",
       "      <th>BALANCE</th>\n",
       "      <th>BALANCE_FREQUENCY</th>\n",
       "      <th>PURCHASES</th>\n",
       "      <th>ONEOFF_PURCHASES</th>\n",
       "      <th>INSTALLMENTS_PURCHASES</th>\n",
       "      <th>CASH_ADVANCE</th>\n",
       "      <th>PURCHASES_FREQUENCY</th>\n",
       "      <th>ONEOFF_PURCHASES_FREQUENCY</th>\n",
       "      <th>PURCHASES_INSTALLMENTS_FREQUENCY</th>\n",
       "      <th>CASH_ADVANCE_FREQUENCY</th>\n",
       "      <th>CASH_ADVANCE_TRX</th>\n",
       "      <th>PURCHASES_TRX</th>\n",
       "      <th>CREDIT_LIMIT</th>\n",
       "      <th>PAYMENTS</th>\n",
       "      <th>MINIMUM_PAYMENTS</th>\n",
       "      <th>PRC_FULL_PAYMENT</th>\n",
       "      <th>TENURE</th>\n",
       "    </tr>\n",
       "  </thead>\n",
       "  <tbody>\n",
       "    <tr>\n",
       "      <th>0</th>\n",
       "      <td>C10001</td>\n",
       "      <td>40.900749</td>\n",
       "      <td>0.818182</td>\n",
       "      <td>95.40</td>\n",
       "      <td>0.00</td>\n",
       "      <td>95.4</td>\n",
       "      <td>0.000000</td>\n",
       "      <td>0.166667</td>\n",
       "      <td>0.000000</td>\n",
       "      <td>0.083333</td>\n",
       "      <td>0.000000</td>\n",
       "      <td>0</td>\n",
       "      <td>2</td>\n",
       "      <td>1000.0</td>\n",
       "      <td>201.802084</td>\n",
       "      <td>139.509787</td>\n",
       "      <td>0.000000</td>\n",
       "      <td>12</td>\n",
       "    </tr>\n",
       "    <tr>\n",
       "      <th>1</th>\n",
       "      <td>C10002</td>\n",
       "      <td>3202.467416</td>\n",
       "      <td>0.909091</td>\n",
       "      <td>0.00</td>\n",
       "      <td>0.00</td>\n",
       "      <td>0.0</td>\n",
       "      <td>6442.945483</td>\n",
       "      <td>0.000000</td>\n",
       "      <td>0.000000</td>\n",
       "      <td>0.000000</td>\n",
       "      <td>0.250000</td>\n",
       "      <td>4</td>\n",
       "      <td>0</td>\n",
       "      <td>7000.0</td>\n",
       "      <td>4103.032597</td>\n",
       "      <td>1072.340217</td>\n",
       "      <td>0.222222</td>\n",
       "      <td>12</td>\n",
       "    </tr>\n",
       "    <tr>\n",
       "      <th>2</th>\n",
       "      <td>C10003</td>\n",
       "      <td>2495.148862</td>\n",
       "      <td>1.000000</td>\n",
       "      <td>773.17</td>\n",
       "      <td>773.17</td>\n",
       "      <td>0.0</td>\n",
       "      <td>0.000000</td>\n",
       "      <td>1.000000</td>\n",
       "      <td>1.000000</td>\n",
       "      <td>0.000000</td>\n",
       "      <td>0.000000</td>\n",
       "      <td>0</td>\n",
       "      <td>12</td>\n",
       "      <td>7500.0</td>\n",
       "      <td>622.066742</td>\n",
       "      <td>627.284787</td>\n",
       "      <td>0.000000</td>\n",
       "      <td>12</td>\n",
       "    </tr>\n",
       "    <tr>\n",
       "      <th>3</th>\n",
       "      <td>C10004</td>\n",
       "      <td>1666.670542</td>\n",
       "      <td>0.636364</td>\n",
       "      <td>1499.00</td>\n",
       "      <td>1499.00</td>\n",
       "      <td>0.0</td>\n",
       "      <td>205.788017</td>\n",
       "      <td>0.083333</td>\n",
       "      <td>0.083333</td>\n",
       "      <td>0.000000</td>\n",
       "      <td>0.083333</td>\n",
       "      <td>1</td>\n",
       "      <td>1</td>\n",
       "      <td>7500.0</td>\n",
       "      <td>0.000000</td>\n",
       "      <td>NaN</td>\n",
       "      <td>0.000000</td>\n",
       "      <td>12</td>\n",
       "    </tr>\n",
       "    <tr>\n",
       "      <th>4</th>\n",
       "      <td>C10005</td>\n",
       "      <td>817.714335</td>\n",
       "      <td>1.000000</td>\n",
       "      <td>16.00</td>\n",
       "      <td>16.00</td>\n",
       "      <td>0.0</td>\n",
       "      <td>0.000000</td>\n",
       "      <td>0.083333</td>\n",
       "      <td>0.083333</td>\n",
       "      <td>0.000000</td>\n",
       "      <td>0.000000</td>\n",
       "      <td>0</td>\n",
       "      <td>1</td>\n",
       "      <td>1200.0</td>\n",
       "      <td>678.334763</td>\n",
       "      <td>244.791237</td>\n",
       "      <td>0.000000</td>\n",
       "      <td>12</td>\n",
       "    </tr>\n",
       "  </tbody>\n",
       "</table>\n",
       "</div>"
      ],
      "text/plain": [
       "  CUST_ID      BALANCE  BALANCE_FREQUENCY  PURCHASES  ONEOFF_PURCHASES  \\\n",
       "0  C10001    40.900749           0.818182      95.40              0.00   \n",
       "1  C10002  3202.467416           0.909091       0.00              0.00   \n",
       "2  C10003  2495.148862           1.000000     773.17            773.17   \n",
       "3  C10004  1666.670542           0.636364    1499.00           1499.00   \n",
       "4  C10005   817.714335           1.000000      16.00             16.00   \n",
       "\n",
       "   INSTALLMENTS_PURCHASES  CASH_ADVANCE  PURCHASES_FREQUENCY  \\\n",
       "0                    95.4      0.000000             0.166667   \n",
       "1                     0.0   6442.945483             0.000000   \n",
       "2                     0.0      0.000000             1.000000   \n",
       "3                     0.0    205.788017             0.083333   \n",
       "4                     0.0      0.000000             0.083333   \n",
       "\n",
       "   ONEOFF_PURCHASES_FREQUENCY  PURCHASES_INSTALLMENTS_FREQUENCY  \\\n",
       "0                    0.000000                          0.083333   \n",
       "1                    0.000000                          0.000000   \n",
       "2                    1.000000                          0.000000   \n",
       "3                    0.083333                          0.000000   \n",
       "4                    0.083333                          0.000000   \n",
       "\n",
       "   CASH_ADVANCE_FREQUENCY  CASH_ADVANCE_TRX  PURCHASES_TRX  CREDIT_LIMIT  \\\n",
       "0                0.000000                 0              2        1000.0   \n",
       "1                0.250000                 4              0        7000.0   \n",
       "2                0.000000                 0             12        7500.0   \n",
       "3                0.083333                 1              1        7500.0   \n",
       "4                0.000000                 0              1        1200.0   \n",
       "\n",
       "      PAYMENTS  MINIMUM_PAYMENTS  PRC_FULL_PAYMENT  TENURE  \n",
       "0   201.802084        139.509787          0.000000      12  \n",
       "1  4103.032597       1072.340217          0.222222      12  \n",
       "2   622.066742        627.284787          0.000000      12  \n",
       "3     0.000000               NaN          0.000000      12  \n",
       "4   678.334763        244.791237          0.000000      12  "
      ]
     },
     "execution_count": 4,
     "metadata": {},
     "output_type": "execute_result"
    }
   ],
   "source": [
    "df_clientes.head()"
   ]
  },
  {
   "cell_type": "code",
   "execution_count": 5,
   "id": "250396d1",
   "metadata": {
    "ExecuteTime": {
     "end_time": "2023-04-26T19:52:33.737469Z",
     "start_time": "2023-04-26T19:52:33.673474Z"
    }
   },
   "outputs": [
    {
     "data": {
      "text/html": [
       "<div>\n",
       "<style scoped>\n",
       "    .dataframe tbody tr th:only-of-type {\n",
       "        vertical-align: middle;\n",
       "    }\n",
       "\n",
       "    .dataframe tbody tr th {\n",
       "        vertical-align: top;\n",
       "    }\n",
       "\n",
       "    .dataframe thead th {\n",
       "        text-align: right;\n",
       "    }\n",
       "</style>\n",
       "<table border=\"1\" class=\"dataframe\">\n",
       "  <thead>\n",
       "    <tr style=\"text-align: right;\">\n",
       "      <th></th>\n",
       "      <th>CUST_ID</th>\n",
       "      <th>BALANCE</th>\n",
       "      <th>BALANCE_FREQUENCY</th>\n",
       "      <th>PURCHASES</th>\n",
       "      <th>ONEOFF_PURCHASES</th>\n",
       "      <th>INSTALLMENTS_PURCHASES</th>\n",
       "      <th>CASH_ADVANCE</th>\n",
       "      <th>PURCHASES_FREQUENCY</th>\n",
       "      <th>ONEOFF_PURCHASES_FREQUENCY</th>\n",
       "      <th>PURCHASES_INSTALLMENTS_FREQUENCY</th>\n",
       "      <th>CASH_ADVANCE_FREQUENCY</th>\n",
       "      <th>CASH_ADVANCE_TRX</th>\n",
       "      <th>PURCHASES_TRX</th>\n",
       "      <th>CREDIT_LIMIT</th>\n",
       "      <th>PAYMENTS</th>\n",
       "      <th>MINIMUM_PAYMENTS</th>\n",
       "      <th>PRC_FULL_PAYMENT</th>\n",
       "      <th>TENURE</th>\n",
       "    </tr>\n",
       "  </thead>\n",
       "  <tbody>\n",
       "    <tr>\n",
       "      <th>8945</th>\n",
       "      <td>C19186</td>\n",
       "      <td>28.493517</td>\n",
       "      <td>1.000000</td>\n",
       "      <td>291.12</td>\n",
       "      <td>0.00</td>\n",
       "      <td>291.12</td>\n",
       "      <td>0.000000</td>\n",
       "      <td>1.000000</td>\n",
       "      <td>0.000000</td>\n",
       "      <td>0.833333</td>\n",
       "      <td>0.000000</td>\n",
       "      <td>0</td>\n",
       "      <td>6</td>\n",
       "      <td>1000.0</td>\n",
       "      <td>325.594462</td>\n",
       "      <td>48.886365</td>\n",
       "      <td>0.50</td>\n",
       "      <td>6</td>\n",
       "    </tr>\n",
       "    <tr>\n",
       "      <th>8946</th>\n",
       "      <td>C19187</td>\n",
       "      <td>19.183215</td>\n",
       "      <td>1.000000</td>\n",
       "      <td>300.00</td>\n",
       "      <td>0.00</td>\n",
       "      <td>300.00</td>\n",
       "      <td>0.000000</td>\n",
       "      <td>1.000000</td>\n",
       "      <td>0.000000</td>\n",
       "      <td>0.833333</td>\n",
       "      <td>0.000000</td>\n",
       "      <td>0</td>\n",
       "      <td>6</td>\n",
       "      <td>1000.0</td>\n",
       "      <td>275.861322</td>\n",
       "      <td>NaN</td>\n",
       "      <td>0.00</td>\n",
       "      <td>6</td>\n",
       "    </tr>\n",
       "    <tr>\n",
       "      <th>8947</th>\n",
       "      <td>C19188</td>\n",
       "      <td>23.398673</td>\n",
       "      <td>0.833333</td>\n",
       "      <td>144.40</td>\n",
       "      <td>0.00</td>\n",
       "      <td>144.40</td>\n",
       "      <td>0.000000</td>\n",
       "      <td>0.833333</td>\n",
       "      <td>0.000000</td>\n",
       "      <td>0.666667</td>\n",
       "      <td>0.000000</td>\n",
       "      <td>0</td>\n",
       "      <td>5</td>\n",
       "      <td>1000.0</td>\n",
       "      <td>81.270775</td>\n",
       "      <td>82.418369</td>\n",
       "      <td>0.25</td>\n",
       "      <td>6</td>\n",
       "    </tr>\n",
       "    <tr>\n",
       "      <th>8948</th>\n",
       "      <td>C19189</td>\n",
       "      <td>13.457564</td>\n",
       "      <td>0.833333</td>\n",
       "      <td>0.00</td>\n",
       "      <td>0.00</td>\n",
       "      <td>0.00</td>\n",
       "      <td>36.558778</td>\n",
       "      <td>0.000000</td>\n",
       "      <td>0.000000</td>\n",
       "      <td>0.000000</td>\n",
       "      <td>0.166667</td>\n",
       "      <td>2</td>\n",
       "      <td>0</td>\n",
       "      <td>500.0</td>\n",
       "      <td>52.549959</td>\n",
       "      <td>55.755628</td>\n",
       "      <td>0.25</td>\n",
       "      <td>6</td>\n",
       "    </tr>\n",
       "    <tr>\n",
       "      <th>8949</th>\n",
       "      <td>C19190</td>\n",
       "      <td>372.708075</td>\n",
       "      <td>0.666667</td>\n",
       "      <td>1093.25</td>\n",
       "      <td>1093.25</td>\n",
       "      <td>0.00</td>\n",
       "      <td>127.040008</td>\n",
       "      <td>0.666667</td>\n",
       "      <td>0.666667</td>\n",
       "      <td>0.000000</td>\n",
       "      <td>0.333333</td>\n",
       "      <td>2</td>\n",
       "      <td>23</td>\n",
       "      <td>1200.0</td>\n",
       "      <td>63.165404</td>\n",
       "      <td>88.288956</td>\n",
       "      <td>0.00</td>\n",
       "      <td>6</td>\n",
       "    </tr>\n",
       "  </tbody>\n",
       "</table>\n",
       "</div>"
      ],
      "text/plain": [
       "     CUST_ID     BALANCE  BALANCE_FREQUENCY  PURCHASES  ONEOFF_PURCHASES  \\\n",
       "8945  C19186   28.493517           1.000000     291.12              0.00   \n",
       "8946  C19187   19.183215           1.000000     300.00              0.00   \n",
       "8947  C19188   23.398673           0.833333     144.40              0.00   \n",
       "8948  C19189   13.457564           0.833333       0.00              0.00   \n",
       "8949  C19190  372.708075           0.666667    1093.25           1093.25   \n",
       "\n",
       "      INSTALLMENTS_PURCHASES  CASH_ADVANCE  PURCHASES_FREQUENCY  \\\n",
       "8945                  291.12      0.000000             1.000000   \n",
       "8946                  300.00      0.000000             1.000000   \n",
       "8947                  144.40      0.000000             0.833333   \n",
       "8948                    0.00     36.558778             0.000000   \n",
       "8949                    0.00    127.040008             0.666667   \n",
       "\n",
       "      ONEOFF_PURCHASES_FREQUENCY  PURCHASES_INSTALLMENTS_FREQUENCY  \\\n",
       "8945                    0.000000                          0.833333   \n",
       "8946                    0.000000                          0.833333   \n",
       "8947                    0.000000                          0.666667   \n",
       "8948                    0.000000                          0.000000   \n",
       "8949                    0.666667                          0.000000   \n",
       "\n",
       "      CASH_ADVANCE_FREQUENCY  CASH_ADVANCE_TRX  PURCHASES_TRX  CREDIT_LIMIT  \\\n",
       "8945                0.000000                 0              6        1000.0   \n",
       "8946                0.000000                 0              6        1000.0   \n",
       "8947                0.000000                 0              5        1000.0   \n",
       "8948                0.166667                 2              0         500.0   \n",
       "8949                0.333333                 2             23        1200.0   \n",
       "\n",
       "        PAYMENTS  MINIMUM_PAYMENTS  PRC_FULL_PAYMENT  TENURE  \n",
       "8945  325.594462         48.886365              0.50       6  \n",
       "8946  275.861322               NaN              0.00       6  \n",
       "8947   81.270775         82.418369              0.25       6  \n",
       "8948   52.549959         55.755628              0.25       6  \n",
       "8949   63.165404         88.288956              0.00       6  "
      ]
     },
     "execution_count": 5,
     "metadata": {},
     "output_type": "execute_result"
    }
   ],
   "source": [
    "df_clientes.tail()"
   ]
  },
  {
   "cell_type": "markdown",
   "id": "809ca175",
   "metadata": {},
   "source": [
    "**Nota:**\n",
    "- CUSTID: Identificação do cliente\n",
    "- BALANCE: Saldo para fazer compras (saldo na conta corrente)\n",
    "- BALANCE_FREQUENCY: Frequência que o saldo é atualizado, ou seja se o cliente mantém dinheiro na conta corrente para fazer compras no cartão de débito (1 = frequente, 0 = não frequente)\n",
    "- PURCHASES: Quantidade de compras realizadas\n",
    "- ONEOFFPURCHASES: Quantidade de compras feitas “de uma só vez” (sem parcelar)\n",
    "- INSTALLMENTS_PURCHASES: Quantidade de compras parceladas\n",
    "- CASH_ADVANCE: Dinheiro adiantado, indica se o cliente saca do cartão de crédito\n",
    "- PURCHASES_FREQUENCY: Frequência das compras (entre 1 e 0)\n",
    "- ONEOFF_PURCHASES_FREQUENCY: Frequência de compras à vista (entre 1 e 0)\n",
    "- PURCHASES_INSTALLMENTS_FREQUENCY: Frequência de compras parceladas (entre 1 e 0)\n",
    "- CASH_ADVANCE_FREQUENCY: Frequência de saques de dinheiro adiantado\n",
    "- CASH_ADVANCE_TRX: Número de transações feitas como \"Cash in Advance\", indica quantas vezes o cliente foi no caixa eletrônico e solicitou dinheiro adiantado \n",
    "- PURCHASES_TRX: Número de compras\n",
    "- CREDIT_LIMIT: Limite do cartão de crédito\n",
    "- PAYMENTS: Valor pago\n",
    "- MINIMUM_PAYMENTS: Valor mínimo pago\n",
    "- PRC_FULL_PAYMENT: Percentual de pagamentos da fatura “completa”\n",
    "- TENURE: Posse do titular do cartão"
   ]
  },
  {
   "cell_type": "markdown",
   "id": "e2f1493b",
   "metadata": {},
   "source": [
    "### <font color='#F37126'> 1.2. Colunas"
   ]
  },
  {
   "cell_type": "markdown",
   "id": "880c8129",
   "metadata": {},
   "source": [
    "**Visualizando cabeçalho do dataframe**"
   ]
  },
  {
   "cell_type": "code",
   "execution_count": 6,
   "id": "c474db53",
   "metadata": {
    "ExecuteTime": {
     "end_time": "2023-04-26T19:52:34.711934Z",
     "start_time": "2023-04-26T19:52:34.687915Z"
    }
   },
   "outputs": [
    {
     "name": "stdout",
     "output_type": "stream",
     "text": [
      "['CUST_ID', 'BALANCE', 'BALANCE_FREQUENCY', 'PURCHASES', 'ONEOFF_PURCHASES', 'INSTALLMENTS_PURCHASES', 'CASH_ADVANCE', 'PURCHASES_FREQUENCY', 'ONEOFF_PURCHASES_FREQUENCY', 'PURCHASES_INSTALLMENTS_FREQUENCY', 'CASH_ADVANCE_FREQUENCY', 'CASH_ADVANCE_TRX', 'PURCHASES_TRX', 'CREDIT_LIMIT', 'PAYMENTS', 'MINIMUM_PAYMENTS', 'PRC_FULL_PAYMENT', 'TENURE']\n"
     ]
    }
   ],
   "source": [
    "print(df_clientes.columns.tolist())"
   ]
  },
  {
   "cell_type": "code",
   "execution_count": 7,
   "id": "42899d13",
   "metadata": {
    "ExecuteTime": {
     "end_time": "2023-04-26T19:52:35.182553Z",
     "start_time": "2023-04-26T19:52:35.169100Z"
    }
   },
   "outputs": [],
   "source": [
    "# Alterando as nomes das colunas\n",
    "cols_old = ['CUST_ID', 'BALANCE', 'BALANCE_FREQUENCY', 'PURCHASES', 'ONEOFF_PURCHASES', 'INSTALLMENTS_PURCHASES', \n",
    "            'CASH_ADVANCE', 'PURCHASES_FREQUENCY', 'ONEOFF_PURCHASES_FREQUENCY', 'PURCHASES_INSTALLMENTS_FREQUENCY', \n",
    "            'CASH_ADVANCE_FREQUENCY', 'CASH_ADVANCE_TRX', 'PURCHASES_TRX', 'CREDIT_LIMIT', 'PAYMENTS', \n",
    "            'MINIMUM_PAYMENTS', 'PRC_FULL_PAYMENT', 'TENURE']\n",
    "\n",
    "snakecase = lambda x: inflection.underscore (x)\n",
    "\n",
    "cols_new = list(map(snakecase,cols_old))\n",
    "\n",
    "df_clientes.columns = cols_new"
   ]
  },
  {
   "cell_type": "code",
   "execution_count": 8,
   "id": "587eb68b",
   "metadata": {
    "ExecuteTime": {
     "end_time": "2023-04-26T19:52:35.632583Z",
     "start_time": "2023-04-26T19:52:35.616849Z"
    }
   },
   "outputs": [
    {
     "name": "stdout",
     "output_type": "stream",
     "text": [
      "['cust_id', 'balance', 'balance_frequency', 'purchases', 'oneoff_purchases', 'installments_purchases', 'cash_advance', 'purchases_frequency', 'oneoff_purchases_frequency', 'purchases_installments_frequency', 'cash_advance_frequency', 'cash_advance_trx', 'purchases_trx', 'credit_limit', 'payments', 'minimum_payments', 'prc_full_payment', 'tenure']\n"
     ]
    }
   ],
   "source": [
    "print(df_clientes.columns.tolist())"
   ]
  },
  {
   "cell_type": "markdown",
   "id": "6d28827c",
   "metadata": {},
   "source": [
    "### <font color='#F37126'> 1.3. Dimensões de dados"
   ]
  },
  {
   "cell_type": "markdown",
   "id": "055ab291",
   "metadata": {},
   "source": [
    "**Verificando informações sobre o dataframe: linhas e colunas**"
   ]
  },
  {
   "cell_type": "code",
   "execution_count": 9,
   "id": "ead03e5b",
   "metadata": {
    "ExecuteTime": {
     "end_time": "2023-04-26T19:52:37.080543Z",
     "start_time": "2023-04-26T19:52:36.865781Z"
    }
   },
   "outputs": [
    {
     "data": {
      "text/html": [
       "<style type=\"text/css\">\n",
       "#T_026a9_row0_col1 {\n",
       "  background-color: #8f0026;\n",
       "  color: #f1f1f1;\n",
       "}\n",
       "#T_026a9_row0_col2, #T_026a9_row0_col3, #T_026a9_row2_col1 {\n",
       "  background-color: #800026;\n",
       "  color: #f1f1f1;\n",
       "}\n",
       "#T_026a9_row1_col1 {\n",
       "  background-color: #fffcc5;\n",
       "  color: #000000;\n",
       "}\n",
       "#T_026a9_row1_col2, #T_026a9_row1_col3, #T_026a9_row2_col2, #T_026a9_row2_col3, #T_026a9_row3_col2, #T_026a9_row3_col3, #T_026a9_row4_col2, #T_026a9_row4_col3, #T_026a9_row5_col2, #T_026a9_row5_col3, #T_026a9_row6_col2, #T_026a9_row6_col3, #T_026a9_row7_col2, #T_026a9_row7_col3, #T_026a9_row8_col2, #T_026a9_row8_col3, #T_026a9_row9_col2, #T_026a9_row9_col3, #T_026a9_row10_col2, #T_026a9_row10_col3, #T_026a9_row11_col2, #T_026a9_row11_col3, #T_026a9_row12_col2, #T_026a9_row12_col3, #T_026a9_row13_col2, #T_026a9_row13_col3, #T_026a9_row14_col2, #T_026a9_row14_col3, #T_026a9_row15_col2, #T_026a9_row15_col3, #T_026a9_row16_col2, #T_026a9_row16_col3, #T_026a9_row17_col1, #T_026a9_row17_col2, #T_026a9_row17_col3 {\n",
       "  background-color: #ffffcc;\n",
       "  color: #000000;\n",
       "}\n",
       "#T_026a9_row3_col1 {\n",
       "  background-color: #840026;\n",
       "  color: #f1f1f1;\n",
       "}\n",
       "#T_026a9_row4_col1, #T_026a9_row7_col1, #T_026a9_row8_col1, #T_026a9_row9_col1, #T_026a9_row10_col1, #T_026a9_row11_col1, #T_026a9_row16_col1 {\n",
       "  background-color: #fffecb;\n",
       "  color: #000000;\n",
       "}\n",
       "#T_026a9_row5_col1 {\n",
       "  background-color: #8b0026;\n",
       "  color: #f1f1f1;\n",
       "}\n",
       "#T_026a9_row6_col1 {\n",
       "  background-color: #fffdc6;\n",
       "  color: #000000;\n",
       "}\n",
       "#T_026a9_row12_col1 {\n",
       "  background-color: #fd923e;\n",
       "  color: #000000;\n",
       "}\n",
       "#T_026a9_row13_col1 {\n",
       "  background-color: #fd8e3c;\n",
       "  color: #f1f1f1;\n",
       "}\n",
       "#T_026a9_row14_col1 {\n",
       "  background-color: #fd9d43;\n",
       "  color: #000000;\n",
       "}\n",
       "#T_026a9_row15_col1 {\n",
       "  background-color: #ee3122;\n",
       "  color: #f1f1f1;\n",
       "}\n",
       "</style>\n",
       "<table id=\"T_026a9\">\n",
       "  <thead>\n",
       "    <tr>\n",
       "      <th class=\"blank level0\" >&nbsp;</th>\n",
       "      <th id=\"T_026a9_level0_col0\" class=\"col_heading level0 col0\" >Data Type</th>\n",
       "      <th id=\"T_026a9_level0_col1\" class=\"col_heading level0 col1\" >Unique Values</th>\n",
       "      <th id=\"T_026a9_level0_col2\" class=\"col_heading level0 col2\" >Null Values</th>\n",
       "      <th id=\"T_026a9_level0_col3\" class=\"col_heading level0 col3\" >% null Values</th>\n",
       "    </tr>\n",
       "  </thead>\n",
       "  <tbody>\n",
       "    <tr>\n",
       "      <th id=\"T_026a9_level0_row0\" class=\"row_heading level0 row0\" >minimum_payments</th>\n",
       "      <td id=\"T_026a9_row0_col0\" class=\"data row0 col0\" >float64</td>\n",
       "      <td id=\"T_026a9_row0_col1\" class=\"data row0 col1\" >8636</td>\n",
       "      <td id=\"T_026a9_row0_col2\" class=\"data row0 col2\" >313</td>\n",
       "      <td id=\"T_026a9_row0_col3\" class=\"data row0 col3\" >0.034972</td>\n",
       "    </tr>\n",
       "    <tr>\n",
       "      <th id=\"T_026a9_level0_row1\" class=\"row_heading level0 row1\" >credit_limit</th>\n",
       "      <td id=\"T_026a9_row1_col0\" class=\"data row1 col0\" >float64</td>\n",
       "      <td id=\"T_026a9_row1_col1\" class=\"data row1 col1\" >205</td>\n",
       "      <td id=\"T_026a9_row1_col2\" class=\"data row1 col2\" >1</td>\n",
       "      <td id=\"T_026a9_row1_col3\" class=\"data row1 col3\" >0.000112</td>\n",
       "    </tr>\n",
       "    <tr>\n",
       "      <th id=\"T_026a9_level0_row2\" class=\"row_heading level0 row2\" >cust_id</th>\n",
       "      <td id=\"T_026a9_row2_col0\" class=\"data row2 col0\" >object</td>\n",
       "      <td id=\"T_026a9_row2_col1\" class=\"data row2 col1\" >8950</td>\n",
       "      <td id=\"T_026a9_row2_col2\" class=\"data row2 col2\" >0</td>\n",
       "      <td id=\"T_026a9_row2_col3\" class=\"data row2 col3\" >0.000000</td>\n",
       "    </tr>\n",
       "    <tr>\n",
       "      <th id=\"T_026a9_level0_row3\" class=\"row_heading level0 row3\" >balance</th>\n",
       "      <td id=\"T_026a9_row3_col0\" class=\"data row3 col0\" >float64</td>\n",
       "      <td id=\"T_026a9_row3_col1\" class=\"data row3 col1\" >8871</td>\n",
       "      <td id=\"T_026a9_row3_col2\" class=\"data row3 col2\" >0</td>\n",
       "      <td id=\"T_026a9_row3_col3\" class=\"data row3 col3\" >0.000000</td>\n",
       "    </tr>\n",
       "    <tr>\n",
       "      <th id=\"T_026a9_level0_row4\" class=\"row_heading level0 row4\" >prc_full_payment</th>\n",
       "      <td id=\"T_026a9_row4_col0\" class=\"data row4 col0\" >float64</td>\n",
       "      <td id=\"T_026a9_row4_col1\" class=\"data row4 col1\" >47</td>\n",
       "      <td id=\"T_026a9_row4_col2\" class=\"data row4 col2\" >0</td>\n",
       "      <td id=\"T_026a9_row4_col3\" class=\"data row4 col3\" >0.000000</td>\n",
       "    </tr>\n",
       "    <tr>\n",
       "      <th id=\"T_026a9_level0_row5\" class=\"row_heading level0 row5\" >payments</th>\n",
       "      <td id=\"T_026a9_row5_col0\" class=\"data row5 col0\" >float64</td>\n",
       "      <td id=\"T_026a9_row5_col1\" class=\"data row5 col1\" >8711</td>\n",
       "      <td id=\"T_026a9_row5_col2\" class=\"data row5 col2\" >0</td>\n",
       "      <td id=\"T_026a9_row5_col3\" class=\"data row5 col3\" >0.000000</td>\n",
       "    </tr>\n",
       "    <tr>\n",
       "      <th id=\"T_026a9_level0_row6\" class=\"row_heading level0 row6\" >purchases_trx</th>\n",
       "      <td id=\"T_026a9_row6_col0\" class=\"data row6 col0\" >int64</td>\n",
       "      <td id=\"T_026a9_row6_col1\" class=\"data row6 col1\" >173</td>\n",
       "      <td id=\"T_026a9_row6_col2\" class=\"data row6 col2\" >0</td>\n",
       "      <td id=\"T_026a9_row6_col3\" class=\"data row6 col3\" >0.000000</td>\n",
       "    </tr>\n",
       "    <tr>\n",
       "      <th id=\"T_026a9_level0_row7\" class=\"row_heading level0 row7\" >cash_advance_trx</th>\n",
       "      <td id=\"T_026a9_row7_col0\" class=\"data row7 col0\" >int64</td>\n",
       "      <td id=\"T_026a9_row7_col1\" class=\"data row7 col1\" >65</td>\n",
       "      <td id=\"T_026a9_row7_col2\" class=\"data row7 col2\" >0</td>\n",
       "      <td id=\"T_026a9_row7_col3\" class=\"data row7 col3\" >0.000000</td>\n",
       "    </tr>\n",
       "    <tr>\n",
       "      <th id=\"T_026a9_level0_row8\" class=\"row_heading level0 row8\" >cash_advance_frequency</th>\n",
       "      <td id=\"T_026a9_row8_col0\" class=\"data row8 col0\" >float64</td>\n",
       "      <td id=\"T_026a9_row8_col1\" class=\"data row8 col1\" >54</td>\n",
       "      <td id=\"T_026a9_row8_col2\" class=\"data row8 col2\" >0</td>\n",
       "      <td id=\"T_026a9_row8_col3\" class=\"data row8 col3\" >0.000000</td>\n",
       "    </tr>\n",
       "    <tr>\n",
       "      <th id=\"T_026a9_level0_row9\" class=\"row_heading level0 row9\" >purchases_installments_frequency</th>\n",
       "      <td id=\"T_026a9_row9_col0\" class=\"data row9 col0\" >float64</td>\n",
       "      <td id=\"T_026a9_row9_col1\" class=\"data row9 col1\" >47</td>\n",
       "      <td id=\"T_026a9_row9_col2\" class=\"data row9 col2\" >0</td>\n",
       "      <td id=\"T_026a9_row9_col3\" class=\"data row9 col3\" >0.000000</td>\n",
       "    </tr>\n",
       "    <tr>\n",
       "      <th id=\"T_026a9_level0_row10\" class=\"row_heading level0 row10\" >oneoff_purchases_frequency</th>\n",
       "      <td id=\"T_026a9_row10_col0\" class=\"data row10 col0\" >float64</td>\n",
       "      <td id=\"T_026a9_row10_col1\" class=\"data row10 col1\" >47</td>\n",
       "      <td id=\"T_026a9_row10_col2\" class=\"data row10 col2\" >0</td>\n",
       "      <td id=\"T_026a9_row10_col3\" class=\"data row10 col3\" >0.000000</td>\n",
       "    </tr>\n",
       "    <tr>\n",
       "      <th id=\"T_026a9_level0_row11\" class=\"row_heading level0 row11\" >purchases_frequency</th>\n",
       "      <td id=\"T_026a9_row11_col0\" class=\"data row11 col0\" >float64</td>\n",
       "      <td id=\"T_026a9_row11_col1\" class=\"data row11 col1\" >47</td>\n",
       "      <td id=\"T_026a9_row11_col2\" class=\"data row11 col2\" >0</td>\n",
       "      <td id=\"T_026a9_row11_col3\" class=\"data row11 col3\" >0.000000</td>\n",
       "    </tr>\n",
       "    <tr>\n",
       "      <th id=\"T_026a9_level0_row12\" class=\"row_heading level0 row12\" >cash_advance</th>\n",
       "      <td id=\"T_026a9_row12_col0\" class=\"data row12 col0\" >float64</td>\n",
       "      <td id=\"T_026a9_row12_col1\" class=\"data row12 col1\" >4323</td>\n",
       "      <td id=\"T_026a9_row12_col2\" class=\"data row12 col2\" >0</td>\n",
       "      <td id=\"T_026a9_row12_col3\" class=\"data row12 col3\" >0.000000</td>\n",
       "    </tr>\n",
       "    <tr>\n",
       "      <th id=\"T_026a9_level0_row13\" class=\"row_heading level0 row13\" >installments_purchases</th>\n",
       "      <td id=\"T_026a9_row13_col0\" class=\"data row13 col0\" >float64</td>\n",
       "      <td id=\"T_026a9_row13_col1\" class=\"data row13 col1\" >4452</td>\n",
       "      <td id=\"T_026a9_row13_col2\" class=\"data row13 col2\" >0</td>\n",
       "      <td id=\"T_026a9_row13_col3\" class=\"data row13 col3\" >0.000000</td>\n",
       "    </tr>\n",
       "    <tr>\n",
       "      <th id=\"T_026a9_level0_row14\" class=\"row_heading level0 row14\" >oneoff_purchases</th>\n",
       "      <td id=\"T_026a9_row14_col0\" class=\"data row14 col0\" >float64</td>\n",
       "      <td id=\"T_026a9_row14_col1\" class=\"data row14 col1\" >4014</td>\n",
       "      <td id=\"T_026a9_row14_col2\" class=\"data row14 col2\" >0</td>\n",
       "      <td id=\"T_026a9_row14_col3\" class=\"data row14 col3\" >0.000000</td>\n",
       "    </tr>\n",
       "    <tr>\n",
       "      <th id=\"T_026a9_level0_row15\" class=\"row_heading level0 row15\" >purchases</th>\n",
       "      <td id=\"T_026a9_row15_col0\" class=\"data row15 col0\" >float64</td>\n",
       "      <td id=\"T_026a9_row15_col1\" class=\"data row15 col1\" >6203</td>\n",
       "      <td id=\"T_026a9_row15_col2\" class=\"data row15 col2\" >0</td>\n",
       "      <td id=\"T_026a9_row15_col3\" class=\"data row15 col3\" >0.000000</td>\n",
       "    </tr>\n",
       "    <tr>\n",
       "      <th id=\"T_026a9_level0_row16\" class=\"row_heading level0 row16\" >balance_frequency</th>\n",
       "      <td id=\"T_026a9_row16_col0\" class=\"data row16 col0\" >float64</td>\n",
       "      <td id=\"T_026a9_row16_col1\" class=\"data row16 col1\" >43</td>\n",
       "      <td id=\"T_026a9_row16_col2\" class=\"data row16 col2\" >0</td>\n",
       "      <td id=\"T_026a9_row16_col3\" class=\"data row16 col3\" >0.000000</td>\n",
       "    </tr>\n",
       "    <tr>\n",
       "      <th id=\"T_026a9_level0_row17\" class=\"row_heading level0 row17\" >tenure</th>\n",
       "      <td id=\"T_026a9_row17_col0\" class=\"data row17 col0\" >int64</td>\n",
       "      <td id=\"T_026a9_row17_col1\" class=\"data row17 col1\" >7</td>\n",
       "      <td id=\"T_026a9_row17_col2\" class=\"data row17 col2\" >0</td>\n",
       "      <td id=\"T_026a9_row17_col3\" class=\"data row17 col3\" >0.000000</td>\n",
       "    </tr>\n",
       "  </tbody>\n",
       "</table>\n"
      ],
      "text/plain": [
       "<pandas.io.formats.style.Styler at 0x258881b8fa0>"
      ]
     },
     "execution_count": 9,
     "metadata": {},
     "output_type": "execute_result"
    }
   ],
   "source": [
    "dtypes = pd.DataFrame(df_clientes.dtypes,columns=[\"Data Type\"])\n",
    "\n",
    "dtypes[\"Unique Values\"]=df_clientes.nunique()\n",
    "\n",
    "dtypes[\"Null Values\"]=df_clientes.isnull().sum()\n",
    "\n",
    "dtypes[\"% null Values\"]=df_clientes.isnull().sum()/len(df_clientes)\n",
    "\n",
    "dtypes.sort_values(by=\"Null Values\" , ascending=False).style.background_gradient(cmap='YlOrRd',axis=0)"
   ]
  },
  {
   "cell_type": "markdown",
   "id": "ee38d509",
   "metadata": {},
   "source": [
    "**Nota:**\n",
    "- Valores mais baixos em cada coluna serão coloridos em amarelo claro e os valores mais altos serão coloridos em vermelho escuro."
   ]
  },
  {
   "cell_type": "code",
   "execution_count": 10,
   "id": "89ece02d",
   "metadata": {
    "ExecuteTime": {
     "end_time": "2023-04-26T19:52:37.796543Z",
     "start_time": "2023-04-26T19:52:37.780541Z"
    }
   },
   "outputs": [
    {
     "data": {
      "text/plain": [
       "(8950, 18)"
      ]
     },
     "execution_count": 10,
     "metadata": {},
     "output_type": "execute_result"
    }
   ],
   "source": [
    "df_clientes.shape"
   ]
  },
  {
   "cell_type": "code",
   "execution_count": 11,
   "id": "211fa8da",
   "metadata": {
    "ExecuteTime": {
     "end_time": "2023-04-26T19:52:38.250184Z",
     "start_time": "2023-04-26T19:52:38.218165Z"
    }
   },
   "outputs": [
    {
     "data": {
      "text/plain": [
       "314"
      ]
     },
     "execution_count": 11,
     "metadata": {},
     "output_type": "execute_result"
    }
   ],
   "source": [
    "# Conta a quantidade de missing values totais da base.\n",
    "df_clientes.isnull().sum().sum()"
   ]
  },
  {
   "cell_type": "markdown",
   "id": "dc95a1b0",
   "metadata": {},
   "source": [
    "### <font color='#F37126'> 1.4. Estatística descritiva"
   ]
  },
  {
   "cell_type": "markdown",
   "id": "8ec88420",
   "metadata": {},
   "source": [
    "**Descrevendo estatísticas sobre os dados**"
   ]
  },
  {
   "cell_type": "markdown",
   "id": "1983a75e",
   "metadata": {},
   "source": [
    "#### Separando os tipos de variáveis"
   ]
  },
  {
   "cell_type": "code",
   "execution_count": 12,
   "id": "494e1e97",
   "metadata": {
    "ExecuteTime": {
     "end_time": "2023-04-26T19:52:40.089428Z",
     "start_time": "2023-04-26T19:52:40.073431Z"
    }
   },
   "outputs": [],
   "source": [
    "num_dados = df_clientes.select_dtypes( include = ['int64','float64'] )\n",
    "cat_dados = df_clientes.select_dtypes( exclude = ['int64','float64'] )"
   ]
  },
  {
   "cell_type": "code",
   "execution_count": 13,
   "id": "5e520460",
   "metadata": {
    "ExecuteTime": {
     "end_time": "2023-04-26T19:52:40.684290Z",
     "start_time": "2023-04-26T19:52:40.540163Z"
    }
   },
   "outputs": [
    {
     "data": {
      "text/html": [
       "<div>\n",
       "<style scoped>\n",
       "    .dataframe tbody tr th:only-of-type {\n",
       "        vertical-align: middle;\n",
       "    }\n",
       "\n",
       "    .dataframe tbody tr th {\n",
       "        vertical-align: top;\n",
       "    }\n",
       "\n",
       "    .dataframe thead th {\n",
       "        text-align: right;\n",
       "    }\n",
       "</style>\n",
       "<table border=\"1\" class=\"dataframe\">\n",
       "  <thead>\n",
       "    <tr style=\"text-align: right;\">\n",
       "      <th></th>\n",
       "      <th>balance</th>\n",
       "      <th>balance_frequency</th>\n",
       "      <th>purchases</th>\n",
       "      <th>oneoff_purchases</th>\n",
       "      <th>installments_purchases</th>\n",
       "      <th>cash_advance</th>\n",
       "      <th>purchases_frequency</th>\n",
       "      <th>oneoff_purchases_frequency</th>\n",
       "      <th>purchases_installments_frequency</th>\n",
       "      <th>cash_advance_frequency</th>\n",
       "      <th>cash_advance_trx</th>\n",
       "      <th>purchases_trx</th>\n",
       "      <th>credit_limit</th>\n",
       "      <th>payments</th>\n",
       "      <th>minimum_payments</th>\n",
       "      <th>prc_full_payment</th>\n",
       "      <th>tenure</th>\n",
       "    </tr>\n",
       "  </thead>\n",
       "  <tbody>\n",
       "    <tr>\n",
       "      <th>count</th>\n",
       "      <td>8950.0</td>\n",
       "      <td>8950.0</td>\n",
       "      <td>8950.0</td>\n",
       "      <td>8950.0</td>\n",
       "      <td>8950.0</td>\n",
       "      <td>8950.0</td>\n",
       "      <td>8950.0</td>\n",
       "      <td>8950.0</td>\n",
       "      <td>8950.0</td>\n",
       "      <td>8950.0</td>\n",
       "      <td>8950.0</td>\n",
       "      <td>8950.0</td>\n",
       "      <td>8949.0</td>\n",
       "      <td>8950.0</td>\n",
       "      <td>8637.0</td>\n",
       "      <td>8950.0</td>\n",
       "      <td>8950.0</td>\n",
       "    </tr>\n",
       "    <tr>\n",
       "      <th>mean</th>\n",
       "      <td>1564.5</td>\n",
       "      <td>0.9</td>\n",
       "      <td>1003.2</td>\n",
       "      <td>592.4</td>\n",
       "      <td>411.1</td>\n",
       "      <td>978.9</td>\n",
       "      <td>0.5</td>\n",
       "      <td>0.2</td>\n",
       "      <td>0.4</td>\n",
       "      <td>0.1</td>\n",
       "      <td>3.2</td>\n",
       "      <td>14.7</td>\n",
       "      <td>4494.4</td>\n",
       "      <td>1733.1</td>\n",
       "      <td>864.2</td>\n",
       "      <td>0.2</td>\n",
       "      <td>11.5</td>\n",
       "    </tr>\n",
       "    <tr>\n",
       "      <th>std</th>\n",
       "      <td>2081.5</td>\n",
       "      <td>0.2</td>\n",
       "      <td>2136.6</td>\n",
       "      <td>1659.9</td>\n",
       "      <td>904.3</td>\n",
       "      <td>2097.2</td>\n",
       "      <td>0.4</td>\n",
       "      <td>0.3</td>\n",
       "      <td>0.4</td>\n",
       "      <td>0.2</td>\n",
       "      <td>6.8</td>\n",
       "      <td>24.9</td>\n",
       "      <td>3638.8</td>\n",
       "      <td>2895.1</td>\n",
       "      <td>2372.4</td>\n",
       "      <td>0.3</td>\n",
       "      <td>1.3</td>\n",
       "    </tr>\n",
       "    <tr>\n",
       "      <th>min</th>\n",
       "      <td>0.0</td>\n",
       "      <td>0.0</td>\n",
       "      <td>0.0</td>\n",
       "      <td>0.0</td>\n",
       "      <td>0.0</td>\n",
       "      <td>0.0</td>\n",
       "      <td>0.0</td>\n",
       "      <td>0.0</td>\n",
       "      <td>0.0</td>\n",
       "      <td>0.0</td>\n",
       "      <td>0.0</td>\n",
       "      <td>0.0</td>\n",
       "      <td>50.0</td>\n",
       "      <td>0.0</td>\n",
       "      <td>0.0</td>\n",
       "      <td>0.0</td>\n",
       "      <td>6.0</td>\n",
       "    </tr>\n",
       "    <tr>\n",
       "      <th>25%</th>\n",
       "      <td>128.3</td>\n",
       "      <td>0.9</td>\n",
       "      <td>39.6</td>\n",
       "      <td>0.0</td>\n",
       "      <td>0.0</td>\n",
       "      <td>0.0</td>\n",
       "      <td>0.1</td>\n",
       "      <td>0.0</td>\n",
       "      <td>0.0</td>\n",
       "      <td>0.0</td>\n",
       "      <td>0.0</td>\n",
       "      <td>1.0</td>\n",
       "      <td>1600.0</td>\n",
       "      <td>383.3</td>\n",
       "      <td>169.1</td>\n",
       "      <td>0.0</td>\n",
       "      <td>12.0</td>\n",
       "    </tr>\n",
       "    <tr>\n",
       "      <th>50%</th>\n",
       "      <td>873.4</td>\n",
       "      <td>1.0</td>\n",
       "      <td>361.3</td>\n",
       "      <td>38.0</td>\n",
       "      <td>89.0</td>\n",
       "      <td>0.0</td>\n",
       "      <td>0.5</td>\n",
       "      <td>0.1</td>\n",
       "      <td>0.2</td>\n",
       "      <td>0.0</td>\n",
       "      <td>0.0</td>\n",
       "      <td>7.0</td>\n",
       "      <td>3000.0</td>\n",
       "      <td>856.9</td>\n",
       "      <td>312.3</td>\n",
       "      <td>0.0</td>\n",
       "      <td>12.0</td>\n",
       "    </tr>\n",
       "    <tr>\n",
       "      <th>75%</th>\n",
       "      <td>2054.1</td>\n",
       "      <td>1.0</td>\n",
       "      <td>1110.1</td>\n",
       "      <td>577.4</td>\n",
       "      <td>468.6</td>\n",
       "      <td>1113.8</td>\n",
       "      <td>0.9</td>\n",
       "      <td>0.3</td>\n",
       "      <td>0.8</td>\n",
       "      <td>0.2</td>\n",
       "      <td>4.0</td>\n",
       "      <td>17.0</td>\n",
       "      <td>6500.0</td>\n",
       "      <td>1901.1</td>\n",
       "      <td>825.5</td>\n",
       "      <td>0.1</td>\n",
       "      <td>12.0</td>\n",
       "    </tr>\n",
       "    <tr>\n",
       "      <th>max</th>\n",
       "      <td>19043.1</td>\n",
       "      <td>1.0</td>\n",
       "      <td>49039.6</td>\n",
       "      <td>40761.2</td>\n",
       "      <td>22500.0</td>\n",
       "      <td>47137.2</td>\n",
       "      <td>1.0</td>\n",
       "      <td>1.0</td>\n",
       "      <td>1.0</td>\n",
       "      <td>1.5</td>\n",
       "      <td>123.0</td>\n",
       "      <td>358.0</td>\n",
       "      <td>30000.0</td>\n",
       "      <td>50721.5</td>\n",
       "      <td>76406.2</td>\n",
       "      <td>1.0</td>\n",
       "      <td>12.0</td>\n",
       "    </tr>\n",
       "  </tbody>\n",
       "</table>\n",
       "</div>"
      ],
      "text/plain": [
       "       balance  balance_frequency  purchases  oneoff_purchases  \\\n",
       "count   8950.0             8950.0     8950.0            8950.0   \n",
       "mean    1564.5                0.9     1003.2             592.4   \n",
       "std     2081.5                0.2     2136.6            1659.9   \n",
       "min        0.0                0.0        0.0               0.0   \n",
       "25%      128.3                0.9       39.6               0.0   \n",
       "50%      873.4                1.0      361.3              38.0   \n",
       "75%     2054.1                1.0     1110.1             577.4   \n",
       "max    19043.1                1.0    49039.6           40761.2   \n",
       "\n",
       "       installments_purchases  cash_advance  purchases_frequency  \\\n",
       "count                  8950.0        8950.0               8950.0   \n",
       "mean                    411.1         978.9                  0.5   \n",
       "std                     904.3        2097.2                  0.4   \n",
       "min                       0.0           0.0                  0.0   \n",
       "25%                       0.0           0.0                  0.1   \n",
       "50%                      89.0           0.0                  0.5   \n",
       "75%                     468.6        1113.8                  0.9   \n",
       "max                   22500.0       47137.2                  1.0   \n",
       "\n",
       "       oneoff_purchases_frequency  purchases_installments_frequency  \\\n",
       "count                      8950.0                            8950.0   \n",
       "mean                          0.2                               0.4   \n",
       "std                           0.3                               0.4   \n",
       "min                           0.0                               0.0   \n",
       "25%                           0.0                               0.0   \n",
       "50%                           0.1                               0.2   \n",
       "75%                           0.3                               0.8   \n",
       "max                           1.0                               1.0   \n",
       "\n",
       "       cash_advance_frequency  cash_advance_trx  purchases_trx  credit_limit  \\\n",
       "count                  8950.0            8950.0         8950.0        8949.0   \n",
       "mean                      0.1               3.2           14.7        4494.4   \n",
       "std                       0.2               6.8           24.9        3638.8   \n",
       "min                       0.0               0.0            0.0          50.0   \n",
       "25%                       0.0               0.0            1.0        1600.0   \n",
       "50%                       0.0               0.0            7.0        3000.0   \n",
       "75%                       0.2               4.0           17.0        6500.0   \n",
       "max                       1.5             123.0          358.0       30000.0   \n",
       "\n",
       "       payments  minimum_payments  prc_full_payment  tenure  \n",
       "count    8950.0            8637.0            8950.0  8950.0  \n",
       "mean     1733.1             864.2               0.2    11.5  \n",
       "std      2895.1            2372.4               0.3     1.3  \n",
       "min         0.0               0.0               0.0     6.0  \n",
       "25%       383.3             169.1               0.0    12.0  \n",
       "50%       856.9             312.3               0.0    12.0  \n",
       "75%      1901.1             825.5               0.1    12.0  \n",
       "max     50721.5           76406.2               1.0    12.0  "
      ]
     },
     "execution_count": 13,
     "metadata": {},
     "output_type": "execute_result"
    }
   ],
   "source": [
    "df_clientes.describe().round(1)"
   ]
  },
  {
   "cell_type": "markdown",
   "id": "624946ec",
   "metadata": {},
   "source": [
    "**Nota:**\n",
    "\n",
    "- Aqui temos um insights, onde podemos separar um grupo de cliente que possuem uma tendência maior a sacar dinheiro do limite do cartão de crédito, pois assim o banco poderia aumentar o limite e os clientes poderia sacar mais dinheiro e o banco passaria a ganhar mais. \n",
    "- Poderiamos separar grupos, pessoas que faz compra a vista e pessoas que faz compras a prazo, para que o banco possa enviar campanha de marketing diferentes."
   ]
  },
  {
   "cell_type": "markdown",
   "id": "5694605a",
   "metadata": {},
   "source": [
    "#### Colunas numéricas"
   ]
  },
  {
   "cell_type": "code",
   "execution_count": 14,
   "id": "44c79070",
   "metadata": {
    "ExecuteTime": {
     "end_time": "2023-04-26T19:52:41.774640Z",
     "start_time": "2023-04-26T19:52:41.742617Z"
    }
   },
   "outputs": [],
   "source": [
    "# Central Tendency - mean, meadina \n",
    "ct1 = pd.DataFrame( num_dados.apply(np.mean) ).T\n",
    "ct2 = pd.DataFrame( num_dados.apply(np.median) ).T"
   ]
  },
  {
   "cell_type": "code",
   "execution_count": 15,
   "id": "c7ef7273",
   "metadata": {
    "ExecuteTime": {
     "end_time": "2023-04-26T19:52:42.235395Z",
     "start_time": "2023-04-26T19:52:42.123407Z"
    }
   },
   "outputs": [],
   "source": [
    "# Desvio Padrão\n",
    "d1 = pd.DataFrame( num_dados.apply( np.std ) ).T\n",
    "# Mínimo\n",
    "d2 = pd.DataFrame( num_dados.apply( min ) ).T\n",
    "# Máximo\n",
    "d3 = pd.DataFrame( num_dados.apply( max ) ).T\n",
    "# Range\n",
    "d4 = pd.DataFrame( num_dados.apply( lambda x: x.max() - x.min() ) ).T\n",
    "# Skew\n",
    "d5 = pd.DataFrame( num_dados.apply( lambda x: x.skew() ) ).T\n",
    "# Kurtosis\n",
    "d6 = pd.DataFrame( num_dados.apply( lambda x: x.kurtosis() ) ).T "
   ]
  },
  {
   "cell_type": "code",
   "execution_count": 16,
   "id": "4d3f1b30",
   "metadata": {
    "ExecuteTime": {
     "end_time": "2023-04-26T19:52:42.487899Z",
     "start_time": "2023-04-26T19:52:42.439904Z"
    }
   },
   "outputs": [
    {
     "data": {
      "text/html": [
       "<div>\n",
       "<style scoped>\n",
       "    .dataframe tbody tr th:only-of-type {\n",
       "        vertical-align: middle;\n",
       "    }\n",
       "\n",
       "    .dataframe tbody tr th {\n",
       "        vertical-align: top;\n",
       "    }\n",
       "\n",
       "    .dataframe thead th {\n",
       "        text-align: right;\n",
       "    }\n",
       "</style>\n",
       "<table border=\"1\" class=\"dataframe\">\n",
       "  <thead>\n",
       "    <tr style=\"text-align: right;\">\n",
       "      <th></th>\n",
       "      <th>attributes</th>\n",
       "      <th>min</th>\n",
       "      <th>max</th>\n",
       "      <th>range</th>\n",
       "      <th>mean</th>\n",
       "      <th>median</th>\n",
       "      <th>std</th>\n",
       "      <th>skew</th>\n",
       "      <th>kurtosis</th>\n",
       "    </tr>\n",
       "  </thead>\n",
       "  <tbody>\n",
       "    <tr>\n",
       "      <th>0</th>\n",
       "      <td>balance</td>\n",
       "      <td>0.000000</td>\n",
       "      <td>19043.13856</td>\n",
       "      <td>19043.138560</td>\n",
       "      <td>1564.474828</td>\n",
       "      <td>873.385231</td>\n",
       "      <td>2081.415590</td>\n",
       "      <td>2.393386</td>\n",
       "      <td>7.674751</td>\n",
       "    </tr>\n",
       "    <tr>\n",
       "      <th>1</th>\n",
       "      <td>balance_frequency</td>\n",
       "      <td>0.000000</td>\n",
       "      <td>1.00000</td>\n",
       "      <td>1.000000</td>\n",
       "      <td>0.877271</td>\n",
       "      <td>1.000000</td>\n",
       "      <td>0.236891</td>\n",
       "      <td>-2.023266</td>\n",
       "      <td>3.092370</td>\n",
       "    </tr>\n",
       "    <tr>\n",
       "      <th>2</th>\n",
       "      <td>purchases</td>\n",
       "      <td>0.000000</td>\n",
       "      <td>49039.57000</td>\n",
       "      <td>49039.570000</td>\n",
       "      <td>1003.204834</td>\n",
       "      <td>361.280000</td>\n",
       "      <td>2136.515413</td>\n",
       "      <td>8.144269</td>\n",
       "      <td>111.388771</td>\n",
       "    </tr>\n",
       "    <tr>\n",
       "      <th>3</th>\n",
       "      <td>oneoff_purchases</td>\n",
       "      <td>0.000000</td>\n",
       "      <td>40761.25000</td>\n",
       "      <td>40761.250000</td>\n",
       "      <td>592.437371</td>\n",
       "      <td>38.000000</td>\n",
       "      <td>1659.795184</td>\n",
       "      <td>10.045083</td>\n",
       "      <td>164.187572</td>\n",
       "    </tr>\n",
       "    <tr>\n",
       "      <th>4</th>\n",
       "      <td>installments_purchases</td>\n",
       "      <td>0.000000</td>\n",
       "      <td>22500.00000</td>\n",
       "      <td>22500.000000</td>\n",
       "      <td>411.067645</td>\n",
       "      <td>89.000000</td>\n",
       "      <td>904.287592</td>\n",
       "      <td>7.299120</td>\n",
       "      <td>96.575178</td>\n",
       "    </tr>\n",
       "    <tr>\n",
       "      <th>5</th>\n",
       "      <td>cash_advance</td>\n",
       "      <td>0.000000</td>\n",
       "      <td>47137.21176</td>\n",
       "      <td>47137.211760</td>\n",
       "      <td>978.871112</td>\n",
       "      <td>0.000000</td>\n",
       "      <td>2097.046713</td>\n",
       "      <td>5.166609</td>\n",
       "      <td>52.899434</td>\n",
       "    </tr>\n",
       "    <tr>\n",
       "      <th>6</th>\n",
       "      <td>purchases_frequency</td>\n",
       "      <td>0.000000</td>\n",
       "      <td>1.00000</td>\n",
       "      <td>1.000000</td>\n",
       "      <td>0.490351</td>\n",
       "      <td>0.500000</td>\n",
       "      <td>0.401348</td>\n",
       "      <td>0.060164</td>\n",
       "      <td>-1.638631</td>\n",
       "    </tr>\n",
       "    <tr>\n",
       "      <th>7</th>\n",
       "      <td>oneoff_purchases_frequency</td>\n",
       "      <td>0.000000</td>\n",
       "      <td>1.00000</td>\n",
       "      <td>1.000000</td>\n",
       "      <td>0.202458</td>\n",
       "      <td>0.083333</td>\n",
       "      <td>0.298319</td>\n",
       "      <td>1.535613</td>\n",
       "      <td>1.161846</td>\n",
       "    </tr>\n",
       "    <tr>\n",
       "      <th>8</th>\n",
       "      <td>purchases_installments_frequency</td>\n",
       "      <td>0.000000</td>\n",
       "      <td>1.00000</td>\n",
       "      <td>1.000000</td>\n",
       "      <td>0.364437</td>\n",
       "      <td>0.166667</td>\n",
       "      <td>0.397426</td>\n",
       "      <td>0.509201</td>\n",
       "      <td>-1.398632</td>\n",
       "    </tr>\n",
       "    <tr>\n",
       "      <th>9</th>\n",
       "      <td>cash_advance_frequency</td>\n",
       "      <td>0.000000</td>\n",
       "      <td>1.50000</td>\n",
       "      <td>1.500000</td>\n",
       "      <td>0.135144</td>\n",
       "      <td>0.000000</td>\n",
       "      <td>0.200110</td>\n",
       "      <td>1.828686</td>\n",
       "      <td>3.334734</td>\n",
       "    </tr>\n",
       "    <tr>\n",
       "      <th>10</th>\n",
       "      <td>cash_advance_trx</td>\n",
       "      <td>0.000000</td>\n",
       "      <td>123.00000</td>\n",
       "      <td>123.000000</td>\n",
       "      <td>3.248827</td>\n",
       "      <td>0.000000</td>\n",
       "      <td>6.824265</td>\n",
       "      <td>5.721298</td>\n",
       "      <td>61.646862</td>\n",
       "    </tr>\n",
       "    <tr>\n",
       "      <th>11</th>\n",
       "      <td>purchases_trx</td>\n",
       "      <td>0.000000</td>\n",
       "      <td>358.00000</td>\n",
       "      <td>358.000000</td>\n",
       "      <td>14.709832</td>\n",
       "      <td>7.000000</td>\n",
       "      <td>24.856260</td>\n",
       "      <td>4.630655</td>\n",
       "      <td>34.793100</td>\n",
       "    </tr>\n",
       "    <tr>\n",
       "      <th>12</th>\n",
       "      <td>credit_limit</td>\n",
       "      <td>50.000000</td>\n",
       "      <td>30000.00000</td>\n",
       "      <td>29950.000000</td>\n",
       "      <td>4494.449450</td>\n",
       "      <td>NaN</td>\n",
       "      <td>3638.612411</td>\n",
       "      <td>1.522464</td>\n",
       "      <td>2.836656</td>\n",
       "    </tr>\n",
       "    <tr>\n",
       "      <th>13</th>\n",
       "      <td>payments</td>\n",
       "      <td>0.000000</td>\n",
       "      <td>50721.48336</td>\n",
       "      <td>50721.483360</td>\n",
       "      <td>1733.143852</td>\n",
       "      <td>856.901546</td>\n",
       "      <td>2894.902017</td>\n",
       "      <td>5.907620</td>\n",
       "      <td>54.770736</td>\n",
       "    </tr>\n",
       "    <tr>\n",
       "      <th>14</th>\n",
       "      <td>minimum_payments</td>\n",
       "      <td>0.019163</td>\n",
       "      <td>76406.20752</td>\n",
       "      <td>76406.188357</td>\n",
       "      <td>864.206542</td>\n",
       "      <td>NaN</td>\n",
       "      <td>2372.309261</td>\n",
       "      <td>13.622797</td>\n",
       "      <td>283.989986</td>\n",
       "    </tr>\n",
       "    <tr>\n",
       "      <th>15</th>\n",
       "      <td>prc_full_payment</td>\n",
       "      <td>0.000000</td>\n",
       "      <td>1.00000</td>\n",
       "      <td>1.000000</td>\n",
       "      <td>0.153715</td>\n",
       "      <td>0.000000</td>\n",
       "      <td>0.292483</td>\n",
       "      <td>1.942820</td>\n",
       "      <td>2.432395</td>\n",
       "    </tr>\n",
       "    <tr>\n",
       "      <th>16</th>\n",
       "      <td>tenure</td>\n",
       "      <td>6.000000</td>\n",
       "      <td>12.00000</td>\n",
       "      <td>6.000000</td>\n",
       "      <td>11.517318</td>\n",
       "      <td>12.000000</td>\n",
       "      <td>1.338256</td>\n",
       "      <td>-2.943017</td>\n",
       "      <td>7.694823</td>\n",
       "    </tr>\n",
       "  </tbody>\n",
       "</table>\n",
       "</div>"
      ],
      "text/plain": [
       "                          attributes        min          max         range  \\\n",
       "0                            balance   0.000000  19043.13856  19043.138560   \n",
       "1                  balance_frequency   0.000000      1.00000      1.000000   \n",
       "2                          purchases   0.000000  49039.57000  49039.570000   \n",
       "3                   oneoff_purchases   0.000000  40761.25000  40761.250000   \n",
       "4             installments_purchases   0.000000  22500.00000  22500.000000   \n",
       "5                       cash_advance   0.000000  47137.21176  47137.211760   \n",
       "6                purchases_frequency   0.000000      1.00000      1.000000   \n",
       "7         oneoff_purchases_frequency   0.000000      1.00000      1.000000   \n",
       "8   purchases_installments_frequency   0.000000      1.00000      1.000000   \n",
       "9             cash_advance_frequency   0.000000      1.50000      1.500000   \n",
       "10                  cash_advance_trx   0.000000    123.00000    123.000000   \n",
       "11                     purchases_trx   0.000000    358.00000    358.000000   \n",
       "12                      credit_limit  50.000000  30000.00000  29950.000000   \n",
       "13                          payments   0.000000  50721.48336  50721.483360   \n",
       "14                  minimum_payments   0.019163  76406.20752  76406.188357   \n",
       "15                  prc_full_payment   0.000000      1.00000      1.000000   \n",
       "16                            tenure   6.000000     12.00000      6.000000   \n",
       "\n",
       "           mean      median          std       skew    kurtosis  \n",
       "0   1564.474828  873.385231  2081.415590   2.393386    7.674751  \n",
       "1      0.877271    1.000000     0.236891  -2.023266    3.092370  \n",
       "2   1003.204834  361.280000  2136.515413   8.144269  111.388771  \n",
       "3    592.437371   38.000000  1659.795184  10.045083  164.187572  \n",
       "4    411.067645   89.000000   904.287592   7.299120   96.575178  \n",
       "5    978.871112    0.000000  2097.046713   5.166609   52.899434  \n",
       "6      0.490351    0.500000     0.401348   0.060164   -1.638631  \n",
       "7      0.202458    0.083333     0.298319   1.535613    1.161846  \n",
       "8      0.364437    0.166667     0.397426   0.509201   -1.398632  \n",
       "9      0.135144    0.000000     0.200110   1.828686    3.334734  \n",
       "10     3.248827    0.000000     6.824265   5.721298   61.646862  \n",
       "11    14.709832    7.000000    24.856260   4.630655   34.793100  \n",
       "12  4494.449450         NaN  3638.612411   1.522464    2.836656  \n",
       "13  1733.143852  856.901546  2894.902017   5.907620   54.770736  \n",
       "14   864.206542         NaN  2372.309261  13.622797  283.989986  \n",
       "15     0.153715    0.000000     0.292483   1.942820    2.432395  \n",
       "16    11.517318   12.000000     1.338256  -2.943017    7.694823  "
      ]
     },
     "execution_count": 16,
     "metadata": {},
     "output_type": "execute_result"
    }
   ],
   "source": [
    "# Juntando as metricas em uma tabela\n",
    "m = pd.concat([d2, d3, d4, ct1, ct2, d1, d5, d6]).T.reset_index()\n",
    "m.columns = ['attributes', 'min', 'max', 'range', 'mean', 'median', 'std', 'skew', 'kurtosis']\n",
    "m"
   ]
  },
  {
   "cell_type": "code",
   "execution_count": 17,
   "id": "c5ba81f0",
   "metadata": {
    "ExecuteTime": {
     "end_time": "2023-04-26T19:52:47.454586Z",
     "start_time": "2023-04-26T19:52:42.802049Z"
    },
    "scrolled": false
   },
   "outputs": [
    {
     "data": {
      "image/png": "[encoded data removed]",
      "text/plain": [
       "<Figure size 1440x1440 with 20 Axes>"
      ]
     },
     "metadata": {
      "needs_background": "light"
     },
     "output_type": "display_data"
    }
   ],
   "source": [
    "# Histograma para ver a distribuição dos dados\n",
    "num_dados.hist(bins=20, figsize=(20,20), color = 'r');"
   ]
  },
  {
   "cell_type": "markdown",
   "id": "3df9497d",
   "metadata": {},
   "source": [
    "**Nota:**\n",
    "- Balance: Podemos ver que a maior concentração das pessoas tem um saldo na conta corrente abaixo de 2 mil para fazer compras.\n",
    "- Balance_frequency: A maioria das pessoas na base de dados mantém dinheiro na conta corrente para fazer compras no cartão de débito.\n",
    "\n",
    "**Obs.: Talvez as pessoas que mantém as contas atualizadas, o saldo seja baixo de 2 mil.**\n",
    "\n",
    "- Quantidade de compras parceladas (installments_purchases) é maior que compras feitas “de uma só vez” (oneoff_purchases).\n",
    "- Purchases_frequency: Podemos identificar dois grupos, um grupo de que usa muito o cartão de crédito e outro que praticamente não usa cartão de crédito, desta forma o banco pode análisar e mandar campanha diferente para cada perfil de cliente."
   ]
  },
  {
   "cell_type": "markdown",
   "id": "5890e291",
   "metadata": {},
   "source": [
    "#### Colunas Categóricas"
   ]
  },
  {
   "cell_type": "code",
   "execution_count": 18,
   "id": "c436e14c",
   "metadata": {
    "ExecuteTime": {
     "end_time": "2023-04-26T19:52:47.479658Z",
     "start_time": "2023-04-26T19:52:47.454586Z"
    }
   },
   "outputs": [
    {
     "data": {
      "text/plain": [
       "cust_id    8950\n",
       "dtype: int64"
      ]
     },
     "execution_count": 18,
     "metadata": {},
     "output_type": "execute_result"
    }
   ],
   "source": [
    "# Verificando os valores únicos das colunas\n",
    "cat_dados.apply(lambda x: x.unique().shape[0])"
   ]
  },
  {
   "cell_type": "markdown",
   "id": "556bc147",
   "metadata": {},
   "source": [
    "## <font color='blue'> PASSO 2 - Filtragem das Variáveis\n",
    "<a id='passo3'></a>"
   ]
  },
  {
   "cell_type": "markdown",
   "id": "b0768d44",
   "metadata": {},
   "source": [
    "### <font color='#F37126'> 2.1. Filtragem das Linhas"
   ]
  },
  {
   "cell_type": "code",
   "execution_count": 19,
   "id": "ba73126b",
   "metadata": {
    "ExecuteTime": {
     "end_time": "2023-04-26T19:52:47.495651Z",
     "start_time": "2023-04-26T19:52:47.479658Z"
    }
   },
   "outputs": [
    {
     "data": {
      "text/plain": [
       "864.2065423050816"
      ]
     },
     "execution_count": 19,
     "metadata": {},
     "output_type": "execute_result"
    }
   ],
   "source": [
    "# Média\n",
    "df_clientes['minimum_payments'].mean()"
   ]
  },
  {
   "cell_type": "code",
   "execution_count": 20,
   "id": "a4016da3",
   "metadata": {
    "ExecuteTime": {
     "end_time": "2023-04-26T19:52:47.511651Z",
     "start_time": "2023-04-26T19:52:47.495651Z"
    }
   },
   "outputs": [],
   "source": [
    "# Fazendo a média para preencher os valores nulos\n",
    "df_clientes.loc[(df_clientes['minimum_payments'].isnull() == True), 'minimum_payments'] = df_clientes['minimum_payments'].mean()"
   ]
  },
  {
   "cell_type": "code",
   "execution_count": 21,
   "id": "eea9eb17",
   "metadata": {
    "ExecuteTime": {
     "end_time": "2023-04-26T19:52:47.527649Z",
     "start_time": "2023-04-26T19:52:47.511651Z"
    }
   },
   "outputs": [
    {
     "data": {
      "text/plain": [
       "4494.449450364621"
      ]
     },
     "execution_count": 21,
     "metadata": {},
     "output_type": "execute_result"
    }
   ],
   "source": [
    "# Média\n",
    "df_clientes['credit_limit'].mean()"
   ]
  },
  {
   "cell_type": "code",
   "execution_count": 22,
   "id": "a8578365",
   "metadata": {
    "ExecuteTime": {
     "end_time": "2023-04-26T19:52:47.544350Z",
     "start_time": "2023-04-26T19:52:47.527649Z"
    }
   },
   "outputs": [],
   "source": [
    "df_clientes.loc[(df_clientes.credit_limit.isnull() == True), 'credit_limit'] = df_clientes.credit_limit.mean()"
   ]
  },
  {
   "cell_type": "code",
   "execution_count": 23,
   "id": "521787b9",
   "metadata": {
    "ExecuteTime": {
     "end_time": "2023-04-26T19:52:48.500278Z",
     "start_time": "2023-04-26T19:52:47.548261Z"
    }
   },
   "outputs": [
    {
     "data": {
      "image/png": "[encoded data removed]",
      "text/plain": [
       "<Figure size 432x288 with 1 Axes>"
      ]
     },
     "metadata": {
      "needs_background": "light"
     },
     "output_type": "display_data"
    }
   ],
   "source": [
    "sns.heatmap(df_clientes.isnull(),cbar=False);"
   ]
  },
  {
   "cell_type": "code",
   "execution_count": 24,
   "id": "68795631",
   "metadata": {
    "ExecuteTime": {
     "end_time": "2023-04-26T19:52:48.525397Z",
     "start_time": "2023-04-26T19:52:48.501399Z"
    }
   },
   "outputs": [
    {
     "data": {
      "text/plain": [
       "cust_id                             0\n",
       "balance                             0\n",
       "balance_frequency                   0\n",
       "purchases                           0\n",
       "oneoff_purchases                    0\n",
       "installments_purchases              0\n",
       "cash_advance                        0\n",
       "purchases_frequency                 0\n",
       "oneoff_purchases_frequency          0\n",
       "purchases_installments_frequency    0\n",
       "cash_advance_frequency              0\n",
       "cash_advance_trx                    0\n",
       "purchases_trx                       0\n",
       "credit_limit                        0\n",
       "payments                            0\n",
       "minimum_payments                    0\n",
       "prc_full_payment                    0\n",
       "tenure                              0\n",
       "dtype: int64"
      ]
     },
     "execution_count": 24,
     "metadata": {},
     "output_type": "execute_result"
    }
   ],
   "source": [
    "df_clientes.isnull().sum()"
   ]
  },
  {
   "cell_type": "code",
   "execution_count": 25,
   "id": "4a3fe5a9",
   "metadata": {
    "ExecuteTime": {
     "end_time": "2023-04-26T19:52:48.590651Z",
     "start_time": "2023-04-26T19:52:48.525397Z"
    }
   },
   "outputs": [
    {
     "data": {
      "text/plain": [
       "0"
      ]
     },
     "execution_count": 25,
     "metadata": {},
     "output_type": "execute_result"
    }
   ],
   "source": [
    "# Verificando se tem valores duplicados\n",
    "df_clientes.duplicated().sum()"
   ]
  },
  {
   "cell_type": "markdown",
   "id": "cf516b27",
   "metadata": {},
   "source": [
    "### <font color='#F37126'> 2.2. Selecão das Colunas"
   ]
  },
  {
   "cell_type": "code",
   "execution_count": 26,
   "id": "d5adfc6f",
   "metadata": {
    "ExecuteTime": {
     "end_time": "2023-04-26T19:52:49.213990Z",
     "start_time": "2023-04-26T19:52:49.197987Z"
    }
   },
   "outputs": [],
   "source": [
    "# Apagando o atributo \"CUST_ID\"\n",
    "df_clientes.drop('cust_id',axis=1,inplace=True)"
   ]
  },
  {
   "cell_type": "code",
   "execution_count": 27,
   "id": "08e756f8",
   "metadata": {
    "ExecuteTime": {
     "end_time": "2023-04-26T19:52:49.730204Z",
     "start_time": "2023-04-26T19:52:49.706203Z"
    }
   },
   "outputs": [
    {
     "data": {
      "text/plain": [
       "17"
      ]
     },
     "execution_count": 27,
     "metadata": {},
     "output_type": "execute_result"
    }
   ],
   "source": [
    "len(df_clientes.columns)"
   ]
  },
  {
   "cell_type": "markdown",
   "id": "83f44872",
   "metadata": {},
   "source": [
    "# <font color='red'> 4 - ANÁLISE EXPLORATÓRIA DOS DADOS\n",
    "<a id='eda'></a>"
   ]
  },
  {
   "cell_type": "markdown",
   "id": "bb56c60e",
   "metadata": {},
   "source": [
    "## <font color='blue'> PASSO 3 - Exploração de Dados\n",
    "<a id='passo4'></a>"
   ]
  },
  {
   "cell_type": "markdown",
   "id": "462b26ca",
   "metadata": {},
   "source": [
    "### <font color='#F37126'> 3.1. Leitura dos dados"
   ]
  },
  {
   "cell_type": "markdown",
   "id": "6616bb14",
   "metadata": {},
   "source": [
    "**Importar e visualizar a base de dados**"
   ]
  },
  {
   "cell_type": "code",
   "execution_count": 28,
   "id": "fd1033e9",
   "metadata": {
    "ExecuteTime": {
     "end_time": "2023-04-26T19:52:52.023426Z",
     "start_time": "2023-04-26T19:52:52.007406Z"
    }
   },
   "outputs": [],
   "source": [
    "df4_clientes = df_clientes.copy()"
   ]
  },
  {
   "cell_type": "code",
   "execution_count": 29,
   "id": "7add19ae",
   "metadata": {
    "ExecuteTime": {
     "end_time": "2023-04-26T19:52:52.606456Z",
     "start_time": "2023-04-26T19:52:52.550462Z"
    }
   },
   "outputs": [
    {
     "data": {
      "text/html": [
       "<div>\n",
       "<style scoped>\n",
       "    .dataframe tbody tr th:only-of-type {\n",
       "        vertical-align: middle;\n",
       "    }\n",
       "\n",
       "    .dataframe tbody tr th {\n",
       "        vertical-align: top;\n",
       "    }\n",
       "\n",
       "    .dataframe thead th {\n",
       "        text-align: right;\n",
       "    }\n",
       "</style>\n",
       "<table border=\"1\" class=\"dataframe\">\n",
       "  <thead>\n",
       "    <tr style=\"text-align: right;\">\n",
       "      <th></th>\n",
       "      <th>balance</th>\n",
       "      <th>balance_frequency</th>\n",
       "      <th>purchases</th>\n",
       "      <th>oneoff_purchases</th>\n",
       "      <th>installments_purchases</th>\n",
       "      <th>cash_advance</th>\n",
       "      <th>purchases_frequency</th>\n",
       "      <th>oneoff_purchases_frequency</th>\n",
       "      <th>purchases_installments_frequency</th>\n",
       "      <th>cash_advance_frequency</th>\n",
       "      <th>cash_advance_trx</th>\n",
       "      <th>purchases_trx</th>\n",
       "      <th>credit_limit</th>\n",
       "      <th>payments</th>\n",
       "      <th>minimum_payments</th>\n",
       "      <th>prc_full_payment</th>\n",
       "      <th>tenure</th>\n",
       "    </tr>\n",
       "  </thead>\n",
       "  <tbody>\n",
       "    <tr>\n",
       "      <th>0</th>\n",
       "      <td>40.900749</td>\n",
       "      <td>0.818182</td>\n",
       "      <td>95.40</td>\n",
       "      <td>0.00</td>\n",
       "      <td>95.4</td>\n",
       "      <td>0.000000</td>\n",
       "      <td>0.166667</td>\n",
       "      <td>0.000000</td>\n",
       "      <td>0.083333</td>\n",
       "      <td>0.000000</td>\n",
       "      <td>0</td>\n",
       "      <td>2</td>\n",
       "      <td>1000.0</td>\n",
       "      <td>201.802084</td>\n",
       "      <td>139.509787</td>\n",
       "      <td>0.000000</td>\n",
       "      <td>12</td>\n",
       "    </tr>\n",
       "    <tr>\n",
       "      <th>1</th>\n",
       "      <td>3202.467416</td>\n",
       "      <td>0.909091</td>\n",
       "      <td>0.00</td>\n",
       "      <td>0.00</td>\n",
       "      <td>0.0</td>\n",
       "      <td>6442.945483</td>\n",
       "      <td>0.000000</td>\n",
       "      <td>0.000000</td>\n",
       "      <td>0.000000</td>\n",
       "      <td>0.250000</td>\n",
       "      <td>4</td>\n",
       "      <td>0</td>\n",
       "      <td>7000.0</td>\n",
       "      <td>4103.032597</td>\n",
       "      <td>1072.340217</td>\n",
       "      <td>0.222222</td>\n",
       "      <td>12</td>\n",
       "    </tr>\n",
       "    <tr>\n",
       "      <th>2</th>\n",
       "      <td>2495.148862</td>\n",
       "      <td>1.000000</td>\n",
       "      <td>773.17</td>\n",
       "      <td>773.17</td>\n",
       "      <td>0.0</td>\n",
       "      <td>0.000000</td>\n",
       "      <td>1.000000</td>\n",
       "      <td>1.000000</td>\n",
       "      <td>0.000000</td>\n",
       "      <td>0.000000</td>\n",
       "      <td>0</td>\n",
       "      <td>12</td>\n",
       "      <td>7500.0</td>\n",
       "      <td>622.066742</td>\n",
       "      <td>627.284787</td>\n",
       "      <td>0.000000</td>\n",
       "      <td>12</td>\n",
       "    </tr>\n",
       "    <tr>\n",
       "      <th>3</th>\n",
       "      <td>1666.670542</td>\n",
       "      <td>0.636364</td>\n",
       "      <td>1499.00</td>\n",
       "      <td>1499.00</td>\n",
       "      <td>0.0</td>\n",
       "      <td>205.788017</td>\n",
       "      <td>0.083333</td>\n",
       "      <td>0.083333</td>\n",
       "      <td>0.000000</td>\n",
       "      <td>0.083333</td>\n",
       "      <td>1</td>\n",
       "      <td>1</td>\n",
       "      <td>7500.0</td>\n",
       "      <td>0.000000</td>\n",
       "      <td>864.206542</td>\n",
       "      <td>0.000000</td>\n",
       "      <td>12</td>\n",
       "    </tr>\n",
       "    <tr>\n",
       "      <th>4</th>\n",
       "      <td>817.714335</td>\n",
       "      <td>1.000000</td>\n",
       "      <td>16.00</td>\n",
       "      <td>16.00</td>\n",
       "      <td>0.0</td>\n",
       "      <td>0.000000</td>\n",
       "      <td>0.083333</td>\n",
       "      <td>0.083333</td>\n",
       "      <td>0.000000</td>\n",
       "      <td>0.000000</td>\n",
       "      <td>0</td>\n",
       "      <td>1</td>\n",
       "      <td>1200.0</td>\n",
       "      <td>678.334763</td>\n",
       "      <td>244.791237</td>\n",
       "      <td>0.000000</td>\n",
       "      <td>12</td>\n",
       "    </tr>\n",
       "  </tbody>\n",
       "</table>\n",
       "</div>"
      ],
      "text/plain": [
       "       balance  balance_frequency  purchases  oneoff_purchases  \\\n",
       "0    40.900749           0.818182      95.40              0.00   \n",
       "1  3202.467416           0.909091       0.00              0.00   \n",
       "2  2495.148862           1.000000     773.17            773.17   \n",
       "3  1666.670542           0.636364    1499.00           1499.00   \n",
       "4   817.714335           1.000000      16.00             16.00   \n",
       "\n",
       "   installments_purchases  cash_advance  purchases_frequency  \\\n",
       "0                    95.4      0.000000             0.166667   \n",
       "1                     0.0   6442.945483             0.000000   \n",
       "2                     0.0      0.000000             1.000000   \n",
       "3                     0.0    205.788017             0.083333   \n",
       "4                     0.0      0.000000             0.083333   \n",
       "\n",
       "   oneoff_purchases_frequency  purchases_installments_frequency  \\\n",
       "0                    0.000000                          0.083333   \n",
       "1                    0.000000                          0.000000   \n",
       "2                    1.000000                          0.000000   \n",
       "3                    0.083333                          0.000000   \n",
       "4                    0.083333                          0.000000   \n",
       "\n",
       "   cash_advance_frequency  cash_advance_trx  purchases_trx  credit_limit  \\\n",
       "0                0.000000                 0              2        1000.0   \n",
       "1                0.250000                 4              0        7000.0   \n",
       "2                0.000000                 0             12        7500.0   \n",
       "3                0.083333                 1              1        7500.0   \n",
       "4                0.000000                 0              1        1200.0   \n",
       "\n",
       "      payments  minimum_payments  prc_full_payment  tenure  \n",
       "0   201.802084        139.509787          0.000000      12  \n",
       "1  4103.032597       1072.340217          0.222222      12  \n",
       "2   622.066742        627.284787          0.000000      12  \n",
       "3     0.000000        864.206542          0.000000      12  \n",
       "4   678.334763        244.791237          0.000000      12  "
      ]
     },
     "execution_count": 29,
     "metadata": {},
     "output_type": "execute_result"
    }
   ],
   "source": [
    "df4_clientes.head()"
   ]
  },
  {
   "cell_type": "code",
   "execution_count": 30,
   "id": "a57bd651",
   "metadata": {
    "ExecuteTime": {
     "end_time": "2023-04-26T19:52:53.163943Z",
     "start_time": "2023-04-26T19:52:53.134024Z"
    }
   },
   "outputs": [
    {
     "data": {
      "text/plain": [
       "(8950, 17)"
      ]
     },
     "execution_count": 30,
     "metadata": {},
     "output_type": "execute_result"
    }
   ],
   "source": [
    "df4_clientes.shape"
   ]
  },
  {
   "cell_type": "markdown",
   "id": "034c5845",
   "metadata": {},
   "source": [
    "### <font color='#F37126'> 3.2. Análise Univariada"
   ]
  },
  {
   "cell_type": "code",
   "execution_count": 31,
   "id": "815e62a8",
   "metadata": {
    "ExecuteTime": {
     "end_time": "2023-04-26T19:52:54.660631Z",
     "start_time": "2023-04-26T19:52:54.612612Z"
    }
   },
   "outputs": [
    {
     "data": {
      "text/html": [
       "<div>\n",
       "<style scoped>\n",
       "    .dataframe tbody tr th:only-of-type {\n",
       "        vertical-align: middle;\n",
       "    }\n",
       "\n",
       "    .dataframe tbody tr th {\n",
       "        vertical-align: top;\n",
       "    }\n",
       "\n",
       "    .dataframe thead th {\n",
       "        text-align: right;\n",
       "    }\n",
       "</style>\n",
       "<table border=\"1\" class=\"dataframe\">\n",
       "  <thead>\n",
       "    <tr style=\"text-align: right;\">\n",
       "      <th></th>\n",
       "      <th>balance</th>\n",
       "      <th>balance_frequency</th>\n",
       "      <th>purchases</th>\n",
       "      <th>oneoff_purchases</th>\n",
       "      <th>installments_purchases</th>\n",
       "      <th>cash_advance</th>\n",
       "      <th>purchases_frequency</th>\n",
       "      <th>oneoff_purchases_frequency</th>\n",
       "      <th>purchases_installments_frequency</th>\n",
       "      <th>cash_advance_frequency</th>\n",
       "      <th>cash_advance_trx</th>\n",
       "      <th>purchases_trx</th>\n",
       "      <th>credit_limit</th>\n",
       "      <th>payments</th>\n",
       "      <th>minimum_payments</th>\n",
       "      <th>prc_full_payment</th>\n",
       "      <th>tenure</th>\n",
       "    </tr>\n",
       "  </thead>\n",
       "  <tbody>\n",
       "    <tr>\n",
       "      <th>550</th>\n",
       "      <td>11547.52001</td>\n",
       "      <td>1.0</td>\n",
       "      <td>49039.57</td>\n",
       "      <td>40761.25</td>\n",
       "      <td>8278.32</td>\n",
       "      <td>558.166886</td>\n",
       "      <td>1.0</td>\n",
       "      <td>1.0</td>\n",
       "      <td>0.916667</td>\n",
       "      <td>0.083333</td>\n",
       "      <td>1</td>\n",
       "      <td>101</td>\n",
       "      <td>22500.0</td>\n",
       "      <td>46930.59824</td>\n",
       "      <td>2974.069421</td>\n",
       "      <td>0.25</td>\n",
       "      <td>12</td>\n",
       "    </tr>\n",
       "  </tbody>\n",
       "</table>\n",
       "</div>"
      ],
      "text/plain": [
       "         balance  balance_frequency  purchases  oneoff_purchases  \\\n",
       "550  11547.52001                1.0   49039.57          40761.25   \n",
       "\n",
       "     installments_purchases  cash_advance  purchases_frequency  \\\n",
       "550                 8278.32    558.166886                  1.0   \n",
       "\n",
       "     oneoff_purchases_frequency  purchases_installments_frequency  \\\n",
       "550                         1.0                          0.916667   \n",
       "\n",
       "     cash_advance_frequency  cash_advance_trx  purchases_trx  credit_limit  \\\n",
       "550                0.083333                 1            101       22500.0   \n",
       "\n",
       "        payments  minimum_payments  prc_full_payment  tenure  \n",
       "550  46930.59824       2974.069421              0.25      12  "
      ]
     },
     "execution_count": 31,
     "metadata": {},
     "output_type": "execute_result"
    }
   ],
   "source": [
    "# O cliente que fez a compra mais alta\n",
    "df4_clientes[df4_clientes['oneoff_purchases'] == 40761.250000]"
   ]
  },
  {
   "cell_type": "code",
   "execution_count": 32,
   "id": "b3268896",
   "metadata": {
    "ExecuteTime": {
     "end_time": "2023-04-26T19:52:55.130439Z",
     "start_time": "2023-04-26T19:52:55.100262Z"
    }
   },
   "outputs": [
    {
     "data": {
      "text/plain": [
       "47137.21176"
      ]
     },
     "execution_count": 32,
     "metadata": {},
     "output_type": "execute_result"
    }
   ],
   "source": [
    "# O cliente que saca o maior valor do cartão de crédito\n",
    "df4_clientes['cash_advance'].max()"
   ]
  },
  {
   "cell_type": "code",
   "execution_count": 33,
   "id": "0c7c6605",
   "metadata": {
    "ExecuteTime": {
     "end_time": "2023-04-26T19:52:55.766094Z",
     "start_time": "2023-04-26T19:52:55.718076Z"
    }
   },
   "outputs": [
    {
     "data": {
      "text/html": [
       "<div>\n",
       "<style scoped>\n",
       "    .dataframe tbody tr th:only-of-type {\n",
       "        vertical-align: middle;\n",
       "    }\n",
       "\n",
       "    .dataframe tbody tr th {\n",
       "        vertical-align: top;\n",
       "    }\n",
       "\n",
       "    .dataframe thead th {\n",
       "        text-align: right;\n",
       "    }\n",
       "</style>\n",
       "<table border=\"1\" class=\"dataframe\">\n",
       "  <thead>\n",
       "    <tr style=\"text-align: right;\">\n",
       "      <th></th>\n",
       "      <th>balance</th>\n",
       "      <th>balance_frequency</th>\n",
       "      <th>purchases</th>\n",
       "      <th>oneoff_purchases</th>\n",
       "      <th>installments_purchases</th>\n",
       "      <th>cash_advance</th>\n",
       "      <th>purchases_frequency</th>\n",
       "      <th>oneoff_purchases_frequency</th>\n",
       "      <th>purchases_installments_frequency</th>\n",
       "      <th>cash_advance_frequency</th>\n",
       "      <th>cash_advance_trx</th>\n",
       "      <th>purchases_trx</th>\n",
       "      <th>credit_limit</th>\n",
       "      <th>payments</th>\n",
       "      <th>minimum_payments</th>\n",
       "      <th>prc_full_payment</th>\n",
       "      <th>tenure</th>\n",
       "    </tr>\n",
       "  </thead>\n",
       "  <tbody>\n",
       "    <tr>\n",
       "      <th>2159</th>\n",
       "      <td>10905.05381</td>\n",
       "      <td>1.0</td>\n",
       "      <td>431.93</td>\n",
       "      <td>133.5</td>\n",
       "      <td>298.43</td>\n",
       "      <td>47137.21176</td>\n",
       "      <td>0.583333</td>\n",
       "      <td>0.25</td>\n",
       "      <td>0.5</td>\n",
       "      <td>1.0</td>\n",
       "      <td>123</td>\n",
       "      <td>21</td>\n",
       "      <td>19600.0</td>\n",
       "      <td>39048.59762</td>\n",
       "      <td>5394.173671</td>\n",
       "      <td>0.0</td>\n",
       "      <td>12</td>\n",
       "    </tr>\n",
       "  </tbody>\n",
       "</table>\n",
       "</div>"
      ],
      "text/plain": [
       "          balance  balance_frequency  purchases  oneoff_purchases  \\\n",
       "2159  10905.05381                1.0     431.93             133.5   \n",
       "\n",
       "      installments_purchases  cash_advance  purchases_frequency  \\\n",
       "2159                  298.43   47137.21176             0.583333   \n",
       "\n",
       "      oneoff_purchases_frequency  purchases_installments_frequency  \\\n",
       "2159                        0.25                               0.5   \n",
       "\n",
       "      cash_advance_frequency  cash_advance_trx  purchases_trx  credit_limit  \\\n",
       "2159                     1.0               123             21       19600.0   \n",
       "\n",
       "         payments  minimum_payments  prc_full_payment  tenure  \n",
       "2159  39048.59762       5394.173671               0.0      12  "
      ]
     },
     "execution_count": 33,
     "metadata": {},
     "output_type": "execute_result"
    }
   ],
   "source": [
    "# O cliente que saca o maior valor do cartão de crédito\n",
    "df4_clientes[df4_clientes['cash_advance'] == 47137.21176]"
   ]
  },
  {
   "cell_type": "markdown",
   "id": "4e173fa0",
   "metadata": {},
   "source": [
    "### <font color='#F37126'> 3.3. Análise Multivariada"
   ]
  },
  {
   "cell_type": "markdown",
   "id": "642a0077",
   "metadata": {},
   "source": [
    "**Correlação para ver o quanto um atributo pode influênciar o outro**\n",
    "- A correlação é uma medida estatística que indica a relação entre duas variáveis.\n",
    "- O valor da correlação varia de -1 a 1, onde 1 indica uma correlação positiva perfeita (quando uma variável aumenta, a outra também aumenta na mesma proporção) e -1 indica uma correlação negativa perfeita (quando uma variável aumenta, a outra diminui na mesma proporção). Um valor próximo de zero indica que não há relação entre as variáveis."
   ]
  },
  {
   "cell_type": "code",
   "execution_count": 34,
   "id": "a41cf45f",
   "metadata": {
    "ExecuteTime": {
     "end_time": "2023-04-26T19:53:01.029679Z",
     "start_time": "2023-04-26T19:52:58.232013Z"
    }
   },
   "outputs": [
    {
     "data": {
      "image/png": "[encoded data removed]",
      "text/plain": [
       "<Figure size 1440x1080 with 2 Axes>"
      ]
     },
     "metadata": {
      "needs_background": "light"
     },
     "output_type": "display_data"
    }
   ],
   "source": [
    "fig, ax = plt.subplots(figsize=(20,15))\n",
    "correlations = df4_clientes.corr()\n",
    "sns.heatmap(correlations, annot=True);\n",
    "plt.show()"
   ]
  },
  {
   "cell_type": "markdown",
   "id": "26535ff8",
   "metadata": {},
   "source": [
    "**Nota:**\n",
    "- Podemos ver uma correlação negativa entre **Prc_Full_Payment / Cash_Advance_Frequency**, que pode indicar, que quanto maior a frequência de saque do limite do cartão de crédito, menor é o valor de pagamento da fatura de crédito."
   ]
  },
  {
   "cell_type": "code",
   "execution_count": 35,
   "id": "069159e3",
   "metadata": {
    "ExecuteTime": {
     "end_time": "2023-04-26T19:53:06.699869Z",
     "start_time": "2023-04-26T19:53:06.651853Z"
    }
   },
   "outputs": [
    {
     "data": {
      "text/plain": [
       "prc_full_payment                   -0.318959\n",
       "purchases_frequency                -0.077944\n",
       "purchases_installments_frequency   -0.063186\n",
       "tenure                              0.072692\n",
       "oneoff_purchases_frequency          0.073166\n",
       "installments_purchases              0.126469\n",
       "purchases_trx                       0.154338\n",
       "oneoff_purchases                    0.164350\n",
       "purchases                           0.181261\n",
       "balance_frequency                   0.322412\n",
       "payments                            0.322802\n",
       "cash_advance_trx                    0.385152\n",
       "minimum_payments                    0.394282\n",
       "cash_advance_frequency              0.449218\n",
       "cash_advance                        0.496692\n",
       "credit_limit                        0.531267\n",
       "balance                             1.000000\n",
       "Name: balance, dtype: float64"
      ]
     },
     "execution_count": 35,
     "metadata": {},
     "output_type": "execute_result"
    }
   ],
   "source": [
    "# Criando um rank das correlações\n",
    "correlations = df4_clientes.corr()['balance'].sort_values()\n",
    "correlations"
   ]
  },
  {
   "cell_type": "markdown",
   "id": "1cc8042e",
   "metadata": {},
   "source": [
    "**Nota:**\n",
    "\n",
    "- Pode observar que a variável \"balance\" tem uma correlação positiva forte com a variável \"credit_limit\" (0,53).\n",
    "    - Quando uma dessas variáveis aumenta, a outra também tende a aumentar na mesma proporção.\n",
    "    - O valor de 0,53 indica que essa relação é forte, ou seja, quando o limite de crédito do cliente é aumentado, é provável que o saldo disponível em sua conta corrente também aumente. Por outro lado, se o limite de crédito for reduzido, é provável que o saldo disponível na conta corrente também diminua.\n",
    "- E uma correlação positiva moderada com as variáveis \"cash_advance\" (0,50).\n",
    "    - Quando uma dessas variáveis aumenta, a outra também tende a aumentar na mesma proporção.    \n",
    "- Por outro lado, a variável \"balance\" tem uma correlação negativa forte com a variável \"prc_full_payment\" (-0,31).\n",
    "- E uma correlação negativa moderada com as variáveis \"purchases_frequency\" (-0,08) e \"purchases_installments_frequency\" (-0,06).\n",
    "\n",
    "\n",
    "- Esses resultados podem ajudá-lo a entender melhor como as variáveis estão relacionadas entre si. Por exemplo, se você deseja aumentar o saldo dos clientes, pode ser interessante considerar aumentar o limite de crédito e reduzir a frequência de saques de dinheiro adiantado.\n",
    "- Por outro lado, se você deseja reduzir o saldo médio dos clientes, pode ser interessante incentivar o pagamento completo da fatura e aumentar a frequência de compras parceladas.\n",
    "\n",
    "\n",
    "-  É importante lembrar que a correlação não implica causalidade, ou seja, ela não indica que uma variável causa a outra."
   ]
  },
  {
   "cell_type": "markdown",
   "id": "ea30c255",
   "metadata": {},
   "source": [
    "# <font color='red'> 5 - PREPARAÇÃO DOS DADOS\n",
    "<a id='tratamento'></a>"
   ]
  },
  {
   "cell_type": "markdown",
   "id": "86e0e448",
   "metadata": {},
   "source": [
    "## <font color='blue'> PASSO 4 - Modelagem dos Dados\n",
    "<a id='passo5'></a>"
   ]
  },
  {
   "cell_type": "markdown",
   "id": "9620cd5f",
   "metadata": {},
   "source": [
    "### <font color='#F37126'> 4.1. Leitura dos dados"
   ]
  },
  {
   "cell_type": "code",
   "execution_count": 36,
   "id": "d4b3c537",
   "metadata": {
    "ExecuteTime": {
     "end_time": "2023-04-24T16:33:18.847378Z",
     "start_time": "2023-04-24T16:33:18.831379Z"
    }
   },
   "outputs": [],
   "source": [
    "df5_clientes = df4_clientes.copy()"
   ]
  },
  {
   "cell_type": "code",
   "execution_count": 37,
   "id": "06d5a369",
   "metadata": {
    "ExecuteTime": {
     "end_time": "2023-04-24T16:33:18.903372Z",
     "start_time": "2023-04-24T16:33:18.847378Z"
    }
   },
   "outputs": [
    {
     "data": {
      "text/html": [
       "<div>\n",
       "<style scoped>\n",
       "    .dataframe tbody tr th:only-of-type {\n",
       "        vertical-align: middle;\n",
       "    }\n",
       "\n",
       "    .dataframe tbody tr th {\n",
       "        vertical-align: top;\n",
       "    }\n",
       "\n",
       "    .dataframe thead th {\n",
       "        text-align: right;\n",
       "    }\n",
       "</style>\n",
       "<table border=\"1\" class=\"dataframe\">\n",
       "  <thead>\n",
       "    <tr style=\"text-align: right;\">\n",
       "      <th></th>\n",
       "      <th>balance</th>\n",
       "      <th>balance_frequency</th>\n",
       "      <th>purchases</th>\n",
       "      <th>oneoff_purchases</th>\n",
       "      <th>installments_purchases</th>\n",
       "      <th>cash_advance</th>\n",
       "      <th>purchases_frequency</th>\n",
       "      <th>oneoff_purchases_frequency</th>\n",
       "      <th>purchases_installments_frequency</th>\n",
       "      <th>cash_advance_frequency</th>\n",
       "      <th>cash_advance_trx</th>\n",
       "      <th>purchases_trx</th>\n",
       "      <th>credit_limit</th>\n",
       "      <th>payments</th>\n",
       "      <th>minimum_payments</th>\n",
       "      <th>prc_full_payment</th>\n",
       "      <th>tenure</th>\n",
       "    </tr>\n",
       "  </thead>\n",
       "  <tbody>\n",
       "    <tr>\n",
       "      <th>0</th>\n",
       "      <td>40.900749</td>\n",
       "      <td>0.818182</td>\n",
       "      <td>95.40</td>\n",
       "      <td>0.00</td>\n",
       "      <td>95.4</td>\n",
       "      <td>0.000000</td>\n",
       "      <td>0.166667</td>\n",
       "      <td>0.000000</td>\n",
       "      <td>0.083333</td>\n",
       "      <td>0.000000</td>\n",
       "      <td>0</td>\n",
       "      <td>2</td>\n",
       "      <td>1000.0</td>\n",
       "      <td>201.802084</td>\n",
       "      <td>139.509787</td>\n",
       "      <td>0.000000</td>\n",
       "      <td>12</td>\n",
       "    </tr>\n",
       "    <tr>\n",
       "      <th>1</th>\n",
       "      <td>3202.467416</td>\n",
       "      <td>0.909091</td>\n",
       "      <td>0.00</td>\n",
       "      <td>0.00</td>\n",
       "      <td>0.0</td>\n",
       "      <td>6442.945483</td>\n",
       "      <td>0.000000</td>\n",
       "      <td>0.000000</td>\n",
       "      <td>0.000000</td>\n",
       "      <td>0.250000</td>\n",
       "      <td>4</td>\n",
       "      <td>0</td>\n",
       "      <td>7000.0</td>\n",
       "      <td>4103.032597</td>\n",
       "      <td>1072.340217</td>\n",
       "      <td>0.222222</td>\n",
       "      <td>12</td>\n",
       "    </tr>\n",
       "    <tr>\n",
       "      <th>2</th>\n",
       "      <td>2495.148862</td>\n",
       "      <td>1.000000</td>\n",
       "      <td>773.17</td>\n",
       "      <td>773.17</td>\n",
       "      <td>0.0</td>\n",
       "      <td>0.000000</td>\n",
       "      <td>1.000000</td>\n",
       "      <td>1.000000</td>\n",
       "      <td>0.000000</td>\n",
       "      <td>0.000000</td>\n",
       "      <td>0</td>\n",
       "      <td>12</td>\n",
       "      <td>7500.0</td>\n",
       "      <td>622.066742</td>\n",
       "      <td>627.284787</td>\n",
       "      <td>0.000000</td>\n",
       "      <td>12</td>\n",
       "    </tr>\n",
       "    <tr>\n",
       "      <th>3</th>\n",
       "      <td>1666.670542</td>\n",
       "      <td>0.636364</td>\n",
       "      <td>1499.00</td>\n",
       "      <td>1499.00</td>\n",
       "      <td>0.0</td>\n",
       "      <td>205.788017</td>\n",
       "      <td>0.083333</td>\n",
       "      <td>0.083333</td>\n",
       "      <td>0.000000</td>\n",
       "      <td>0.083333</td>\n",
       "      <td>1</td>\n",
       "      <td>1</td>\n",
       "      <td>7500.0</td>\n",
       "      <td>0.000000</td>\n",
       "      <td>864.206542</td>\n",
       "      <td>0.000000</td>\n",
       "      <td>12</td>\n",
       "    </tr>\n",
       "    <tr>\n",
       "      <th>4</th>\n",
       "      <td>817.714335</td>\n",
       "      <td>1.000000</td>\n",
       "      <td>16.00</td>\n",
       "      <td>16.00</td>\n",
       "      <td>0.0</td>\n",
       "      <td>0.000000</td>\n",
       "      <td>0.083333</td>\n",
       "      <td>0.083333</td>\n",
       "      <td>0.000000</td>\n",
       "      <td>0.000000</td>\n",
       "      <td>0</td>\n",
       "      <td>1</td>\n",
       "      <td>1200.0</td>\n",
       "      <td>678.334763</td>\n",
       "      <td>244.791237</td>\n",
       "      <td>0.000000</td>\n",
       "      <td>12</td>\n",
       "    </tr>\n",
       "  </tbody>\n",
       "</table>\n",
       "</div>"
      ],
      "text/plain": [
       "       balance  balance_frequency  purchases  oneoff_purchases  \\\n",
       "0    40.900749           0.818182      95.40              0.00   \n",
       "1  3202.467416           0.909091       0.00              0.00   \n",
       "2  2495.148862           1.000000     773.17            773.17   \n",
       "3  1666.670542           0.636364    1499.00           1499.00   \n",
       "4   817.714335           1.000000      16.00             16.00   \n",
       "\n",
       "   installments_purchases  cash_advance  purchases_frequency  \\\n",
       "0                    95.4      0.000000             0.166667   \n",
       "1                     0.0   6442.945483             0.000000   \n",
       "2                     0.0      0.000000             1.000000   \n",
       "3                     0.0    205.788017             0.083333   \n",
       "4                     0.0      0.000000             0.083333   \n",
       "\n",
       "   oneoff_purchases_frequency  purchases_installments_frequency  \\\n",
       "0                    0.000000                          0.083333   \n",
       "1                    0.000000                          0.000000   \n",
       "2                    1.000000                          0.000000   \n",
       "3                    0.083333                          0.000000   \n",
       "4                    0.083333                          0.000000   \n",
       "\n",
       "   cash_advance_frequency  cash_advance_trx  purchases_trx  credit_limit  \\\n",
       "0                0.000000                 0              2        1000.0   \n",
       "1                0.250000                 4              0        7000.0   \n",
       "2                0.000000                 0             12        7500.0   \n",
       "3                0.083333                 1              1        7500.0   \n",
       "4                0.000000                 0              1        1200.0   \n",
       "\n",
       "      payments  minimum_payments  prc_full_payment  tenure  \n",
       "0   201.802084        139.509787          0.000000      12  \n",
       "1  4103.032597       1072.340217          0.222222      12  \n",
       "2   622.066742        627.284787          0.000000      12  \n",
       "3     0.000000        864.206542          0.000000      12  \n",
       "4   678.334763        244.791237          0.000000      12  "
      ]
     },
     "execution_count": 37,
     "metadata": {},
     "output_type": "execute_result"
    }
   ],
   "source": [
    "df5_clientes.head()"
   ]
  },
  {
   "cell_type": "markdown",
   "id": "cbf0c639",
   "metadata": {},
   "source": [
    "### <font color='#F37126'> 4.2. Rescaling"
   ]
  },
  {
   "cell_type": "code",
   "execution_count": 38,
   "id": "994e4bc6",
   "metadata": {
    "ExecuteTime": {
     "end_time": "2023-04-24T16:33:18.935443Z",
     "start_time": "2023-04-24T16:33:18.903372Z"
    }
   },
   "outputs": [
    {
     "data": {
      "text/plain": [
       "(0.0, 19043.13856)"
      ]
     },
     "execution_count": 38,
     "metadata": {},
     "output_type": "execute_result"
    }
   ],
   "source": [
    "# Verificando o mínimo e maximo\n",
    "min(df5_clientes['balance']), max(df5_clientes['balance'])"
   ]
  },
  {
   "cell_type": "markdown",
   "id": "45389d9e",
   "metadata": {},
   "source": [
    "**Nota:**\n",
    "- Podemos um observar uma grande diferença de escala entre este valores, e como vamos trabalhar com o algoritmo k-means, onde ele vai fazer o cálculo de distância utilizando a fórmula de Euclidiana, e se deixar os valores com essa diferença ele vai considerar um atributo mais importante que o outro, por essa razão precisamos deixar todos na mesma escala."
   ]
  },
  {
   "cell_type": "code",
   "execution_count": 39,
   "id": "68512ee2",
   "metadata": {
    "ExecuteTime": {
     "end_time": "2023-04-24T16:33:18.967371Z",
     "start_time": "2023-04-24T16:33:18.935443Z"
    }
   },
   "outputs": [],
   "source": [
    "# Método para colocar os valores na mesma escala\n",
    "scaler = StandardScaler() # está função é muito indicado para quando temos muito outliers na base de dados.\n",
    "df5_clientes_scaler = scaler.fit_transform(df5_clientes)"
   ]
  },
  {
   "cell_type": "code",
   "execution_count": 40,
   "id": "6af4fe6b",
   "metadata": {
    "ExecuteTime": {
     "end_time": "2023-04-24T16:33:18.991368Z",
     "start_time": "2023-04-24T16:33:18.967371Z"
    }
   },
   "outputs": [
    {
     "data": {
      "text/plain": [
       "(numpy.ndarray, pandas.core.frame.DataFrame)"
      ]
     },
     "execution_count": 40,
     "metadata": {},
     "output_type": "execute_result"
    }
   ],
   "source": [
    "type(df5_clientes_scaler), type(df5_clientes)"
   ]
  },
  {
   "cell_type": "code",
   "execution_count": 41,
   "id": "71b85867",
   "metadata": {
    "ExecuteTime": {
     "end_time": "2023-04-24T16:33:19.015384Z",
     "start_time": "2023-04-24T16:33:18.991368Z"
    }
   },
   "outputs": [
    {
     "data": {
      "text/plain": [
       "(-0.9604333444542572, 0.36067954425377496)"
      ]
     },
     "execution_count": 41,
     "metadata": {},
     "output_type": "execute_result"
    }
   ],
   "source": [
    "# Agora temos os valores em uma escala diferente\n",
    "min(df5_clientes_scaler[0]), max(df5_clientes_scaler[0])"
   ]
  },
  {
   "cell_type": "code",
   "execution_count": 42,
   "id": "50706eeb",
   "metadata": {
    "ExecuteTime": {
     "end_time": "2023-04-24T16:33:19.031362Z",
     "start_time": "2023-04-24T16:33:19.015384Z"
    }
   },
   "outputs": [
    {
     "data": {
      "text/plain": [
       "(-0.9604333444542572, 0.36067954425377496)"
      ]
     },
     "execution_count": 42,
     "metadata": {},
     "output_type": "execute_result"
    }
   ],
   "source": [
    "# Agora temos os valores em uma escala diferente\n",
    "min(df5_clientes_scaler[0]), max(df5_clientes_scaler[0])"
   ]
  },
  {
   "cell_type": "code",
   "execution_count": 43,
   "id": "89cb9d69",
   "metadata": {
    "ExecuteTime": {
     "end_time": "2023-04-24T16:33:19.063358Z",
     "start_time": "2023-04-24T16:33:19.031362Z"
    }
   },
   "outputs": [
    {
     "data": {
      "text/plain": [
       "array([[-0.73198937, -0.24943448, -0.42489974, ..., -0.31096755,\n",
       "        -0.52555097,  0.36067954],\n",
       "       [ 0.78696085,  0.13432467, -0.46955188, ...,  0.08931021,\n",
       "         0.2342269 ,  0.36067954],\n",
       "       [ 0.44713513,  0.51808382, -0.10766823, ..., -0.10166318,\n",
       "        -0.52555097,  0.36067954],\n",
       "       ...,\n",
       "       [-0.7403981 , -0.18547673, -0.40196519, ..., -0.33546549,\n",
       "         0.32919999, -4.12276757],\n",
       "       [-0.74517423, -0.18547673, -0.46955188, ..., -0.34690648,\n",
       "         0.32919999, -4.12276757],\n",
       "       [-0.57257511, -0.88903307,  0.04214581, ..., -0.33294642,\n",
       "        -0.52555097, -4.12276757]])"
      ]
     },
     "execution_count": 43,
     "metadata": {},
     "output_type": "execute_result"
    }
   ],
   "source": [
    "# Todos os dados estão escalonados\n",
    "df5_clientes_scaler"
   ]
  },
  {
   "cell_type": "markdown",
   "id": "5ca6756c",
   "metadata": {},
   "source": [
    "### <font color='#F37126'> 4.3. Calculando para encontrar número de clusters"
   ]
  },
  {
   "cell_type": "markdown",
   "id": "b10e9c65",
   "metadata": {},
   "source": [
    "Precisamos definir o número de clusters e para isso existem algumas técnicas que podemos utilizar para saber o número ideal de grupos de acordo com a base de dados.\n",
    "- Definição do número de clusters usando o Elbow Method, que é chamado do método do cotovelo."
   ]
  },
  {
   "cell_type": "markdown",
   "id": "c20aea5a",
   "metadata": {},
   "source": [
    "Para termos o valor de wcss, precisamos criar o algoritmo k-means, fazer o agrupamento, para depois conseguir o valor de wcss."
   ]
  },
  {
   "cell_type": "code",
   "execution_count": 44,
   "id": "dc88a445",
   "metadata": {
    "ExecuteTime": {
     "end_time": "2023-04-24T16:33:45.482845Z",
     "start_time": "2023-04-24T16:33:19.063358Z"
    }
   },
   "outputs": [],
   "source": [
    "# Cálculo para encontrar qual o cluster ideal (vamos fazer um agrupamento até chegar a 20 clusters)\n",
    "wcss_1 = []\n",
    "range_values = range(1, 20) # vamos cálcular para 20 clusters\n",
    "for i in range_values:\n",
    "    kmeans = KMeans(n_clusters=i) # Criando um objeto tipo k-means\n",
    "    kmeans.fit(df5_clientes_scaler) # Gera o grupo\n",
    "    wcss_1.append(kmeans.inertia_) # Aqui adicionamos o valor wcss na lista que está dentro do parâmetro 'inertia_'"
   ]
  },
  {
   "cell_type": "code",
   "execution_count": 45,
   "id": "e97dd655",
   "metadata": {
    "ExecuteTime": {
     "end_time": "2023-04-24T16:33:45.498846Z",
     "start_time": "2023-04-24T16:33:45.482845Z"
    }
   },
   "outputs": [
    {
     "name": "stdout",
     "output_type": "stream",
     "text": [
      "[152150.0000000002, 127784.97295116556, 111986.69806610126, 99073.95929495168, 91502.98259428897, 84851.13240432597, 79532.34621137223, 74490.93558763938, 69971.2881108941, 66461.179511011, 63638.07915958896, 61380.40681965474, 59141.84932312869, 57578.979289785355, 55837.77412536045, 54600.697698650336, 52967.64087882742, 52079.93929525017, 50915.14426112942]\n"
     ]
    }
   ],
   "source": [
    "# Retorna os 20 valores do wcss\n",
    "print(wcss_1)"
   ]
  },
  {
   "cell_type": "code",
   "execution_count": 46,
   "id": "e8148c73",
   "metadata": {
    "ExecuteTime": {
     "end_time": "2023-04-24T16:33:45.832613Z",
     "start_time": "2023-04-24T16:33:45.498846Z"
    }
   },
   "outputs": [
    {
     "data": {
      "image/png": "[encoded data removed]",
      "text/plain": [
       "<Figure size 864x360 with 1 Axes>"
      ]
     },
     "metadata": {
      "needs_background": "light"
     },
     "output_type": "display_data"
    }
   ],
   "source": [
    "# Visualização gráfica para aplicar “ELBOW METHOD” (MÉTODO DO COTOVELO)\n",
    "\n",
    "plt.figure(figsize=[12,5])\n",
    "\n",
    "# Para que o título não fique cortado na figura.\n",
    "plt.subplots_adjust(top=0.9)\n",
    "# Título\n",
    "plt.suptitle('ELBOW METHOD',fontsize=20, fontweight='bold', color='blue', y=1.00, x= 0, horizontalalignment='left')\n",
    "\n",
    "plt.plot(wcss_1, 'bx-')\n",
    "\n",
    "plt.xlabel('Clusters',fontsize=15)\n",
    "plt.ylabel('WCSS',fontsize=15)\n",
    "plt.xticks(fontsize = 10)\n",
    "plt.yticks(fontsize = 10)\n",
    "plt.grid(axis = 'y',color = 'blue', linestyle = '--', linewidth = 0.5)\n",
    "\n",
    "plt.gca().spines['top'].set_visible(False)\n",
    "plt.gca().spines['right'].set_visible(False)\n",
    "\n",
    "plt.show()"
   ]
  },
  {
   "cell_type": "markdown",
   "id": "ac99d398",
   "metadata": {},
   "source": [
    "**Nota:**\n",
    "- Devemos encontrar no gráfico o ponto, onde apresenta quando não tem mais tanta queda no valor WCSS.\n",
    "- Em torno da quantidade 4 de clusters, ele começa a formar a curva do cotovelo e nós podemos observar que até o cluster 8 têm uma queda de certa forma acentuada, depois do cluster 8, nós podemos observar que ele já está seguindo uma forma linear, nós não temos uma diferença muito grande.\n",
    "- Podemos concluir que utilizando esse método do cotovelo, que o número ideal de clusters é igual a 7 ou a 8."
   ]
  },
  {
   "cell_type": "code",
   "execution_count": 47,
   "id": "206593e6",
   "metadata": {
    "ExecuteTime": {
     "end_time": "2023-04-24T16:34:14.307224Z",
     "start_time": "2023-04-24T16:33:45.832613Z"
    }
   },
   "outputs": [
    {
     "data": {
      "image/png": "[encoded data removed]",
      "text/plain": [
       "<Figure size 576x396 with 2 Axes>"
      ]
     },
     "metadata": {},
     "output_type": "display_data"
    }
   ],
   "source": [
    "from yellowbrick.cluster import KElbowVisualizer\n",
    "\n",
    "# Instantiate the clustering model and visualizer\n",
    "km = KMeans(random_state=1234)\n",
    "visualizer = KElbowVisualizer(km, k=(1,20))\n",
    " \n",
    "visualizer.fit(df5_clientes_scaler)        # Fit the data to the visualizer\n",
    "visualizer.show()                          # Finalize and render the figure\n",
    "plt.show()"
   ]
  },
  {
   "cell_type": "code",
   "execution_count": 48,
   "id": "6f453aa5",
   "metadata": {
    "ExecuteTime": {
     "end_time": "2023-04-24T16:36:32.927201Z",
     "start_time": "2023-04-24T16:34:14.307224Z"
    }
   },
   "outputs": [
    {
     "name": "stdout",
     "output_type": "stream",
     "text": [
      "Silhouette Score for k = 2: 0.210\n",
      "Silhouette Score for k = 3: 0.251\n",
      "Silhouette Score for k = 4: 0.197\n",
      "Silhouette Score for k = 5: 0.189\n",
      "Silhouette Score for k = 6: 0.202\n",
      "Silhouette Score for k = 7: 0.209\n",
      "Silhouette Score for k = 8: 0.208\n",
      "Silhouette Score for k = 9: 0.216\n",
      "Silhouette Score for k = 10: 0.220\n",
      "Silhouette Score for k = 11: 0.219\n",
      "Silhouette Score for k = 12: 0.218\n",
      "Silhouette Score for k = 13: 0.217\n",
      "Silhouette Score for k = 14: 0.219\n",
      "Silhouette Score for k = 15: 0.199\n",
      "Silhouette Score for k = 16: 0.201\n",
      "Silhouette Score for k = 17: 0.206\n",
      "Silhouette Score for k = 18: 0.208\n",
      "Silhouette Score for k = 19: 0.207\n",
      "Silhouette Score for k = 20: 0.197\n",
      "Silhouette Score for k = 21: 0.207\n",
      "Silhouette Score for k = 22: 0.210\n",
      "Silhouette Score for k = 23: 0.178\n",
      "Silhouette Score for k = 24: 0.207\n",
      "Silhouette Score for k = 25: 0.180\n",
      "Silhouette Score for k = 26: 0.207\n",
      "Silhouette Score for k = 27: 0.193\n",
      "Silhouette Score for k = 28: 0.195\n"
     ]
    }
   ],
   "source": [
    "from sklearn.metrics import silhouette_score\n",
    "\n",
    "# Determining the number of clusters\n",
    "limit = int((df5_clientes_scaler.shape[0] // 2) ** 0.4)\n",
    "  \n",
    "for k in range(2, limit + 1):\n",
    "    model = KMeans(n_clusters = k)\n",
    "    model.fit(df5_clientes_scaler)\n",
    "    pred = model.predict(df5_clientes_scaler)\n",
    "    score = silhouette_score(df5_clientes_scaler, pred)\n",
    "    \n",
    "    print('Silhouette Score for k = {}: {:<.3f}'.format(k, score))"
   ]
  },
  {
   "cell_type": "markdown",
   "id": "c27763e0",
   "metadata": {},
   "source": [
    "# <font color='red'> 6 - TREINAMENTO ALGORITMOS DE MACHINE LEARNING\n",
    "<a id='ml'></a>"
   ]
  },
  {
   "cell_type": "markdown",
   "id": "8576897d",
   "metadata": {},
   "source": [
    "## <font color='blue'> PASSO 5 - Algoritmos de Machine Learning\n",
    "<a id='passo7'></a>"
   ]
  },
  {
   "cell_type": "markdown",
   "id": "8481aaf2",
   "metadata": {},
   "source": [
    "### <font color='#F37126'> 5.1. Leitura dos dados"
   ]
  },
  {
   "cell_type": "markdown",
   "id": "22e4f46d",
   "metadata": {},
   "source": [
    "**Importar e visualizar a base de dados**"
   ]
  },
  {
   "cell_type": "code",
   "execution_count": 49,
   "id": "4302209d",
   "metadata": {
    "ExecuteTime": {
     "end_time": "2023-04-24T16:36:32.947474Z",
     "start_time": "2023-04-24T16:36:32.931778Z"
    }
   },
   "outputs": [],
   "source": [
    "df7_clientes = df5_clientes_scaler.copy()"
   ]
  },
  {
   "cell_type": "markdown",
   "id": "c4dc8ca1",
   "metadata": {},
   "source": [
    "### <font color='#F37126'> 5.2. K-MEANS"
   ]
  },
  {
   "cell_type": "markdown",
   "id": "e370d126",
   "metadata": {},
   "source": [
    "Algoritmo não supervisionado (clustering - agrupamento)\n",
    "- Algoritmo não supervisionado indica que nós não temos uma classe, objetivo é não pe fazer previsões, mas a ideia é agrupar os dados baseado em atributos similares, por meio do cálculo da Distância Euclidiana que é uma fórmula matemática que vai medir o quanto dois pontos são parecidos, quanto mais parecidos, mas esses dados têm a tendência a pertencerem ao mesmo grupo."
   ]
  },
  {
   "cell_type": "code",
   "execution_count": 50,
   "id": "5a680660",
   "metadata": {
    "ExecuteTime": {
     "end_time": "2023-04-24T16:36:34.296781Z",
     "start_time": "2023-04-24T16:36:32.952032Z"
    }
   },
   "outputs": [],
   "source": [
    "# Criando a variável que vai fazer o agrupamento (n_clusters=6, este valor vem do método Elbow)\n",
    "kmeans = KMeans(n_clusters=6)\n",
    "# O código 'fit', vai fazer todo o treinamento do algoritmo k-means, para colocar cada um dos registros em um dos 6 grupos\n",
    "kmeans.fit(df7_clientes)\n",
    "# Criando a variável labels e desta forma cada registro tem um clusters associado\n",
    "labels = kmeans.labels_"
   ]
  },
  {
   "cell_type": "code",
   "execution_count": 51,
   "id": "5ca6777c",
   "metadata": {
    "ExecuteTime": {
     "end_time": "2023-04-24T16:36:34.316512Z",
     "start_time": "2023-04-24T16:36:34.301906Z"
    }
   },
   "outputs": [
    {
     "data": {
      "text/plain": [
       "(array([1, 0, 5, ..., 2, 1, 1]), 8950)"
      ]
     },
     "execution_count": 51,
     "metadata": {},
     "output_type": "execute_result"
    }
   ],
   "source": [
    "# Depois do treinamento podemos visualizar a que grupo cada cliente pertence\n",
    "labels, len(labels)"
   ]
  },
  {
   "cell_type": "code",
   "execution_count": 52,
   "id": "dddc355d",
   "metadata": {
    "ExecuteTime": {
     "end_time": "2023-04-24T16:36:34.331722Z",
     "start_time": "2023-04-24T16:36:34.321605Z"
    }
   },
   "outputs": [
    {
     "data": {
      "text/plain": [
       "(array([0, 1, 2, 3, 4, 5]),\n",
       " array([ 968, 3039, 2229, 1310,   86, 1318], dtype=int64))"
      ]
     },
     "execution_count": 52,
     "metadata": {},
     "output_type": "execute_result"
    }
   ],
   "source": [
    "# Podemos checar a quantidade de cliente por grupo (exemplo: no grupo 0 temos 968 clientes)\n",
    "np.unique(labels, return_counts=True)"
   ]
  },
  {
   "cell_type": "markdown",
   "id": "2bdb2d69",
   "metadata": {},
   "source": [
    "**Nota:**\n",
    "- No grupo 4 temos é onde tem a maior quantidade de clientes."
   ]
  },
  {
   "cell_type": "code",
   "execution_count": 53,
   "id": "91f06ba5",
   "metadata": {
    "ExecuteTime": {
     "end_time": "2023-04-24T16:36:34.357990Z",
     "start_time": "2023-04-24T16:36:34.331722Z"
    }
   },
   "outputs": [
    {
     "data": {
      "text/plain": [
       "array([[ 1.59304924,  0.3772484 , -0.20926312, -0.15131466, -0.21689746,\n",
       "         1.94208192, -0.45621556, -0.18906769, -0.41212652,  1.89106627,\n",
       "         1.84095368, -0.25132592,  0.96287527,  0.76724209,  0.51239446,\n",
       "        -0.39197244, -0.09090733],\n",
       "       [-0.01491029,  0.37180659, -0.34476434, -0.22326291, -0.4049165 ,\n",
       "        -0.08464128, -0.82456646, -0.33442518, -0.76944753,  0.12926272,\n",
       "        -0.02990435, -0.47002963, -0.33587981, -0.26243796, -0.03120338,\n",
       "        -0.45096263, -0.00814631],\n",
       "       [-0.39577696,  0.30832309, -0.06604891, -0.2447634 ,  0.29346556,\n",
       "        -0.36574665,  0.96719479, -0.37569767,  1.14242417, -0.46269166,\n",
       "        -0.35771136,  0.12508249, -0.327652  , -0.24910655, -0.05514254,\n",
       "         0.34107531, -0.0251662 ],\n",
       "       [-0.69782515, -2.12146566, -0.31291793, -0.23105825, -0.31529615,\n",
       "        -0.30691152, -0.55927723, -0.41896088, -0.46426408, -0.48440278,\n",
       "        -0.35781276, -0.42546962, -0.20890962, -0.22097372, -0.25602565,\n",
       "         0.26178846, -0.16484019],\n",
       "       [ 1.4302377 ,  0.41946659,  6.91504796,  6.08303393,  5.17226599,\n",
       "         0.03877815,  1.09069901,  1.87930303,  1.04941338, -0.2492271 ,\n",
       "        -0.03816597,  4.64622756,  2.19837119,  4.78370351,  1.08094535,\n",
       "         0.82400116,  0.33461299],\n",
       "       [ 0.13541249,  0.42752993,  0.92258702,  0.87514233,  0.57362333,\n",
       "        -0.31004073,  1.08674896,  1.8442242 ,  0.53759836, -0.40656341,\n",
       "        -0.31995056,  1.17936092,  0.68782333,  0.37179725, -0.02696533,\n",
       "         0.43718401,  0.27089695]])"
      ]
     },
     "execution_count": 53,
     "metadata": {},
     "output_type": "execute_result"
    }
   ],
   "source": [
    "# Podemos ver a média para cada um dos atributos (a média é os centroides para cada grupo)\n",
    "kmeans.cluster_centers_"
   ]
  },
  {
   "cell_type": "markdown",
   "id": "e2844c47",
   "metadata": {},
   "source": [
    "### <font color='#F37126'> 5.3. Análise dos Clusters"
   ]
  },
  {
   "cell_type": "code",
   "execution_count": 54,
   "id": "fa890b4a",
   "metadata": {
    "ExecuteTime": {
     "end_time": "2023-04-24T16:36:34.426718Z",
     "start_time": "2023-04-24T16:36:34.361549Z"
    }
   },
   "outputs": [
    {
     "data": {
      "text/html": [
       "<div>\n",
       "<style scoped>\n",
       "    .dataframe tbody tr th:only-of-type {\n",
       "        vertical-align: middle;\n",
       "    }\n",
       "\n",
       "    .dataframe tbody tr th {\n",
       "        vertical-align: top;\n",
       "    }\n",
       "\n",
       "    .dataframe thead tr th {\n",
       "        text-align: left;\n",
       "    }\n",
       "</style>\n",
       "<table border=\"1\" class=\"dataframe\">\n",
       "  <thead>\n",
       "    <tr>\n",
       "      <th></th>\n",
       "      <th>balance</th>\n",
       "      <th>balance_frequency</th>\n",
       "      <th>purchases</th>\n",
       "      <th>oneoff_purchases</th>\n",
       "      <th>installments_purchases</th>\n",
       "      <th>cash_advance</th>\n",
       "      <th>purchases_frequency</th>\n",
       "      <th>oneoff_purchases_frequency</th>\n",
       "      <th>purchases_installments_frequency</th>\n",
       "      <th>cash_advance_frequency</th>\n",
       "      <th>cash_advance_trx</th>\n",
       "      <th>purchases_trx</th>\n",
       "      <th>credit_limit</th>\n",
       "      <th>payments</th>\n",
       "      <th>minimum_payments</th>\n",
       "      <th>prc_full_payment</th>\n",
       "      <th>tenure</th>\n",
       "    </tr>\n",
       "  </thead>\n",
       "  <tbody>\n",
       "    <tr>\n",
       "      <th>0</th>\n",
       "      <td>1.593049</td>\n",
       "      <td>0.377248</td>\n",
       "      <td>-0.209263</td>\n",
       "      <td>-0.151315</td>\n",
       "      <td>-0.216897</td>\n",
       "      <td>1.942082</td>\n",
       "      <td>-0.456216</td>\n",
       "      <td>-0.189068</td>\n",
       "      <td>-0.412127</td>\n",
       "      <td>1.891066</td>\n",
       "      <td>1.840954</td>\n",
       "      <td>-0.251326</td>\n",
       "      <td>0.962875</td>\n",
       "      <td>0.767242</td>\n",
       "      <td>0.512394</td>\n",
       "      <td>-0.391972</td>\n",
       "      <td>-0.090907</td>\n",
       "    </tr>\n",
       "    <tr>\n",
       "      <th>1</th>\n",
       "      <td>-0.014910</td>\n",
       "      <td>0.371807</td>\n",
       "      <td>-0.344764</td>\n",
       "      <td>-0.223263</td>\n",
       "      <td>-0.404916</td>\n",
       "      <td>-0.084641</td>\n",
       "      <td>-0.824566</td>\n",
       "      <td>-0.334425</td>\n",
       "      <td>-0.769448</td>\n",
       "      <td>0.129263</td>\n",
       "      <td>-0.029904</td>\n",
       "      <td>-0.470030</td>\n",
       "      <td>-0.335880</td>\n",
       "      <td>-0.262438</td>\n",
       "      <td>-0.031203</td>\n",
       "      <td>-0.450963</td>\n",
       "      <td>-0.008146</td>\n",
       "    </tr>\n",
       "    <tr>\n",
       "      <th>2</th>\n",
       "      <td>-0.395777</td>\n",
       "      <td>0.308323</td>\n",
       "      <td>-0.066049</td>\n",
       "      <td>-0.244763</td>\n",
       "      <td>0.293466</td>\n",
       "      <td>-0.365747</td>\n",
       "      <td>0.967195</td>\n",
       "      <td>-0.375698</td>\n",
       "      <td>1.142424</td>\n",
       "      <td>-0.462692</td>\n",
       "      <td>-0.357711</td>\n",
       "      <td>0.125082</td>\n",
       "      <td>-0.327652</td>\n",
       "      <td>-0.249107</td>\n",
       "      <td>-0.055143</td>\n",
       "      <td>0.341075</td>\n",
       "      <td>-0.025166</td>\n",
       "    </tr>\n",
       "    <tr>\n",
       "      <th>3</th>\n",
       "      <td>-0.697825</td>\n",
       "      <td>-2.121466</td>\n",
       "      <td>-0.312918</td>\n",
       "      <td>-0.231058</td>\n",
       "      <td>-0.315296</td>\n",
       "      <td>-0.306912</td>\n",
       "      <td>-0.559277</td>\n",
       "      <td>-0.418961</td>\n",
       "      <td>-0.464264</td>\n",
       "      <td>-0.484403</td>\n",
       "      <td>-0.357813</td>\n",
       "      <td>-0.425470</td>\n",
       "      <td>-0.208910</td>\n",
       "      <td>-0.220974</td>\n",
       "      <td>-0.256026</td>\n",
       "      <td>0.261788</td>\n",
       "      <td>-0.164840</td>\n",
       "    </tr>\n",
       "    <tr>\n",
       "      <th>4</th>\n",
       "      <td>1.430238</td>\n",
       "      <td>0.419467</td>\n",
       "      <td>6.915048</td>\n",
       "      <td>6.083034</td>\n",
       "      <td>5.172266</td>\n",
       "      <td>0.038778</td>\n",
       "      <td>1.090699</td>\n",
       "      <td>1.879303</td>\n",
       "      <td>1.049413</td>\n",
       "      <td>-0.249227</td>\n",
       "      <td>-0.038166</td>\n",
       "      <td>4.646228</td>\n",
       "      <td>2.198371</td>\n",
       "      <td>4.783704</td>\n",
       "      <td>1.080945</td>\n",
       "      <td>0.824001</td>\n",
       "      <td>0.334613</td>\n",
       "    </tr>\n",
       "    <tr>\n",
       "      <th>5</th>\n",
       "      <td>0.135412</td>\n",
       "      <td>0.427530</td>\n",
       "      <td>0.922587</td>\n",
       "      <td>0.875142</td>\n",
       "      <td>0.573623</td>\n",
       "      <td>-0.310041</td>\n",
       "      <td>1.086749</td>\n",
       "      <td>1.844224</td>\n",
       "      <td>0.537598</td>\n",
       "      <td>-0.406563</td>\n",
       "      <td>-0.319951</td>\n",
       "      <td>1.179361</td>\n",
       "      <td>0.687823</td>\n",
       "      <td>0.371797</td>\n",
       "      <td>-0.026965</td>\n",
       "      <td>0.437184</td>\n",
       "      <td>0.270897</td>\n",
       "    </tr>\n",
       "  </tbody>\n",
       "</table>\n",
       "</div>"
      ],
      "text/plain": [
       "    balance balance_frequency purchases oneoff_purchases  \\\n",
       "0  1.593049          0.377248 -0.209263        -0.151315   \n",
       "1 -0.014910          0.371807 -0.344764        -0.223263   \n",
       "2 -0.395777          0.308323 -0.066049        -0.244763   \n",
       "3 -0.697825         -2.121466 -0.312918        -0.231058   \n",
       "4  1.430238          0.419467  6.915048         6.083034   \n",
       "5  0.135412          0.427530  0.922587         0.875142   \n",
       "\n",
       "  installments_purchases cash_advance purchases_frequency  \\\n",
       "0              -0.216897     1.942082           -0.456216   \n",
       "1              -0.404916    -0.084641           -0.824566   \n",
       "2               0.293466    -0.365747            0.967195   \n",
       "3              -0.315296    -0.306912           -0.559277   \n",
       "4               5.172266     0.038778            1.090699   \n",
       "5               0.573623    -0.310041            1.086749   \n",
       "\n",
       "  oneoff_purchases_frequency purchases_installments_frequency  \\\n",
       "0                  -0.189068                        -0.412127   \n",
       "1                  -0.334425                        -0.769448   \n",
       "2                  -0.375698                         1.142424   \n",
       "3                  -0.418961                        -0.464264   \n",
       "4                   1.879303                         1.049413   \n",
       "5                   1.844224                         0.537598   \n",
       "\n",
       "  cash_advance_frequency cash_advance_trx purchases_trx credit_limit  \\\n",
       "0               1.891066         1.840954     -0.251326     0.962875   \n",
       "1               0.129263        -0.029904     -0.470030    -0.335880   \n",
       "2              -0.462692        -0.357711      0.125082    -0.327652   \n",
       "3              -0.484403        -0.357813     -0.425470    -0.208910   \n",
       "4              -0.249227        -0.038166      4.646228     2.198371   \n",
       "5              -0.406563        -0.319951      1.179361     0.687823   \n",
       "\n",
       "   payments minimum_payments prc_full_payment    tenure  \n",
       "0  0.767242         0.512394        -0.391972 -0.090907  \n",
       "1 -0.262438        -0.031203        -0.450963 -0.008146  \n",
       "2 -0.249107        -0.055143         0.341075 -0.025166  \n",
       "3 -0.220974        -0.256026         0.261788 -0.164840  \n",
       "4  4.783704         1.080945         0.824001  0.334613  \n",
       "5  0.371797        -0.026965         0.437184  0.270897  "
      ]
     },
     "execution_count": 54,
     "metadata": {},
     "output_type": "execute_result"
    }
   ],
   "source": [
    "# Criar um dataframe para visualizar a média para cada atributo\n",
    "cluster_centers = pd.DataFrame(data = kmeans.cluster_centers_, columns = [df5_clientes.columns])\n",
    "cluster_centers"
   ]
  },
  {
   "cell_type": "markdown",
   "id": "271d287c",
   "metadata": {},
   "source": [
    "**Nota:**\n",
    "- Os valores estão em uma escala menor porque foi aplicado StandardScaler, mas fica de certa forma ruim para analisar os valores, então precisa dos dados reais, para tomar uma decisão sobre algo."
   ]
  },
  {
   "cell_type": "code",
   "execution_count": 55,
   "id": "5f04a0dd",
   "metadata": {
    "ExecuteTime": {
     "end_time": "2023-04-24T16:36:34.446415Z",
     "start_time": "2023-04-24T16:36:34.430795Z"
    }
   },
   "outputs": [],
   "source": [
    "# Visualizando os valores originais (função para fazer o cálculo inverso scaler.inverse_transform(cluster_centers))\n",
    "cluster_centers = scaler.inverse_transform(cluster_centers)\n",
    "# Recriar o cluster_centers para dataframe (o resultado é a média para cada atributo)\n",
    "cluster_centers = pd.DataFrame(data = cluster_centers, columns = [df5_clientes.columns])"
   ]
  },
  {
   "cell_type": "code",
   "execution_count": 56,
   "id": "c941dbab",
   "metadata": {
    "ExecuteTime": {
     "end_time": "2023-04-24T16:36:34.499190Z",
     "start_time": "2023-04-24T16:36:34.451509Z"
    }
   },
   "outputs": [
    {
     "data": {
      "text/html": [
       "<div>\n",
       "<style scoped>\n",
       "    .dataframe tbody tr th:only-of-type {\n",
       "        vertical-align: middle;\n",
       "    }\n",
       "\n",
       "    .dataframe tbody tr th {\n",
       "        vertical-align: top;\n",
       "    }\n",
       "\n",
       "    .dataframe thead tr th {\n",
       "        text-align: left;\n",
       "    }\n",
       "</style>\n",
       "<table border=\"1\" class=\"dataframe\">\n",
       "  <thead>\n",
       "    <tr>\n",
       "      <th></th>\n",
       "      <th>balance</th>\n",
       "      <th>balance_frequency</th>\n",
       "      <th>purchases</th>\n",
       "      <th>oneoff_purchases</th>\n",
       "      <th>installments_purchases</th>\n",
       "      <th>cash_advance</th>\n",
       "      <th>purchases_frequency</th>\n",
       "      <th>oneoff_purchases_frequency</th>\n",
       "      <th>purchases_installments_frequency</th>\n",
       "      <th>cash_advance_frequency</th>\n",
       "      <th>cash_advance_trx</th>\n",
       "      <th>purchases_trx</th>\n",
       "      <th>credit_limit</th>\n",
       "      <th>payments</th>\n",
       "      <th>minimum_payments</th>\n",
       "      <th>prc_full_payment</th>\n",
       "      <th>tenure</th>\n",
       "    </tr>\n",
       "  </thead>\n",
       "  <tbody>\n",
       "    <tr>\n",
       "      <th>0</th>\n",
       "      <td>4880.272348</td>\n",
       "      <td>0.966637</td>\n",
       "      <td>556.110961</td>\n",
       "      <td>341.286033</td>\n",
       "      <td>214.929959</td>\n",
       "      <td>5051.507613</td>\n",
       "      <td>0.307249</td>\n",
       "      <td>0.146055</td>\n",
       "      <td>0.200648</td>\n",
       "      <td>0.513566</td>\n",
       "      <td>15.811983</td>\n",
       "      <td>8.462810</td>\n",
       "      <td>7997.783621</td>\n",
       "      <td>3954.234520</td>\n",
       "      <td>2058.320218</td>\n",
       "      <td>0.039069</td>\n",
       "      <td>11.395661</td>\n",
       "    </tr>\n",
       "    <tr>\n",
       "      <th>1</th>\n",
       "      <td>1533.440325</td>\n",
       "      <td>0.965348</td>\n",
       "      <td>266.610507</td>\n",
       "      <td>221.866670</td>\n",
       "      <td>44.906680</td>\n",
       "      <td>801.374386</td>\n",
       "      <td>0.159412</td>\n",
       "      <td>0.102692</td>\n",
       "      <td>0.058639</td>\n",
       "      <td>0.161011</td>\n",
       "      <td>3.044752</td>\n",
       "      <td>3.026654</td>\n",
       "      <td>3272.381266</td>\n",
       "      <td>973.411678</td>\n",
       "      <td>791.488373</td>\n",
       "      <td>0.021816</td>\n",
       "      <td>11.506417</td>\n",
       "    </tr>\n",
       "    <tr>\n",
       "      <th>2</th>\n",
       "      <td>740.698491</td>\n",
       "      <td>0.950310</td>\n",
       "      <td>862.090309</td>\n",
       "      <td>186.180260</td>\n",
       "      <td>676.444913</td>\n",
       "      <td>211.883295</td>\n",
       "      <td>0.878533</td>\n",
       "      <td>0.090380</td>\n",
       "      <td>0.818466</td>\n",
       "      <td>0.042555</td>\n",
       "      <td>0.807710</td>\n",
       "      <td>17.818915</td>\n",
       "      <td>3302.317437</td>\n",
       "      <td>1012.004786</td>\n",
       "      <td>735.699171</td>\n",
       "      <td>0.253473</td>\n",
       "      <td>11.483640</td>\n",
       "    </tr>\n",
       "    <tr>\n",
       "      <th>3</th>\n",
       "      <td>112.010683</td>\n",
       "      <td>0.374715</td>\n",
       "      <td>334.650862</td>\n",
       "      <td>208.928002</td>\n",
       "      <td>125.949252</td>\n",
       "      <td>335.263311</td>\n",
       "      <td>0.265886</td>\n",
       "      <td>0.077474</td>\n",
       "      <td>0.179927</td>\n",
       "      <td>0.038210</td>\n",
       "      <td>0.807018</td>\n",
       "      <td>4.134249</td>\n",
       "      <td>3734.350796</td>\n",
       "      <td>1093.446581</td>\n",
       "      <td>267.549557</td>\n",
       "      <td>0.230283</td>\n",
       "      <td>11.296720</td>\n",
       "    </tr>\n",
       "    <tr>\n",
       "      <th>4</th>\n",
       "      <td>4541.393882</td>\n",
       "      <td>0.976638</td>\n",
       "      <td>15777.311395</td>\n",
       "      <td>10689.027791</td>\n",
       "      <td>5088.283605</td>\n",
       "      <td>1060.190695</td>\n",
       "      <td>0.928101</td>\n",
       "      <td>0.763090</td>\n",
       "      <td>0.781501</td>\n",
       "      <td>0.085271</td>\n",
       "      <td>2.988372</td>\n",
       "      <td>130.197674</td>\n",
       "      <td>12493.023256</td>\n",
       "      <td>15581.496801</td>\n",
       "      <td>3383.304083</td>\n",
       "      <td>0.394721</td>\n",
       "      <td>11.965116</td>\n",
       "    </tr>\n",
       "    <tr>\n",
       "      <th>5</th>\n",
       "      <td>1846.324496</td>\n",
       "      <td>0.978549</td>\n",
       "      <td>2974.326221</td>\n",
       "      <td>2044.994388</td>\n",
       "      <td>929.788106</td>\n",
       "      <td>328.701214</td>\n",
       "      <td>0.926515</td>\n",
       "      <td>0.752626</td>\n",
       "      <td>0.578093</td>\n",
       "      <td>0.053787</td>\n",
       "      <td>1.065399</td>\n",
       "      <td>44.024335</td>\n",
       "      <td>6997.032147</td>\n",
       "      <td>2809.460456</td>\n",
       "      <td>801.364979</td>\n",
       "      <td>0.281583</td>\n",
       "      <td>11.879848</td>\n",
       "    </tr>\n",
       "  </tbody>\n",
       "</table>\n",
       "</div>"
      ],
      "text/plain": [
       "       balance balance_frequency     purchases oneoff_purchases  \\\n",
       "0  4880.272348          0.966637    556.110961       341.286033   \n",
       "1  1533.440325          0.965348    266.610507       221.866670   \n",
       "2   740.698491          0.950310    862.090309       186.180260   \n",
       "3   112.010683          0.374715    334.650862       208.928002   \n",
       "4  4541.393882          0.976638  15777.311395     10689.027791   \n",
       "5  1846.324496          0.978549   2974.326221      2044.994388   \n",
       "\n",
       "  installments_purchases cash_advance purchases_frequency  \\\n",
       "0             214.929959  5051.507613            0.307249   \n",
       "1              44.906680   801.374386            0.159412   \n",
       "2             676.444913   211.883295            0.878533   \n",
       "3             125.949252   335.263311            0.265886   \n",
       "4            5088.283605  1060.190695            0.928101   \n",
       "5             929.788106   328.701214            0.926515   \n",
       "\n",
       "  oneoff_purchases_frequency purchases_installments_frequency  \\\n",
       "0                   0.146055                         0.200648   \n",
       "1                   0.102692                         0.058639   \n",
       "2                   0.090380                         0.818466   \n",
       "3                   0.077474                         0.179927   \n",
       "4                   0.763090                         0.781501   \n",
       "5                   0.752626                         0.578093   \n",
       "\n",
       "  cash_advance_frequency cash_advance_trx purchases_trx  credit_limit  \\\n",
       "0               0.513566        15.811983      8.462810   7997.783621   \n",
       "1               0.161011         3.044752      3.026654   3272.381266   \n",
       "2               0.042555         0.807710     17.818915   3302.317437   \n",
       "3               0.038210         0.807018      4.134249   3734.350796   \n",
       "4               0.085271         2.988372    130.197674  12493.023256   \n",
       "5               0.053787         1.065399     44.024335   6997.032147   \n",
       "\n",
       "       payments minimum_payments prc_full_payment     tenure  \n",
       "0   3954.234520      2058.320218         0.039069  11.395661  \n",
       "1    973.411678       791.488373         0.021816  11.506417  \n",
       "2   1012.004786       735.699171         0.253473  11.483640  \n",
       "3   1093.446581       267.549557         0.230283  11.296720  \n",
       "4  15581.496801      3383.304083         0.394721  11.965116  \n",
       "5   2809.460456       801.364979         0.281583  11.879848  "
      ]
     },
     "execution_count": 56,
     "metadata": {},
     "output_type": "execute_result"
    }
   ],
   "source": [
    "# O resultado é os centroides que indica os valores médios de cada clusters\n",
    "cluster_centers"
   ]
  },
  {
   "cell_type": "markdown",
   "id": "2e54fd07",
   "metadata": {},
   "source": [
    "**Nota:**\n",
    "- Vamos olhar para a variável \"balance\", para criar um rack de importância dos clusters e fazer as análises."
   ]
  },
  {
   "cell_type": "markdown",
   "id": "538e71df",
   "metadata": {},
   "source": [
    "**Definindo o perfil dos clientes em quatro grupos:**"
   ]
  },
  {
   "cell_type": "markdown",
   "id": "76195bd4",
   "metadata": {},
   "source": [
    "**Cluster 0:**\n",
    "- Grupo que tem o maior saldo na conta corrente e as pessoas deste grupo vai muitas vezes ao caixa eletrônico, mas não tem o hábito de pagar a fatura completa, sendo o segundo maior grupo em pagar o mínimo da fatura e também com o maior limite do cartão de crédito.\n",
    "- Este pode ser considerado um grupo que o banco acaba ganhando bastante dinheiro, porque no uso do CASH_ADVANCE têm um juros muito alto, porém apresenta o maior risco para o banco, pórque se eles não pagam a fatura completa a tendência é que estes clientes vão endividar cada vez mais rápido e pode chegar em uma situação que eles não vão ter o dinheiro para pagar todos os estes juros para o banco.\n",
    "- Este grupo tem 968 clientes."
   ]
  },
  {
   "cell_type": "markdown",
   "id": "4475e697",
   "metadata": {},
   "source": [
    "**Cluster 4:**\n",
    "- É um grupo que realiza muitas compras e o segundo grupo com o maior saldo na conta corrente, as pessoas deste grupo tem a frequência em não parcelar as compras realizadas. Este grupo é o que tem o maior limite no cartão de crédito e também o maior em pagar em pagar a fatura completa.\n",
    "- Este grupo pode ser considerados os clientes mais importantes para o banco (VIP/Prime), podemos dizer que o banco sempre vai ganhar dinheiro com estes clientes, porque eles usam o cartão e pagam a fatura em dias. Uma estratégia que o banco pode fazer é aumentar o limite do cartão e incentivar o hábito de compras através de uma campanha de marketing.\n",
    "- Este grupo tem 86 clientes."
   ]
  },
  {
   "cell_type": "markdown",
   "id": "b0570b3a",
   "metadata": {},
   "source": [
    "**Cluster 5:**\n",
    "- É o segundo grupo que realiza muitas compras e tem o hábito em pagar a vista as suas compras. Também podemos dizer que um dos grupos onde o banco não vai ganhar muito dinheiro através de juros.\n",
    "- Este grupo tem 1.318 clientes."
   ]
  },
  {
   "cell_type": "markdown",
   "id": "d73bd1d6",
   "metadata": {},
   "source": [
    "**Cluster 1:**\n",
    "- É um grupo que não realiza muitas compras, mas é o segundo maior grupo que vai muitas vezes ao caixa eletrônico.\n",
    "- Este grupo tem 3.039 clientes."
   ]
  },
  {
   "cell_type": "markdown",
   "id": "efcbea2a",
   "metadata": {},
   "source": [
    "**Cluster 2:**\n",
    "- É o menor grupo que realiza compras sem parcelar e não sacam muito dinheiro do limite do cartão.\n",
    "- Este grupo tem 2.229 clientes."
   ]
  },
  {
   "cell_type": "markdown",
   "id": "a2555241",
   "metadata": {},
   "source": [
    "**Cluster 3:**\n",
    "- É um grupo que possui menos dinheiro na conta corrente e o menor grupo que paga o mínimo do cartão de crédito.\n",
    "- Este grupo tem 1.310 clientes."
   ]
  },
  {
   "cell_type": "code",
   "execution_count": 61,
   "id": "11a46119",
   "metadata": {
    "ExecuteTime": {
     "end_time": "2023-04-24T17:21:47.331154Z",
     "start_time": "2023-04-24T17:21:47.291197Z"
    }
   },
   "outputs": [
    {
     "data": {
      "text/html": [
       "<div>\n",
       "<style scoped>\n",
       "    .dataframe tbody tr th:only-of-type {\n",
       "        vertical-align: middle;\n",
       "    }\n",
       "\n",
       "    .dataframe tbody tr th {\n",
       "        vertical-align: top;\n",
       "    }\n",
       "\n",
       "    .dataframe thead tr th {\n",
       "        text-align: left;\n",
       "    }\n",
       "</style>\n",
       "<table border=\"1\" class=\"dataframe\">\n",
       "  <thead>\n",
       "    <tr>\n",
       "      <th></th>\n",
       "      <th>balance</th>\n",
       "      <th>purchases</th>\n",
       "      <th>oneoff_purchases</th>\n",
       "      <th>installments_purchases</th>\n",
       "      <th>credit_limit</th>\n",
       "      <th>cash_advance_trx</th>\n",
       "      <th>minimum_payments</th>\n",
       "      <th>prc_full_payment</th>\n",
       "      <th>cash_advance</th>\n",
       "    </tr>\n",
       "  </thead>\n",
       "  <tbody>\n",
       "    <tr>\n",
       "      <th>0</th>\n",
       "      <td>4880.272348</td>\n",
       "      <td>556.110961</td>\n",
       "      <td>341.286033</td>\n",
       "      <td>214.929959</td>\n",
       "      <td>7997.783621</td>\n",
       "      <td>15.811983</td>\n",
       "      <td>2058.320218</td>\n",
       "      <td>0.039069</td>\n",
       "      <td>5051.507613</td>\n",
       "    </tr>\n",
       "    <tr>\n",
       "      <th>1</th>\n",
       "      <td>1533.440325</td>\n",
       "      <td>266.610507</td>\n",
       "      <td>221.866670</td>\n",
       "      <td>44.906680</td>\n",
       "      <td>3272.381266</td>\n",
       "      <td>3.044752</td>\n",
       "      <td>791.488373</td>\n",
       "      <td>0.021816</td>\n",
       "      <td>801.374386</td>\n",
       "    </tr>\n",
       "    <tr>\n",
       "      <th>2</th>\n",
       "      <td>740.698491</td>\n",
       "      <td>862.090309</td>\n",
       "      <td>186.180260</td>\n",
       "      <td>676.444913</td>\n",
       "      <td>3302.317437</td>\n",
       "      <td>0.807710</td>\n",
       "      <td>735.699171</td>\n",
       "      <td>0.253473</td>\n",
       "      <td>211.883295</td>\n",
       "    </tr>\n",
       "    <tr>\n",
       "      <th>3</th>\n",
       "      <td>112.010683</td>\n",
       "      <td>334.650862</td>\n",
       "      <td>208.928002</td>\n",
       "      <td>125.949252</td>\n",
       "      <td>3734.350796</td>\n",
       "      <td>0.807018</td>\n",
       "      <td>267.549557</td>\n",
       "      <td>0.230283</td>\n",
       "      <td>335.263311</td>\n",
       "    </tr>\n",
       "    <tr>\n",
       "      <th>4</th>\n",
       "      <td>4541.393882</td>\n",
       "      <td>15777.311395</td>\n",
       "      <td>10689.027791</td>\n",
       "      <td>5088.283605</td>\n",
       "      <td>12493.023256</td>\n",
       "      <td>2.988372</td>\n",
       "      <td>3383.304083</td>\n",
       "      <td>0.394721</td>\n",
       "      <td>1060.190695</td>\n",
       "    </tr>\n",
       "    <tr>\n",
       "      <th>5</th>\n",
       "      <td>1846.324496</td>\n",
       "      <td>2974.326221</td>\n",
       "      <td>2044.994388</td>\n",
       "      <td>929.788106</td>\n",
       "      <td>6997.032147</td>\n",
       "      <td>1.065399</td>\n",
       "      <td>801.364979</td>\n",
       "      <td>0.281583</td>\n",
       "      <td>328.701214</td>\n",
       "    </tr>\n",
       "  </tbody>\n",
       "</table>\n",
       "</div>"
      ],
      "text/plain": [
       "       balance     purchases oneoff_purchases installments_purchases  \\\n",
       "0  4880.272348    556.110961       341.286033             214.929959   \n",
       "1  1533.440325    266.610507       221.866670              44.906680   \n",
       "2   740.698491    862.090309       186.180260             676.444913   \n",
       "3   112.010683    334.650862       208.928002             125.949252   \n",
       "4  4541.393882  15777.311395     10689.027791            5088.283605   \n",
       "5  1846.324496   2974.326221      2044.994388             929.788106   \n",
       "\n",
       "   credit_limit cash_advance_trx minimum_payments prc_full_payment  \\\n",
       "0   7997.783621        15.811983      2058.320218         0.039069   \n",
       "1   3272.381266         3.044752       791.488373         0.021816   \n",
       "2   3302.317437         0.807710       735.699171         0.253473   \n",
       "3   3734.350796         0.807018       267.549557         0.230283   \n",
       "4  12493.023256         2.988372      3383.304083         0.394721   \n",
       "5   6997.032147         1.065399       801.364979         0.281583   \n",
       "\n",
       "  cash_advance  \n",
       "0  5051.507613  \n",
       "1   801.374386  \n",
       "2   211.883295  \n",
       "3   335.263311  \n",
       "4  1060.190695  \n",
       "5   328.701214  "
      ]
     },
     "execution_count": 61,
     "metadata": {},
     "output_type": "execute_result"
    }
   ],
   "source": [
    "cluster_centers[['balance','purchases','oneoff_purchases','installments_purchases',\n",
    "                 'credit_limit','cash_advance_trx','minimum_payments','prc_full_payment','cash_advance']]"
   ]
  },
  {
   "cell_type": "markdown",
   "id": "b95ab812",
   "metadata": {},
   "source": [
    "# <font color='red'> 7 - AVALIAÇÃO DO ALGORITMO\n",
    "<a id='modelo'></a>"
   ]
  },
  {
   "cell_type": "markdown",
   "id": "c7dedc9e",
   "metadata": {},
   "source": [
    "## <font color='blue'> PASSO 6 - Tradução e Interpretação do modelo\n",
    "<a id='passo9'></a>"
   ]
  },
  {
   "cell_type": "markdown",
   "id": "03ac5cb6",
   "metadata": {},
   "source": [
    "### <font color='#F37126'> 6.1. Leitura dos dados"
   ]
  },
  {
   "cell_type": "markdown",
   "id": "1d9e9f43",
   "metadata": {},
   "source": [
    "**Adicionar cada um dos grupos para cada um dos clientes**"
   ]
  },
  {
   "cell_type": "markdown",
   "id": "91cec8e0",
   "metadata": {},
   "source": [
    "Depois da análise feita para cada grupo e definido o perfil para cada um deles, por meio da análise dos centroides, agora precisa adicionar cada um dos grupos para cada um dos clientes."
   ]
  },
  {
   "cell_type": "code",
   "execution_count": 62,
   "id": "45bd4c2d",
   "metadata": {
    "ExecuteTime": {
     "end_time": "2023-04-24T18:06:29.956791Z",
     "start_time": "2023-04-24T18:06:29.899826Z"
    }
   },
   "outputs": [
    {
     "data": {
      "text/html": [
       "<div>\n",
       "<style scoped>\n",
       "    .dataframe tbody tr th:only-of-type {\n",
       "        vertical-align: middle;\n",
       "    }\n",
       "\n",
       "    .dataframe tbody tr th {\n",
       "        vertical-align: top;\n",
       "    }\n",
       "\n",
       "    .dataframe thead th {\n",
       "        text-align: right;\n",
       "    }\n",
       "</style>\n",
       "<table border=\"1\" class=\"dataframe\">\n",
       "  <thead>\n",
       "    <tr style=\"text-align: right;\">\n",
       "      <th></th>\n",
       "      <th>balance</th>\n",
       "      <th>balance_frequency</th>\n",
       "      <th>purchases</th>\n",
       "      <th>oneoff_purchases</th>\n",
       "      <th>installments_purchases</th>\n",
       "      <th>cash_advance</th>\n",
       "      <th>purchases_frequency</th>\n",
       "      <th>oneoff_purchases_frequency</th>\n",
       "      <th>purchases_installments_frequency</th>\n",
       "      <th>cash_advance_frequency</th>\n",
       "      <th>cash_advance_trx</th>\n",
       "      <th>purchases_trx</th>\n",
       "      <th>credit_limit</th>\n",
       "      <th>payments</th>\n",
       "      <th>minimum_payments</th>\n",
       "      <th>prc_full_payment</th>\n",
       "      <th>tenure</th>\n",
       "      <th>cluster</th>\n",
       "    </tr>\n",
       "  </thead>\n",
       "  <tbody>\n",
       "    <tr>\n",
       "      <th>0</th>\n",
       "      <td>40.900749</td>\n",
       "      <td>0.818182</td>\n",
       "      <td>95.40</td>\n",
       "      <td>0.00</td>\n",
       "      <td>95.4</td>\n",
       "      <td>0.000000</td>\n",
       "      <td>0.166667</td>\n",
       "      <td>0.000000</td>\n",
       "      <td>0.083333</td>\n",
       "      <td>0.000000</td>\n",
       "      <td>0</td>\n",
       "      <td>2</td>\n",
       "      <td>1000.0</td>\n",
       "      <td>201.802084</td>\n",
       "      <td>139.509787</td>\n",
       "      <td>0.000000</td>\n",
       "      <td>12</td>\n",
       "      <td>1</td>\n",
       "    </tr>\n",
       "    <tr>\n",
       "      <th>1</th>\n",
       "      <td>3202.467416</td>\n",
       "      <td>0.909091</td>\n",
       "      <td>0.00</td>\n",
       "      <td>0.00</td>\n",
       "      <td>0.0</td>\n",
       "      <td>6442.945483</td>\n",
       "      <td>0.000000</td>\n",
       "      <td>0.000000</td>\n",
       "      <td>0.000000</td>\n",
       "      <td>0.250000</td>\n",
       "      <td>4</td>\n",
       "      <td>0</td>\n",
       "      <td>7000.0</td>\n",
       "      <td>4103.032597</td>\n",
       "      <td>1072.340217</td>\n",
       "      <td>0.222222</td>\n",
       "      <td>12</td>\n",
       "      <td>0</td>\n",
       "    </tr>\n",
       "    <tr>\n",
       "      <th>2</th>\n",
       "      <td>2495.148862</td>\n",
       "      <td>1.000000</td>\n",
       "      <td>773.17</td>\n",
       "      <td>773.17</td>\n",
       "      <td>0.0</td>\n",
       "      <td>0.000000</td>\n",
       "      <td>1.000000</td>\n",
       "      <td>1.000000</td>\n",
       "      <td>0.000000</td>\n",
       "      <td>0.000000</td>\n",
       "      <td>0</td>\n",
       "      <td>12</td>\n",
       "      <td>7500.0</td>\n",
       "      <td>622.066742</td>\n",
       "      <td>627.284787</td>\n",
       "      <td>0.000000</td>\n",
       "      <td>12</td>\n",
       "      <td>5</td>\n",
       "    </tr>\n",
       "    <tr>\n",
       "      <th>3</th>\n",
       "      <td>1666.670542</td>\n",
       "      <td>0.636364</td>\n",
       "      <td>1499.00</td>\n",
       "      <td>1499.00</td>\n",
       "      <td>0.0</td>\n",
       "      <td>205.788017</td>\n",
       "      <td>0.083333</td>\n",
       "      <td>0.083333</td>\n",
       "      <td>0.000000</td>\n",
       "      <td>0.083333</td>\n",
       "      <td>1</td>\n",
       "      <td>1</td>\n",
       "      <td>7500.0</td>\n",
       "      <td>0.000000</td>\n",
       "      <td>864.206542</td>\n",
       "      <td>0.000000</td>\n",
       "      <td>12</td>\n",
       "      <td>1</td>\n",
       "    </tr>\n",
       "    <tr>\n",
       "      <th>4</th>\n",
       "      <td>817.714335</td>\n",
       "      <td>1.000000</td>\n",
       "      <td>16.00</td>\n",
       "      <td>16.00</td>\n",
       "      <td>0.0</td>\n",
       "      <td>0.000000</td>\n",
       "      <td>0.083333</td>\n",
       "      <td>0.083333</td>\n",
       "      <td>0.000000</td>\n",
       "      <td>0.000000</td>\n",
       "      <td>0</td>\n",
       "      <td>1</td>\n",
       "      <td>1200.0</td>\n",
       "      <td>678.334763</td>\n",
       "      <td>244.791237</td>\n",
       "      <td>0.000000</td>\n",
       "      <td>12</td>\n",
       "      <td>1</td>\n",
       "    </tr>\n",
       "  </tbody>\n",
       "</table>\n",
       "</div>"
      ],
      "text/plain": [
       "       balance  balance_frequency  purchases  oneoff_purchases  \\\n",
       "0    40.900749           0.818182      95.40              0.00   \n",
       "1  3202.467416           0.909091       0.00              0.00   \n",
       "2  2495.148862           1.000000     773.17            773.17   \n",
       "3  1666.670542           0.636364    1499.00           1499.00   \n",
       "4   817.714335           1.000000      16.00             16.00   \n",
       "\n",
       "   installments_purchases  cash_advance  purchases_frequency  \\\n",
       "0                    95.4      0.000000             0.166667   \n",
       "1                     0.0   6442.945483             0.000000   \n",
       "2                     0.0      0.000000             1.000000   \n",
       "3                     0.0    205.788017             0.083333   \n",
       "4                     0.0      0.000000             0.083333   \n",
       "\n",
       "   oneoff_purchases_frequency  purchases_installments_frequency  \\\n",
       "0                    0.000000                          0.083333   \n",
       "1                    0.000000                          0.000000   \n",
       "2                    1.000000                          0.000000   \n",
       "3                    0.083333                          0.000000   \n",
       "4                    0.083333                          0.000000   \n",
       "\n",
       "   cash_advance_frequency  cash_advance_trx  purchases_trx  credit_limit  \\\n",
       "0                0.000000                 0              2        1000.0   \n",
       "1                0.250000                 4              0        7000.0   \n",
       "2                0.000000                 0             12        7500.0   \n",
       "3                0.083333                 1              1        7500.0   \n",
       "4                0.000000                 0              1        1200.0   \n",
       "\n",
       "      payments  minimum_payments  prc_full_payment  tenure  cluster  \n",
       "0   201.802084        139.509787          0.000000      12        1  \n",
       "1  4103.032597       1072.340217          0.222222      12        0  \n",
       "2   622.066742        627.284787          0.000000      12        5  \n",
       "3     0.000000        864.206542          0.000000      12        1  \n",
       "4   678.334763        244.791237          0.000000      12        1  "
      ]
     },
     "execution_count": 62,
     "metadata": {},
     "output_type": "execute_result"
    }
   ],
   "source": [
    "# Para isso vamos criar um novo dataframe\n",
    "df_cluster = pd.concat([df5_clientes, pd.DataFrame({'cluster': labels})], axis = 1)\n",
    "df_cluster.head()"
   ]
  },
  {
   "cell_type": "code",
   "execution_count": 63,
   "id": "02fca38c",
   "metadata": {
    "ExecuteTime": {
     "end_time": "2023-04-24T18:06:29.987775Z",
     "start_time": "2023-04-24T18:06:29.961791Z"
    }
   },
   "outputs": [
    {
     "data": {
      "text/plain": [
       "array([0, 1, 2, 3, 4, 5])"
      ]
     },
     "execution_count": 63,
     "metadata": {},
     "output_type": "execute_result"
    }
   ],
   "source": [
    "np.unique(df_cluster['cluster'])"
   ]
  },
  {
   "cell_type": "markdown",
   "id": "eb5e7260",
   "metadata": {},
   "source": [
    "### <font color='#F37126'> 6.2. Aplicação de PCA (principal component analysis) e visualização dos resultados"
   ]
  },
  {
   "cell_type": "markdown",
   "id": "1957ffdb",
   "metadata": {},
   "source": [
    "Principal component analysis é utilizado para redução de dimensionalidade, uma técnica que pode ser usada para ajudar na visualização do agrupamento.\n",
    "\n",
    "- PCA é um algoritmo de aprendizagem não supervisionada, ou seja vamos fazer somente uma análise dos dados para redução de dimensionalidade.\n",
    "- Aplica redução de dimensionalidade, porém, tenta manter as informações originais com as mesmas características\n",
    "- Encontra um novo conjunto de características que são chamados de componentes\n",
    "- Os componentes são criados por meio das características não correlacionadas, ou seja quando os atributos tem uma correlação forte (pode ser visto na matriz de correlação), o que o PCA vai procurar fazer é unir este dois atributos em um atributo somente."
   ]
  },
  {
   "cell_type": "code",
   "execution_count": 65,
   "id": "0ae08e05",
   "metadata": {
    "ExecuteTime": {
     "end_time": "2023-04-24T18:07:03.191017Z",
     "start_time": "2023-04-24T18:07:03.133419Z"
    }
   },
   "outputs": [
    {
     "data": {
      "text/plain": [
       "array([[-1.68222009, -1.07645213],\n",
       "       [-1.13829473,  2.50647175],\n",
       "       [ 0.96968343, -0.38351202],\n",
       "       ...,\n",
       "       [-0.92620345, -1.81078578],\n",
       "       [-2.33655141, -0.65796796],\n",
       "       [-0.55642259, -0.40046341]])"
      ]
     },
     "execution_count": 65,
     "metadata": {},
     "output_type": "execute_result"
    }
   ],
   "source": [
    "# Criar uma variável para aplicação do PCA\n",
    "pca = PCA(n_components=2) # Estamos definindo de 18 características para 2 características\n",
    "# Transformação de cada atributo\n",
    "principal_comp = pca.fit_transform(df5_clientes_scaler)\n",
    "# Resultado foi de 18 atributos para somente 2 atributos\n",
    "principal_comp"
   ]
  },
  {
   "cell_type": "code",
   "execution_count": 66,
   "id": "98763723",
   "metadata": {
    "ExecuteTime": {
     "end_time": "2023-04-24T18:07:03.222201Z",
     "start_time": "2023-04-24T18:07:03.198215Z"
    }
   },
   "outputs": [
    {
     "data": {
      "text/html": [
       "<div>\n",
       "<style scoped>\n",
       "    .dataframe tbody tr th:only-of-type {\n",
       "        vertical-align: middle;\n",
       "    }\n",
       "\n",
       "    .dataframe tbody tr th {\n",
       "        vertical-align: top;\n",
       "    }\n",
       "\n",
       "    .dataframe thead th {\n",
       "        text-align: right;\n",
       "    }\n",
       "</style>\n",
       "<table border=\"1\" class=\"dataframe\">\n",
       "  <thead>\n",
       "    <tr style=\"text-align: right;\">\n",
       "      <th></th>\n",
       "      <th>pca1</th>\n",
       "      <th>pca2</th>\n",
       "    </tr>\n",
       "  </thead>\n",
       "  <tbody>\n",
       "    <tr>\n",
       "      <th>0</th>\n",
       "      <td>-1.682220</td>\n",
       "      <td>-1.076452</td>\n",
       "    </tr>\n",
       "    <tr>\n",
       "      <th>1</th>\n",
       "      <td>-1.138295</td>\n",
       "      <td>2.506472</td>\n",
       "    </tr>\n",
       "    <tr>\n",
       "      <th>2</th>\n",
       "      <td>0.969683</td>\n",
       "      <td>-0.383512</td>\n",
       "    </tr>\n",
       "    <tr>\n",
       "      <th>3</th>\n",
       "      <td>-0.873627</td>\n",
       "      <td>0.043161</td>\n",
       "    </tr>\n",
       "    <tr>\n",
       "      <th>4</th>\n",
       "      <td>-1.599434</td>\n",
       "      <td>-0.688580</td>\n",
       "    </tr>\n",
       "  </tbody>\n",
       "</table>\n",
       "</div>"
      ],
      "text/plain": [
       "       pca1      pca2\n",
       "0 -1.682220 -1.076452\n",
       "1 -1.138295  2.506472\n",
       "2  0.969683 -0.383512\n",
       "3 -0.873627  0.043161\n",
       "4 -1.599434 -0.688580"
      ]
     },
     "execution_count": 66,
     "metadata": {},
     "output_type": "execute_result"
    }
   ],
   "source": [
    "# Criar um dataframe para colocar em qual cluster cada um dos registros pertence\n",
    "pca_df = pd.DataFrame(data = principal_comp, columns=['pca1', 'pca2'])\n",
    "pca_df.head()"
   ]
  },
  {
   "cell_type": "code",
   "execution_count": 67,
   "id": "ea436385",
   "metadata": {
    "ExecuteTime": {
     "end_time": "2023-04-24T18:07:03.282730Z",
     "start_time": "2023-04-24T18:07:03.237422Z"
    }
   },
   "outputs": [
    {
     "data": {
      "text/html": [
       "<div>\n",
       "<style scoped>\n",
       "    .dataframe tbody tr th:only-of-type {\n",
       "        vertical-align: middle;\n",
       "    }\n",
       "\n",
       "    .dataframe tbody tr th {\n",
       "        vertical-align: top;\n",
       "    }\n",
       "\n",
       "    .dataframe thead th {\n",
       "        text-align: right;\n",
       "    }\n",
       "</style>\n",
       "<table border=\"1\" class=\"dataframe\">\n",
       "  <thead>\n",
       "    <tr style=\"text-align: right;\">\n",
       "      <th></th>\n",
       "      <th>pca1</th>\n",
       "      <th>pca2</th>\n",
       "      <th>cluster</th>\n",
       "    </tr>\n",
       "  </thead>\n",
       "  <tbody>\n",
       "    <tr>\n",
       "      <th>0</th>\n",
       "      <td>-1.682220</td>\n",
       "      <td>-1.076452</td>\n",
       "      <td>1</td>\n",
       "    </tr>\n",
       "    <tr>\n",
       "      <th>1</th>\n",
       "      <td>-1.138295</td>\n",
       "      <td>2.506472</td>\n",
       "      <td>0</td>\n",
       "    </tr>\n",
       "    <tr>\n",
       "      <th>2</th>\n",
       "      <td>0.969683</td>\n",
       "      <td>-0.383512</td>\n",
       "      <td>5</td>\n",
       "    </tr>\n",
       "    <tr>\n",
       "      <th>3</th>\n",
       "      <td>-0.873627</td>\n",
       "      <td>0.043161</td>\n",
       "      <td>1</td>\n",
       "    </tr>\n",
       "    <tr>\n",
       "      <th>4</th>\n",
       "      <td>-1.599434</td>\n",
       "      <td>-0.688580</td>\n",
       "      <td>1</td>\n",
       "    </tr>\n",
       "  </tbody>\n",
       "</table>\n",
       "</div>"
      ],
      "text/plain": [
       "       pca1      pca2  cluster\n",
       "0 -1.682220 -1.076452        1\n",
       "1 -1.138295  2.506472        0\n",
       "2  0.969683 -0.383512        5\n",
       "3 -0.873627  0.043161        1\n",
       "4 -1.599434 -0.688580        1"
      ]
     },
     "execution_count": 67,
     "metadata": {},
     "output_type": "execute_result"
    }
   ],
   "source": [
    "# Vamos adicionar cluster, para isso vamos criar um novo dataframe\n",
    "pca_df = pd.concat([pca_df, pd.DataFrame({'cluster': labels})], axis = 1)\n",
    "pca_df.head()"
   ]
  },
  {
   "cell_type": "code",
   "execution_count": 68,
   "id": "5f2b17dc",
   "metadata": {
    "ExecuteTime": {
     "end_time": "2023-04-24T18:07:04.304613Z",
     "start_time": "2023-04-24T18:07:03.289728Z"
    }
   },
   "outputs": [
    {
     "data": {
      "image/png": "[encoded data removed]",
      "text/plain": [
       "<Figure size 720x720 with 1 Axes>"
      ]
     },
     "metadata": {},
     "output_type": "display_data"
    }
   ],
   "source": [
    "# Visualização de cada grupo de maneira gráfica\n",
    "plt.figure(figsize=(10,10))\n",
    "#sns.scatterplot(x = 'pca1', y = 'pca2', hue = 'cluster', data = pca_df, palette = ['red', 'green', 'blue', 'pink', 'yellow', 'gray', 'purple', 'black']);\n",
    "sns.scatterplot(x = 'pca1', y = 'pca2', hue = 'cluster', data = pca_df, palette = ['red', 'green', 'blue', 'pink', 'yellow', 'gray']);"
   ]
  },
  {
   "cell_type": "markdown",
   "id": "690fc845",
   "metadata": {},
   "source": [
    "**Nota:**\n",
    "- Desta forma fica melhor a visualização, porque podemos observar os grupos de maneira gráfica.\n",
    "- Fazemos a redução de dimensionalidade, justamente para conseguir visualizar no gráfico como os grupos estão dispostos.\n",
    "- Mas não é possivél indicar que 'pca1' é o 'Balance' e o 'pca2' é o 'Purchases', porque foi feito uma redução de dimensionalidade e teve um algoritmo que fez toda a combinação dos atributos.\n",
    "- Este gráfico é mais para conseguir visualizar melhor os dados."
   ]
  },
  {
   "cell_type": "markdown",
   "id": "e4f419a4",
   "metadata": {},
   "source": [
    "# <font color='red'> 8 - IMPLEMENTAR O MODELO PARA A PRODUÇÃO\n",
    "<a id='producao'></a>"
   ]
  },
  {
   "cell_type": "markdown",
   "id": "50cb5a1d",
   "metadata": {},
   "source": [
    "## <font color='blue'> PASSO 7 - Modelo em Produção\n",
    "<a id='passo10'></a>"
   ]
  },
  {
   "cell_type": "markdown",
   "id": "fd70e8b5",
   "metadata": {},
   "source": [
    "Criar uma codificação adicional simulando como se fosse enviar essa base de dados para o departamento de Marketing."
   ]
  },
  {
   "cell_type": "code",
   "execution_count": 69,
   "id": "a2a4f9d4",
   "metadata": {
    "ExecuteTime": {
     "end_time": "2023-04-24T18:07:04.367579Z",
     "start_time": "2023-04-24T18:07:04.304613Z"
    }
   },
   "outputs": [
    {
     "data": {
      "text/html": [
       "<div>\n",
       "<style scoped>\n",
       "    .dataframe tbody tr th:only-of-type {\n",
       "        vertical-align: middle;\n",
       "    }\n",
       "\n",
       "    .dataframe tbody tr th {\n",
       "        vertical-align: top;\n",
       "    }\n",
       "\n",
       "    .dataframe thead th {\n",
       "        text-align: right;\n",
       "    }\n",
       "</style>\n",
       "<table border=\"1\" class=\"dataframe\">\n",
       "  <thead>\n",
       "    <tr style=\"text-align: right;\">\n",
       "      <th></th>\n",
       "      <th>balance</th>\n",
       "      <th>balance_frequency</th>\n",
       "      <th>purchases</th>\n",
       "      <th>oneoff_purchases</th>\n",
       "      <th>installments_purchases</th>\n",
       "      <th>cash_advance</th>\n",
       "      <th>purchases_frequency</th>\n",
       "      <th>oneoff_purchases_frequency</th>\n",
       "      <th>purchases_installments_frequency</th>\n",
       "      <th>cash_advance_frequency</th>\n",
       "      <th>cash_advance_trx</th>\n",
       "      <th>purchases_trx</th>\n",
       "      <th>credit_limit</th>\n",
       "      <th>payments</th>\n",
       "      <th>minimum_payments</th>\n",
       "      <th>prc_full_payment</th>\n",
       "      <th>tenure</th>\n",
       "      <th>cluster</th>\n",
       "    </tr>\n",
       "  </thead>\n",
       "  <tbody>\n",
       "    <tr>\n",
       "      <th>3771</th>\n",
       "      <td>7899.171076</td>\n",
       "      <td>1.0</td>\n",
       "      <td>0.00</td>\n",
       "      <td>0.00</td>\n",
       "      <td>0.0</td>\n",
       "      <td>11657.312440</td>\n",
       "      <td>0.0</td>\n",
       "      <td>0.000000</td>\n",
       "      <td>0.000000</td>\n",
       "      <td>0.500000</td>\n",
       "      <td>12</td>\n",
       "      <td>0</td>\n",
       "      <td>13000.0</td>\n",
       "      <td>1646.946937</td>\n",
       "      <td>2154.909881</td>\n",
       "      <td>0.0</td>\n",
       "      <td>12</td>\n",
       "      <td>0</td>\n",
       "    </tr>\n",
       "    <tr>\n",
       "      <th>755</th>\n",
       "      <td>10397.099890</td>\n",
       "      <td>1.0</td>\n",
       "      <td>0.00</td>\n",
       "      <td>0.00</td>\n",
       "      <td>0.0</td>\n",
       "      <td>4045.620171</td>\n",
       "      <td>0.0</td>\n",
       "      <td>0.000000</td>\n",
       "      <td>0.000000</td>\n",
       "      <td>0.250000</td>\n",
       "      <td>6</td>\n",
       "      <td>0</td>\n",
       "      <td>13000.0</td>\n",
       "      <td>3222.169406</td>\n",
       "      <td>2818.707479</td>\n",
       "      <td>0.0</td>\n",
       "      <td>12</td>\n",
       "      <td>0</td>\n",
       "    </tr>\n",
       "    <tr>\n",
       "      <th>5913</th>\n",
       "      <td>13777.377720</td>\n",
       "      <td>1.0</td>\n",
       "      <td>0.00</td>\n",
       "      <td>0.00</td>\n",
       "      <td>0.0</td>\n",
       "      <td>1675.249576</td>\n",
       "      <td>0.0</td>\n",
       "      <td>0.000000</td>\n",
       "      <td>0.000000</td>\n",
       "      <td>0.666667</td>\n",
       "      <td>11</td>\n",
       "      <td>0</td>\n",
       "      <td>14500.0</td>\n",
       "      <td>3054.844697</td>\n",
       "      <td>3242.471295</td>\n",
       "      <td>0.0</td>\n",
       "      <td>12</td>\n",
       "      <td>0</td>\n",
       "    </tr>\n",
       "    <tr>\n",
       "      <th>2467</th>\n",
       "      <td>6437.924230</td>\n",
       "      <td>1.0</td>\n",
       "      <td>716.76</td>\n",
       "      <td>54.46</td>\n",
       "      <td>662.3</td>\n",
       "      <td>2365.445125</td>\n",
       "      <td>1.0</td>\n",
       "      <td>0.083333</td>\n",
       "      <td>0.916667</td>\n",
       "      <td>0.416667</td>\n",
       "      <td>10</td>\n",
       "      <td>33</td>\n",
       "      <td>7000.0</td>\n",
       "      <td>1364.331914</td>\n",
       "      <td>1968.717366</td>\n",
       "      <td>0.0</td>\n",
       "      <td>12</td>\n",
       "      <td>0</td>\n",
       "    </tr>\n",
       "    <tr>\n",
       "      <th>3984</th>\n",
       "      <td>8121.778586</td>\n",
       "      <td>1.0</td>\n",
       "      <td>231.14</td>\n",
       "      <td>52.44</td>\n",
       "      <td>178.7</td>\n",
       "      <td>2992.209093</td>\n",
       "      <td>1.0</td>\n",
       "      <td>0.083333</td>\n",
       "      <td>1.000000</td>\n",
       "      <td>0.250000</td>\n",
       "      <td>18</td>\n",
       "      <td>14</td>\n",
       "      <td>12000.0</td>\n",
       "      <td>2143.672319</td>\n",
       "      <td>2870.329811</td>\n",
       "      <td>0.0</td>\n",
       "      <td>12</td>\n",
       "      <td>0</td>\n",
       "    </tr>\n",
       "  </tbody>\n",
       "</table>\n",
       "</div>"
      ],
      "text/plain": [
       "           balance  balance_frequency  purchases  oneoff_purchases  \\\n",
       "3771   7899.171076                1.0       0.00              0.00   \n",
       "755   10397.099890                1.0       0.00              0.00   \n",
       "5913  13777.377720                1.0       0.00              0.00   \n",
       "2467   6437.924230                1.0     716.76             54.46   \n",
       "3984   8121.778586                1.0     231.14             52.44   \n",
       "\n",
       "      installments_purchases  cash_advance  purchases_frequency  \\\n",
       "3771                     0.0  11657.312440                  0.0   \n",
       "755                      0.0   4045.620171                  0.0   \n",
       "5913                     0.0   1675.249576                  0.0   \n",
       "2467                   662.3   2365.445125                  1.0   \n",
       "3984                   178.7   2992.209093                  1.0   \n",
       "\n",
       "      oneoff_purchases_frequency  purchases_installments_frequency  \\\n",
       "3771                    0.000000                          0.000000   \n",
       "755                     0.000000                          0.000000   \n",
       "5913                    0.000000                          0.000000   \n",
       "2467                    0.083333                          0.916667   \n",
       "3984                    0.083333                          1.000000   \n",
       "\n",
       "      cash_advance_frequency  cash_advance_trx  purchases_trx  credit_limit  \\\n",
       "3771                0.500000                12              0       13000.0   \n",
       "755                 0.250000                 6              0       13000.0   \n",
       "5913                0.666667                11              0       14500.0   \n",
       "2467                0.416667                10             33        7000.0   \n",
       "3984                0.250000                18             14       12000.0   \n",
       "\n",
       "         payments  minimum_payments  prc_full_payment  tenure  cluster  \n",
       "3771  1646.946937       2154.909881               0.0      12        0  \n",
       "755   3222.169406       2818.707479               0.0      12        0  \n",
       "5913  3054.844697       3242.471295               0.0      12        0  \n",
       "2467  1364.331914       1968.717366               0.0      12        0  \n",
       "3984  2143.672319       2870.329811               0.0      12        0  "
      ]
     },
     "execution_count": 69,
     "metadata": {},
     "output_type": "execute_result"
    }
   ],
   "source": [
    "# Ordenando a base pelo atributo cluster em uma nova variável\n",
    "df_cluster_ordenado = df_cluster.sort_values(by = 'cluster')\n",
    "df_cluster_ordenado.head()"
   ]
  },
  {
   "cell_type": "code",
   "execution_count": 70,
   "id": "7ebc66dc",
   "metadata": {
    "ExecuteTime": {
     "end_time": "2023-04-24T18:07:04.430819Z",
     "start_time": "2023-04-24T18:07:04.371556Z"
    }
   },
   "outputs": [
    {
     "data": {
      "text/html": [
       "<div>\n",
       "<style scoped>\n",
       "    .dataframe tbody tr th:only-of-type {\n",
       "        vertical-align: middle;\n",
       "    }\n",
       "\n",
       "    .dataframe tbody tr th {\n",
       "        vertical-align: top;\n",
       "    }\n",
       "\n",
       "    .dataframe thead th {\n",
       "        text-align: right;\n",
       "    }\n",
       "</style>\n",
       "<table border=\"1\" class=\"dataframe\">\n",
       "  <thead>\n",
       "    <tr style=\"text-align: right;\">\n",
       "      <th></th>\n",
       "      <th>balance</th>\n",
       "      <th>balance_frequency</th>\n",
       "      <th>purchases</th>\n",
       "      <th>oneoff_purchases</th>\n",
       "      <th>installments_purchases</th>\n",
       "      <th>cash_advance</th>\n",
       "      <th>purchases_frequency</th>\n",
       "      <th>oneoff_purchases_frequency</th>\n",
       "      <th>purchases_installments_frequency</th>\n",
       "      <th>cash_advance_frequency</th>\n",
       "      <th>cash_advance_trx</th>\n",
       "      <th>purchases_trx</th>\n",
       "      <th>credit_limit</th>\n",
       "      <th>payments</th>\n",
       "      <th>minimum_payments</th>\n",
       "      <th>prc_full_payment</th>\n",
       "      <th>tenure</th>\n",
       "      <th>cluster</th>\n",
       "    </tr>\n",
       "  </thead>\n",
       "  <tbody>\n",
       "    <tr>\n",
       "      <th>7118</th>\n",
       "      <td>887.090835</td>\n",
       "      <td>1.000000</td>\n",
       "      <td>4349.38</td>\n",
       "      <td>4026.08</td>\n",
       "      <td>323.30</td>\n",
       "      <td>0.000000</td>\n",
       "      <td>0.833333</td>\n",
       "      <td>0.666667</td>\n",
       "      <td>0.583333</td>\n",
       "      <td>0.00</td>\n",
       "      <td>0</td>\n",
       "      <td>31</td>\n",
       "      <td>3000.0</td>\n",
       "      <td>4388.029841</td>\n",
       "      <td>237.336329</td>\n",
       "      <td>0.083333</td>\n",
       "      <td>12</td>\n",
       "      <td>5</td>\n",
       "    </tr>\n",
       "    <tr>\n",
       "      <th>811</th>\n",
       "      <td>3405.005439</td>\n",
       "      <td>1.000000</td>\n",
       "      <td>8.40</td>\n",
       "      <td>8.40</td>\n",
       "      <td>0.00</td>\n",
       "      <td>0.000000</td>\n",
       "      <td>1.000000</td>\n",
       "      <td>1.000000</td>\n",
       "      <td>0.000000</td>\n",
       "      <td>0.00</td>\n",
       "      <td>0</td>\n",
       "      <td>12</td>\n",
       "      <td>10500.0</td>\n",
       "      <td>1015.698271</td>\n",
       "      <td>795.091125</td>\n",
       "      <td>0.000000</td>\n",
       "      <td>12</td>\n",
       "      <td>5</td>\n",
       "    </tr>\n",
       "    <tr>\n",
       "      <th>7111</th>\n",
       "      <td>1486.652099</td>\n",
       "      <td>1.000000</td>\n",
       "      <td>3670.46</td>\n",
       "      <td>2603.58</td>\n",
       "      <td>1066.88</td>\n",
       "      <td>371.312458</td>\n",
       "      <td>1.000000</td>\n",
       "      <td>0.750000</td>\n",
       "      <td>1.000000</td>\n",
       "      <td>0.25</td>\n",
       "      <td>4</td>\n",
       "      <td>82</td>\n",
       "      <td>4000.0</td>\n",
       "      <td>1098.980289</td>\n",
       "      <td>912.345850</td>\n",
       "      <td>0.000000</td>\n",
       "      <td>12</td>\n",
       "      <td>5</td>\n",
       "    </tr>\n",
       "    <tr>\n",
       "      <th>7152</th>\n",
       "      <td>416.601199</td>\n",
       "      <td>1.000000</td>\n",
       "      <td>4266.25</td>\n",
       "      <td>2214.05</td>\n",
       "      <td>2052.20</td>\n",
       "      <td>0.000000</td>\n",
       "      <td>1.000000</td>\n",
       "      <td>1.000000</td>\n",
       "      <td>1.000000</td>\n",
       "      <td>0.00</td>\n",
       "      <td>0</td>\n",
       "      <td>67</td>\n",
       "      <td>4000.0</td>\n",
       "      <td>3822.475208</td>\n",
       "      <td>188.571741</td>\n",
       "      <td>0.000000</td>\n",
       "      <td>12</td>\n",
       "      <td>5</td>\n",
       "    </tr>\n",
       "    <tr>\n",
       "      <th>7252</th>\n",
       "      <td>16.967335</td>\n",
       "      <td>0.181818</td>\n",
       "      <td>2767.85</td>\n",
       "      <td>495.59</td>\n",
       "      <td>2272.26</td>\n",
       "      <td>0.000000</td>\n",
       "      <td>1.000000</td>\n",
       "      <td>1.000000</td>\n",
       "      <td>1.000000</td>\n",
       "      <td>0.00</td>\n",
       "      <td>0</td>\n",
       "      <td>36</td>\n",
       "      <td>3000.0</td>\n",
       "      <td>1322.585206</td>\n",
       "      <td>14.012997</td>\n",
       "      <td>0.000000</td>\n",
       "      <td>12</td>\n",
       "      <td>5</td>\n",
       "    </tr>\n",
       "  </tbody>\n",
       "</table>\n",
       "</div>"
      ],
      "text/plain": [
       "          balance  balance_frequency  purchases  oneoff_purchases  \\\n",
       "7118   887.090835           1.000000    4349.38           4026.08   \n",
       "811   3405.005439           1.000000       8.40              8.40   \n",
       "7111  1486.652099           1.000000    3670.46           2603.58   \n",
       "7152   416.601199           1.000000    4266.25           2214.05   \n",
       "7252    16.967335           0.181818    2767.85            495.59   \n",
       "\n",
       "      installments_purchases  cash_advance  purchases_frequency  \\\n",
       "7118                  323.30      0.000000             0.833333   \n",
       "811                     0.00      0.000000             1.000000   \n",
       "7111                 1066.88    371.312458             1.000000   \n",
       "7152                 2052.20      0.000000             1.000000   \n",
       "7252                 2272.26      0.000000             1.000000   \n",
       "\n",
       "      oneoff_purchases_frequency  purchases_installments_frequency  \\\n",
       "7118                    0.666667                          0.583333   \n",
       "811                     1.000000                          0.000000   \n",
       "7111                    0.750000                          1.000000   \n",
       "7152                    1.000000                          1.000000   \n",
       "7252                    1.000000                          1.000000   \n",
       "\n",
       "      cash_advance_frequency  cash_advance_trx  purchases_trx  credit_limit  \\\n",
       "7118                    0.00                 0             31        3000.0   \n",
       "811                     0.00                 0             12       10500.0   \n",
       "7111                    0.25                 4             82        4000.0   \n",
       "7152                    0.00                 0             67        4000.0   \n",
       "7252                    0.00                 0             36        3000.0   \n",
       "\n",
       "         payments  minimum_payments  prc_full_payment  tenure  cluster  \n",
       "7118  4388.029841        237.336329          0.083333      12        5  \n",
       "811   1015.698271        795.091125          0.000000      12        5  \n",
       "7111  1098.980289        912.345850          0.000000      12        5  \n",
       "7152  3822.475208        188.571741          0.000000      12        5  \n",
       "7252  1322.585206         14.012997          0.000000      12        5  "
      ]
     },
     "execution_count": 70,
     "metadata": {},
     "output_type": "execute_result"
    }
   ],
   "source": [
    "df_cluster_ordenado.tail()"
   ]
  },
  {
   "cell_type": "code",
   "execution_count": 71,
   "id": "56ac6718",
   "metadata": {
    "ExecuteTime": {
     "end_time": "2023-04-24T18:07:04.711628Z",
     "start_time": "2023-04-24T18:07:04.434872Z"
    }
   },
   "outputs": [],
   "source": [
    "# Salvando o arquivo\n",
    "df_cluster_ordenado.to_csv('cluster.csv')"
   ]
  },
  {
   "cell_type": "markdown",
   "id": "30f3b1e7",
   "metadata": {},
   "source": [
    "# <font color='red'> 9 - INSIGHTS"
   ]
  },
  {
   "cell_type": "markdown",
   "id": "4d22cfda",
   "metadata": {},
   "source": [
    "**Resumo dos insights durante análise exploratória de dados (EDA):**\n"
   ]
  },
  {
   "cell_type": "markdown",
   "id": "63458d84",
   "metadata": {},
   "source": [
    "- Separar um grupo de cliente que possuem uma tendência maior a sacar dinheiro do limite do cartão de crédito, pois assim o banco poderia aumentar o limite e os clientes poderia sacar mais dinheiro e o banco passaria a ganhar mais.\n",
    "- Poderiamos separar grupos, pessoas que faz compra a vista e pessoas que faz compras a prazo, para que o banco possa enviar campanha de marketing diferentes.\n",
    "- No atributo **Purchases_frequency**, podemos identificar dois grupos, um grupo de que usa muito o cartão de crédito e outro que praticamente não usa cartão de crédito, desta forma o banco pode análisar e mandar campanha diferente para cada perfil de cliente."
   ]
  },
  {
   "cell_type": "markdown",
   "id": "66f6724c",
   "metadata": {},
   "source": [
    "# <font color='red'> 10 - PRÓXIMO PASSOS"
   ]
  },
  {
   "cell_type": "markdown",
   "id": "b830c6bc",
   "metadata": {},
   "source": [
    "- Aplicação de autoencoders que são um tipo de redes neurais artificiais para codificar dados, uma forma alternativa para a aplicação do PCA. \n",
    "- Realiizar a Análise exploratória dos dados com objetivo de gerar insights."
   ]
  },
  {
   "cell_type": "code",
   "execution_count": null,
   "id": "2be58333",
   "metadata": {},
   "outputs": [],
   "source": []
  }
 ],
 "metadata": {
  "kernelspec": {
   "display_name": "Python 3 (ipykernel)",
   "language": "python",
   "name": "python3"
  },
  "language_info": {
   "codemirror_mode": {
    "name": "ipython",
    "version": 3
   },
   "file_extension": ".py",
   "mimetype": "text/x-python",
   "name": "python",
   "nbconvert_exporter": "python",
   "pygments_lexer": "ipython3",
   "version": "3.9.12"
  }
 },
 "nbformat": 4,
 "nbformat_minor": 5
}
